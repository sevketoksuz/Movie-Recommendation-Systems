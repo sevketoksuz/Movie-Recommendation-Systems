{
 "cells": [
  {
   "cell_type": "code",
   "execution_count": 10,
   "metadata": {},
   "outputs": [],
   "source": [
    "from sklearn.decomposition import NMF\n",
    "from sklearn.metrics import mean_squared_error\n",
    "import numpy as np\n",
    "import pandas as pd\n",
    "from surprise import Dataset, Reader"
   ]
  },
  {
   "cell_type": "code",
   "execution_count": 11,
   "metadata": {},
   "outputs": [],
   "source": [
    "def load_data(file_path):\n",
    "    df = pd.read_csv(file_path, usecols=['userId', 'movieId', 'rating'])\n",
    "    return df\n",
    "\n",
    "def prepare_data_for_surprise(dataframe):\n",
    "    reader = Reader(rating_scale=(1, 5))\n",
    "    data = Dataset.load_from_df(dataframe[['userId', 'movieId', 'rating']], reader)\n",
    "    return data\n",
    "\n",
    "traindf = load_data('./datasets/training_data.csv')\n",
    "\n",
    "data = prepare_data_for_surprise(traindf)"
   ]
  },
  {
   "cell_type": "code",
   "execution_count": 12,
   "metadata": {},
   "outputs": [],
   "source": [
    "ratings_matrix_preprocessed = traindf.groupby(['userId', 'movieId'])['rating'].mean().reset_index()\n",
    "\n",
    "ratings_matrix = ratings_matrix_preprocessed.pivot(index='userId', columns='movieId', values='rating').fillna(0)\n",
    "R = ratings_matrix.values"
   ]
  },
  {
   "cell_type": "code",
   "execution_count": 13,
   "metadata": {},
   "outputs": [],
   "source": [
    "n_factors = 15\n",
    "n_epochs = 30"
   ]
  },
  {
   "cell_type": "code",
   "execution_count": 14,
   "metadata": {},
   "outputs": [
    {
     "name": "stderr",
     "output_type": "stream",
     "text": [
      "c:\\ProgramData\\anaconda3\\Lib\\site-packages\\sklearn\\decomposition\\_nmf.py:1665: ConvergenceWarning: Maximum number of iterations 30 reached. Increase it to improve convergence.\n",
      "  warnings.warn(\n"
     ]
    }
   ],
   "source": [
    "nmf_sklearn = NMF(n_components=n_factors, max_iter=n_epochs, init='random', random_state=0)\n",
    "W = nmf_sklearn.fit_transform(R)\n",
    "H = nmf_sklearn.components_\n",
    "\n",
    "predicted_ratings = np.dot(W, H)\n",
    "actual_ratings = R"
   ]
  },
  {
   "cell_type": "code",
   "execution_count": 15,
   "metadata": {},
   "outputs": [
    {
     "name": "stdout",
     "output_type": "stream",
     "text": [
      "Scikit-learn NMF RMSE: 0.5573695035192058\n"
     ]
    }
   ],
   "source": [
    "mse = mean_squared_error(actual_ratings, predicted_ratings)\n",
    "rmse_sklearn = np.sqrt(mse)\n",
    "\n",
    "print(f\"Scikit-learn NMF RMSE: {rmse_sklearn}\")"
   ]
  },
  {
   "cell_type": "code",
   "execution_count": 16,
   "metadata": {},
   "outputs": [
    {
     "name": "stdout",
     "output_type": "stream",
     "text": [
      "Accuracy (within ±0.5 of actual rating): 92.03%\n"
     ]
    },
    {
     "name": "stderr",
     "output_type": "stream",
     "text": [
      "C:\\Users\\ŞEVKET\\AppData\\Local\\Temp\\ipykernel_9300\\2071082530.py:10: DeprecationWarning: `product` is deprecated as of NumPy 1.25.0, and will be removed in NumPy 2.0. Please use `prod` instead.\n",
      "  threshold_accuracy = calculate_threshold_accuracy(actual_ratings, predicted_ratings, threshold=0.5)\n"
     ]
    }
   ],
   "source": [
    "def calculate_threshold_accuracy(actual_ratings, predicted_ratings, threshold=0.5):\n",
    "    differences = np.abs(actual_ratings - predicted_ratings)\n",
    "    correct_predictions = np.sum(differences <= threshold)\n",
    "    total_predictions = np.product(differences.shape)\n",
    "    accuracy = correct_predictions / total_predictions\n",
    "    return accuracy\n",
    "\n",
    "threshold = 0.5\n",
    "\n",
    "threshold_accuracy = calculate_threshold_accuracy(actual_ratings, predicted_ratings, threshold=0.5)\n",
    "print(f\"Accuracy (within ±{threshold} of actual rating): {threshold_accuracy:.2%}\")\n"
   ]
  },
  {
   "cell_type": "code",
   "execution_count": 17,
   "metadata": {},
   "outputs": [],
   "source": [
    "df_movies = pd.read_csv('./datasets/Movies.csv')"
   ]
  },
  {
   "cell_type": "code",
   "execution_count": 18,
   "metadata": {},
   "outputs": [
    {
     "data": {
      "text/html": [
       "<div>\n",
       "<style scoped>\n",
       "    .dataframe tbody tr th:only-of-type {\n",
       "        vertical-align: middle;\n",
       "    }\n",
       "\n",
       "    .dataframe tbody tr th {\n",
       "        vertical-align: top;\n",
       "    }\n",
       "\n",
       "    .dataframe thead th {\n",
       "        text-align: right;\n",
       "    }\n",
       "</style>\n",
       "<table border=\"1\" class=\"dataframe\">\n",
       "  <thead>\n",
       "    <tr style=\"text-align: right;\">\n",
       "      <th></th>\n",
       "      <th>movieId</th>\n",
       "      <th>title</th>\n",
       "      <th>genres</th>\n",
       "    </tr>\n",
       "  </thead>\n",
       "  <tbody>\n",
       "    <tr>\n",
       "      <th>659</th>\n",
       "      <td>858</td>\n",
       "      <td>Godfather, The (1972)</td>\n",
       "      <td>['Crime', 'Drama']</td>\n",
       "    </tr>\n",
       "    <tr>\n",
       "      <th>686</th>\n",
       "      <td>904</td>\n",
       "      <td>Rear Window (1954)</td>\n",
       "      <td>['Mystery', 'Thriller']</td>\n",
       "    </tr>\n",
       "    <tr>\n",
       "      <th>863</th>\n",
       "      <td>1136</td>\n",
       "      <td>Monty Python and the Holy Grail (1975)</td>\n",
       "      <td>['Adventure', 'Comedy', 'Fantasy']</td>\n",
       "    </tr>\n",
       "    <tr>\n",
       "      <th>946</th>\n",
       "      <td>1247</td>\n",
       "      <td>Graduate, The (1967)</td>\n",
       "      <td>['Comedy', 'Drama', 'Romance']</td>\n",
       "    </tr>\n",
       "    <tr>\n",
       "      <th>2145</th>\n",
       "      <td>2858</td>\n",
       "      <td>American Beauty (1999)</td>\n",
       "      <td>['Drama', 'Romance']</td>\n",
       "    </tr>\n",
       "  </tbody>\n",
       "</table>\n",
       "</div>"
      ],
      "text/plain": [
       "      movieId                                   title  \\\n",
       "659       858                   Godfather, The (1972)   \n",
       "686       904                      Rear Window (1954)   \n",
       "863      1136  Monty Python and the Holy Grail (1975)   \n",
       "946      1247                    Graduate, The (1967)   \n",
       "2145     2858                  American Beauty (1999)   \n",
       "\n",
       "                                  genres  \n",
       "659                   ['Crime', 'Drama']  \n",
       "686              ['Mystery', 'Thriller']  \n",
       "863   ['Adventure', 'Comedy', 'Fantasy']  \n",
       "946       ['Comedy', 'Drama', 'Romance']  \n",
       "2145                ['Drama', 'Romance']  "
      ]
     },
     "execution_count": 18,
     "metadata": {},
     "output_type": "execute_result"
    }
   ],
   "source": [
    "def show_user_recommendations_sklearn(user_id, predicted_ratings, ratings_matrix, df_movies, n_recommendations=5):\n",
    "    user_predicted_ratings = predicted_ratings[user_id]\n",
    "\n",
    "    top_movie_indices = np.argsort(-user_predicted_ratings)[:n_recommendations]\n",
    "\n",
    "    top_movie_ids = ratings_matrix.columns[top_movie_indices].tolist()\n",
    "\n",
    "    recommended_movies_df = df_movies[df_movies['movieId'].isin(top_movie_ids)]\n",
    "\n",
    "    return recommended_movies_df\n",
    "\n",
    "user_id = 3\n",
    "n_recommendations = 5\n",
    "recommended_movies_df = show_user_recommendations_sklearn(user_id, predicted_ratings, ratings_matrix, df_movies, n_recommendations)\n",
    "\n",
    "recommended_movies_df"
   ]
  },
  {
   "cell_type": "code",
   "execution_count": null,
   "metadata": {},
   "outputs": [],
   "source": []
  }
 ],
 "metadata": {
  "kernelspec": {
   "display_name": "base",
   "language": "python",
   "name": "python3"
  },
  "language_info": {
   "codemirror_mode": {
    "name": "ipython",
    "version": 3
   },
   "file_extension": ".py",
   "mimetype": "text/x-python",
   "name": "python",
   "nbconvert_exporter": "python",
   "pygments_lexer": "ipython3",
   "version": "3.11.7"
  }
 },
 "nbformat": 4,
 "nbformat_minor": 2
}
