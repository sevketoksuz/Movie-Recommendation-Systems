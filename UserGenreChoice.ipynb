{
 "cells": [
  {
   "cell_type": "code",
   "execution_count": null,
   "id": "ed126ace",
   "metadata": {},
   "outputs": [],
   "source": [
    "import pandas as pd\n",
    "import numpy as np\n",
    "from math import sqrt\n",
    "\n",
    "from sklearn.decomposition import NMF\n",
    "from sklearn.preprocessing import MinMaxScaler, normalize\n",
    "from sklearn.feature_extraction.text import TfidfVectorizer\n",
    "\n",
    "import warnings\n",
    "warnings.filterwarnings('ignore')"
   ]
  },
  {
   "cell_type": "code",
   "execution_count": null,
   "id": "3101c39e",
   "metadata": {},
   "outputs": [],
   "source": [
    "def load_data(ratings_file_path, features_file_path):\n",
    "    \"\"\"\n",
    "    Loads and returns datasets for ratings and movie features from specified file paths.\n",
    "\n",
    "    Parameters\n",
    "    ----------\n",
    "    ratings_file_path : str\n",
    "        Path to the CSV file containing user ratings with columns: userId, movieId, and rating.\n",
    "    features_file_path : str\n",
    "        Path to the CSV file containing movie features.\n",
    "\n",
    "    Returns\n",
    "    -------\n",
    "    tuple of pd.DataFrame\n",
    "        Returns two pandas DataFrames: one for ratings and another for movie features.\n",
    "\n",
    "    \"\"\"\n",
    "    dtype_ratings = {\n",
    "        'userId': 'int32',\n",
    "        'movieId': 'int32',\n",
    "        'rating': 'float32'\n",
    "    }\n",
    "    dtype_features = {\n",
    "        'movieId': 'int32'\n",
    "    }\n",
    "\n",
    "    df_ratings = pd.read_csv(ratings_file_path, dtype=dtype_ratings)\n",
    "    df_features = pd.read_csv(features_file_path, dtype=dtype_features)\n",
    "    \n",
    "    return df_ratings, df_features"
   ]
  },
  {
   "cell_type": "code",
   "execution_count": null,
   "id": "4b2d3088",
   "metadata": {},
   "outputs": [],
   "source": [
    "traindf, df_movies = load_data('./datasets/training_data.csv', './datasets/movies.csv')"
   ]
  },
  {
   "cell_type": "code",
   "execution_count": null,
   "id": "49170aaa",
   "metadata": {},
   "outputs": [],
   "source": [
    "# Ensure 'movieId' columns are of type int\n",
    "traindf['movieId'] = traindf['movieId'].astype('int')\n",
    "df_movies['movieId'] = df_movies['movieId'].astype('int')"
   ]
  },
  {
   "cell_type": "code",
   "execution_count": null,
   "id": "3e3d29fe",
   "metadata": {},
   "outputs": [],
   "source": [
    "# Align movie features to training data\n",
    "df_movies_aligned = df_movies[df_movies['movieId'].isin(traindf['movieId'].unique())]\n",
    "df_movies_aligned = df_movies_aligned.dropna(subset=['genres'])"
   ]
  },
  {
   "cell_type": "code",
   "execution_count": null,
   "id": "47625bd0",
   "metadata": {},
   "outputs": [],
   "source": [
    "# Convert user and movie IDs to categorical types\n",
    "user_categories = pd.Categorical(traindf['userId'])\n",
    "item_categories = pd.Categorical(traindf['movieId'])"
   ]
  },
  {
   "cell_type": "code",
   "execution_count": null,
   "id": "830a6003",
   "metadata": {},
   "outputs": [],
   "source": [
    "# Convert user and item IDs to numerical codes\n",
    "user_ids = user_categories.codes\n",
    "item_ids = item_categories.codes"
   ]
  },
  {
   "cell_type": "code",
   "execution_count": null,
   "id": "4f5299fa",
   "metadata": {},
   "outputs": [],
   "source": [
    "# Create rating matrix\n",
    "rating_matrix = np.zeros((user_categories.categories.size, item_categories.categories.size))\n",
    "rating_matrix[user_ids, item_ids] = traindf['rating']"
   ]
  },
  {
   "cell_type": "code",
   "execution_count": null,
   "id": "542c4956",
   "metadata": {},
   "outputs": [],
   "source": [
    "# Scale the rating matrix\n",
    "scaler = MinMaxScaler(feature_range=(0.5, 5))\n",
    "rating_matrix_scaled = scaler.fit_transform(rating_matrix)"
   ]
  },
  {
   "cell_type": "code",
   "execution_count": null,
   "id": "405854e2",
   "metadata": {},
   "outputs": [],
   "source": [
    "# Repeat alignment of movie features to training data\n",
    "df_movies_aligned = df_movies[df_movies['movieId'].isin(traindf['movieId'].unique())]\n",
    "df_movies_aligned = df_movies_aligned.dropna(subset=['genres'])"
   ]
  },
  {
   "cell_type": "code",
   "execution_count": null,
   "id": "f31e15ec",
   "metadata": {},
   "outputs": [],
   "source": [
    "# Vectorize movie genres using TF-IDF\n",
    "vectorizer = TfidfVectorizer(max_features=100)\n",
    "tags_features = vectorizer.fit_transform(df_movies_aligned['genres'].fillna(''))"
   ]
  },
  {
   "cell_type": "code",
   "execution_count": null,
   "id": "51a22db0",
   "metadata": {},
   "outputs": [],
   "source": [
    "# Calculate user weights based on rating counts\n",
    "user_counts = traindf['userId'].value_counts()\n",
    "user_weights = user_counts / user_counts.max()\n",
    "\n",
    "# Adjust scaled rating matrix by user weights\n",
    "for idx, row in traindf.iterrows():\n",
    "    user_idx = user_categories.categories.get_loc(row['userId'])\n",
    "    item_idx = item_categories.categories.get_loc(row['movieId'])\n",
    "    user_id = row['userId']\n",
    "    rating_matrix_scaled[user_idx, item_idx] *= user_weights.loc[user_id]"
   ]
  },
  {
   "cell_type": "code",
   "execution_count": null,
   "id": "49b9db5c",
   "metadata": {},
   "outputs": [],
   "source": [
    "importance_of_genre = 0.5\n",
    "content_weighted_features = tags_features.multiply(importance_of_genre).toarray()\n",
    "full_features_matrix = np.hstack([rating_matrix_scaled.T, content_weighted_features]).T"
   ]
  },
  {
   "cell_type": "code",
   "execution_count": null,
   "id": "3ac91bdc",
   "metadata": {},
   "outputs": [],
   "source": [
    "# NMF with importance_of_genre = 0.5\n",
    "model = NMF(n_components=15, init='nndsvd', max_iter=100, random_state=42)\n",
    "W = model.fit_transform(full_features_matrix)\n",
    "H = model.components_"
   ]
  },
  {
   "cell_type": "code",
   "execution_count": null,
   "id": "e5bc6ee1",
   "metadata": {},
   "outputs": [],
   "source": [
    "def recommend_movies_by_user_genre_choice(user_id, selected_genre, df_movies, df_ratings, n=10):\n",
    "    \"\"\"\n",
    "    Recommends top N movies for a given user based on a chosen genre and predicted ratings from an NMF model.\n",
    "\n",
    "    Parameters\n",
    "    ----------\n",
    "    user_id : int\n",
    "        User ID for whom recommendations are to be made.\n",
    "    selected_genre : str\n",
    "        The genre chosen by the user to filter the recommendations.\n",
    "    df_movies : pd.DataFrame\n",
    "        DataFrame containing movie details including genres.\n",
    "    df_ratings : pd.DataFrame\n",
    "        DataFrame containing user ratings.\n",
    "    n : int\n",
    "        Number of top recommendations to generate.\n",
    "\n",
    "    Returns\n",
    "    -------\n",
    "    pd.DataFrame\n",
    "        DataFrame containing top N recommended movies filtered by the chosen genre, sorted by predicted rating.\n",
    "    \"\"\"\n",
    "    if user_id not in user_categories.categories:\n",
    "        return pd.DataFrame()\n",
    "\n",
    "    # Predict ratings for the user\n",
    "    user_idx = user_categories.categories.get_loc(user_id)\n",
    "    predicted_ratings = np.dot(W[user_idx, :], H)\n",
    "\n",
    "    # Normalize genres to prevent case and spacing issues\n",
    "    df_movies['genres'] = df_movies['genres'].str.lower().str.replace(r'\\s+', '', regex=True)\n",
    "\n",
    "    # Filter movies by the chosen genre using normalized genre strings\n",
    "    genre_filtered_movies = df_movies[df_movies['genres'].apply(\n",
    "        lambda x: selected_genre.lower().replace(' ', '') in x)]\n",
    "\n",
    "    # Merge predicted ratings with movie details\n",
    "    genre_filtered_indices = item_categories.categories.get_indexer(genre_filtered_movies['movieId'])\n",
    "    genre_filtered_ratings = predicted_ratings[genre_filtered_indices]\n",
    "    \n",
    "    # Get top N genre-based movie recommendations\n",
    "    top_n_indices = np.argsort(genre_filtered_ratings)[-n:]                                  \n",
    "    top_n_movie_ids = genre_filtered_movies.iloc[top_n_indices]['movieId']\n",
    "    \n",
    "    return df_movies[df_movies['movieId'].isin(top_n_movie_ids)][['movieId', 'title', 'genres']]"
   ]
  },
  {
   "cell_type": "code",
   "execution_count": null,
   "id": "e60a19fa",
   "metadata": {},
   "outputs": [],
   "source": [
    "recommended_movies = recommend_movies_by_user_genre_choice(\n",
    "    user_id=25, selected_genre='fantasy', df_movies=df_movies, df_ratings=traindf,n=20)\n",
    "recommended_movies"
   ]
  },
  {
   "cell_type": "code",
   "execution_count": null,
   "id": "383445e8",
   "metadata": {},
   "outputs": [],
   "source": []
  }
 ],
 "metadata": {
  "kernelspec": {
   "display_name": "Python 3 (ipykernel)",
   "language": "python",
   "name": "python3"
  },
  "language_info": {
   "codemirror_mode": {
    "name": "ipython",
    "version": 3
   },
   "file_extension": ".py",
   "mimetype": "text/x-python",
   "name": "python",
   "nbconvert_exporter": "python",
   "pygments_lexer": "ipython3",
   "version": "3.11.5"
  }
 },
 "nbformat": 4,
 "nbformat_minor": 5
}
