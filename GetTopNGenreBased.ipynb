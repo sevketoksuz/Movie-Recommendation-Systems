{
 "cells": [
  {
   "cell_type": "code",
   "execution_count": null,
   "id": "f4231d15",
   "metadata": {},
   "outputs": [],
   "source": [
    "import pandas as pd\n",
    "import numpy as np\n",
    "from math import sqrt\n",
    "\n",
    "from sklearn.decomposition import NMF\n",
    "from sklearn.preprocessing import MinMaxScaler, normalize\n",
    "from sklearn.feature_extraction.text import TfidfVectorizer\n",
    "\n",
    "import warnings\n",
    "warnings.filterwarnings('ignore')"
   ]
  },
  {
   "cell_type": "code",
   "execution_count": null,
   "id": "a1586828",
   "metadata": {},
   "outputs": [],
   "source": [
    "def load_data(ratings_file_path, features_file_path):\n",
    "    \"\"\"\n",
    "    Loads and returns datasets for ratings and movie features from specified file paths.\n",
    "\n",
    "    Parameters\n",
    "    ----------\n",
    "    ratings_file_path : str\n",
    "        Path to the CSV file containing user ratings with columns: userId, movieId, and rating.\n",
    "    features_file_path : str\n",
    "        Path to the CSV file containing movie features.\n",
    "\n",
    "    Returns\n",
    "    -------\n",
    "    tuple of pd.DataFrame\n",
    "        Returns two pandas DataFrames: one for ratings and another for movie features.\n",
    "\n",
    "    \"\"\"\n",
    "    dtype_ratings = {\n",
    "        'userId': 'int32',\n",
    "        'movieId': 'int32',\n",
    "        'rating': 'float32'\n",
    "    }\n",
    "    dtype_features = {\n",
    "        'movieId': 'int32'\n",
    "    }\n",
    "\n",
    "    df_ratings = pd.read_csv(ratings_file_path, dtype=dtype_ratings)\n",
    "    df_features = pd.read_csv(features_file_path, dtype=dtype_features)\n",
    "    \n",
    "    return df_ratings, df_features"
   ]
  },
  {
   "cell_type": "code",
   "execution_count": null,
   "id": "08d7bb1f",
   "metadata": {},
   "outputs": [],
   "source": [
    "traindf, df_movies = load_data('./datasets/training_data.csv', './datasets/movies.csv')"
   ]
  },
  {
   "cell_type": "code",
   "execution_count": null,
   "id": "d8f04e62",
   "metadata": {},
   "outputs": [],
   "source": [
    "# Ensure 'movieId' columns are of type int\n",
    "traindf['movieId'] = traindf['movieId'].astype('int')\n",
    "df_movies['movieId'] = df_movies['movieId'].astype('int')"
   ]
  },
  {
   "cell_type": "code",
   "execution_count": null,
   "id": "c33c13b2",
   "metadata": {},
   "outputs": [],
   "source": [
    "# Align movie features to training data\n",
    "df_movies_aligned = df_movies[df_movies['movieId'].isin(traindf['movieId'].unique())]\n",
    "df_movies_aligned = df_movies_aligned.dropna(subset=['genres'])"
   ]
  },
  {
   "cell_type": "code",
   "execution_count": null,
   "id": "c759c534",
   "metadata": {},
   "outputs": [],
   "source": [
    "# Convert user and movie IDs to categorical types\n",
    "user_categories = pd.Categorical(traindf['userId'])\n",
    "item_categories = pd.Categorical(traindf['movieId'])"
   ]
  },
  {
   "cell_type": "code",
   "execution_count": null,
   "id": "b23c8188",
   "metadata": {},
   "outputs": [],
   "source": [
    "# Convert user and item IDs to numerical codes\n",
    "user_ids = user_categories.codes\n",
    "item_ids = item_categories.codes"
   ]
  },
  {
   "cell_type": "code",
   "execution_count": null,
   "id": "a65348f8",
   "metadata": {},
   "outputs": [],
   "source": [
    "# Create rating matrix\n",
    "rating_matrix = np.zeros((user_categories.categories.size, item_categories.categories.size))\n",
    "rating_matrix[user_ids, item_ids] = traindf['rating']"
   ]
  },
  {
   "cell_type": "code",
   "execution_count": null,
   "id": "92cb853f",
   "metadata": {},
   "outputs": [],
   "source": [
    "# Scale the rating matrix\n",
    "scaler = MinMaxScaler(feature_range=(0.5, 5))\n",
    "rating_matrix_scaled = scaler.fit_transform(rating_matrix)"
   ]
  },
  {
   "cell_type": "code",
   "execution_count": null,
   "id": "5e556e55",
   "metadata": {},
   "outputs": [],
   "source": [
    "# Repeat alignment of movie features to training data\n",
    "df_movies_aligned = df_movies[df_movies['movieId'].isin(traindf['movieId'].unique())]\n",
    "df_movies_aligned = df_movies_aligned.dropna(subset=['genres'])"
   ]
  },
  {
   "cell_type": "code",
   "execution_count": null,
   "id": "aab84a07",
   "metadata": {},
   "outputs": [],
   "source": [
    "# Vectorize movie genres using TF-IDF\n",
    "vectorizer = TfidfVectorizer(max_features=100)\n",
    "tags_features = vectorizer.fit_transform(df_movies_aligned['genres'].fillna(''))"
   ]
  },
  {
   "cell_type": "code",
   "execution_count": null,
   "id": "a8fec362",
   "metadata": {},
   "outputs": [],
   "source": [
    "# Calculate user weights based on rating counts\n",
    "user_counts = traindf['userId'].value_counts()\n",
    "user_weights = user_counts / user_counts.max()\n",
    "\n",
    "# Adjust scaled rating matrix by user weights\n",
    "for idx, row in traindf.iterrows():\n",
    "    user_idx = user_categories.categories.get_loc(row['userId'])\n",
    "    item_idx = item_categories.categories.get_loc(row['movieId'])\n",
    "    user_id = row['userId']\n",
    "    rating_matrix_scaled[user_idx, item_idx] *= user_weights.loc[user_id]"
   ]
  },
  {
   "cell_type": "code",
   "execution_count": null,
   "id": "fe403dbf",
   "metadata": {},
   "outputs": [],
   "source": [
    "importance_of_genre = 0.5\n",
    "content_weighted_features = tags_features.multiply(importance_of_genre).toarray()\n",
    "full_features_matrix = np.hstack([rating_matrix_scaled.T, content_weighted_features]).T"
   ]
  },
  {
   "cell_type": "code",
   "execution_count": null,
   "id": "cd188fb9",
   "metadata": {},
   "outputs": [],
   "source": [
    "# NMF with importance_of_genre = 0.5\n",
    "model = NMF(n_components=15, init='nndsvd', max_iter=100, random_state=42)\n",
    "W = model.fit_transform(full_features_matrix)\n",
    "H = model.components_"
   ]
  },
  {
   "cell_type": "code",
   "execution_count": null,
   "id": "90b830bd",
   "metadata": {},
   "outputs": [],
   "source": [
    "def get_favorite_genres(user_id, df_ratings, df_movies, top_n=3):\n",
    "    \"\"\"\n",
    "    Calculates and returns the user's favorite genres based on their historical ratings.\n",
    "\n",
    "    Parameters\n",
    "    ----------\n",
    "    user_id : int\n",
    "        The user ID whose favorite genres are to be determined.\n",
    "    df_ratings : pd.DataFrame\n",
    "        DataFrame containing user ratings.\n",
    "    df_movies : pd.DataFrame\n",
    "        DataFrame containing movie details including genres.\n",
    "    top_n : int, optional\n",
    "        Number of top genres to return, default is 3.\n",
    "\n",
    "    Returns\n",
    "    -------\n",
    "    dict\n",
    "        A dictionary containing:\n",
    "        - 'top_genres': list of the user's top_n favorite genres.\n",
    "        - 'average_ratings': dictionary mapping each genre to its average rating by the user.\n",
    "        - 'genre_counts': dictionary mapping each genre to the number of times it has been rated by the user.\n",
    "    \"\"\"\n",
    "    user_ratings = df_ratings[df_ratings['userId'] == user_id]\n",
    "    user_ratings.loc[:, 'movieId'] = user_ratings['movieId'].astype(int)\n",
    "    df_movies.loc[:, 'movieId'] = df_movies['movieId'].astype(int)\n",
    "\n",
    "    # Merge user ratings with movie genres\n",
    "    user_genres = user_ratings.merge(df_movies[['movieId']], on='movieId', how='left')\n",
    "    # Calculate genre ratings and counts\n",
    "    genre_ratings = {}\n",
    "    genre_counts = {}\n",
    "    for index, row in user_genres.iterrows():\n",
    "        if pd.isnull(row['genres']):\n",
    "            continue\n",
    "        genres = eval(row['genres'])\n",
    "        rating = row['rating']\n",
    "        for genre in genres:\n",
    "            if genre in genre_ratings:\n",
    "                genre_ratings[genre].append(rating)\n",
    "                genre_counts[genre] += 1\n",
    "            else:\n",
    "                genre_ratings[genre] = [rating]\n",
    "                genre_counts[genre] = 1\n",
    "\n",
    "    max_count = max(genre_counts.values(), default=0)\n",
    "    \n",
    "    # Calculate preference scores for genres\n",
    "    genre_preferences = {}\n",
    "    genre_avg_ratings = {}\n",
    "    for genre, ratings in genre_ratings.items():\n",
    "        average_rating = np.mean(ratings)\n",
    "        normalized_count = genre_counts[genre] / max_count if max_count > 0 else 0\n",
    "        count_weight = np.tanh(normalized_count)\n",
    "        preference_score = average_rating * count_weight\n",
    "        genre_preferences[genre] = preference_score\n",
    "        genre_avg_ratings[genre] = average_rating\n",
    "    \n",
    "    # Sort genres by preference score\n",
    "    sorted_genres = sorted(genre_preferences.items(), key=lambda x: x[1], reverse=True)\n",
    "    \n",
    "    detailed_output = {\n",
    "        'top_genres': [genre for genre, _ in sorted_genres[:top_n]],\n",
    "        #'average_ratings': genre_avg_ratings,\n",
    "        #'genre_counts': genre_counts,\n",
    "        'genre_preferences': genre_preferences\n",
    "    }\n",
    "    print(detailed_output) \n",
    "\n",
    "    return detailed_output"
   ]
  },
  {
   "cell_type": "code",
   "execution_count": null,
   "id": "662012d3",
   "metadata": {},
   "outputs": [],
   "source": [
    "def get_top_n_genre_based_recommendations(user_id, n, df_ratings, df_movies):\n",
    "    \"\"\"\n",
    "    Generates top N genre-based movie recommendations for a given user.\n",
    "\n",
    "    Parameters\n",
    "    ----------\n",
    "    user_id : int\n",
    "        The user ID for whom genre-based recommendations are to be made.\n",
    "    n : int\n",
    "        Number of top recommendations to generate based on the user's favorite genres.\n",
    "    df_ratings : pd.DataFrame\n",
    "        DataFrame containing user ratings.\n",
    "    df_movies : pd.DataFrame\n",
    "        DataFrame containing movie details including genres.\n",
    "\n",
    "    Returns\n",
    "    -------\n",
    "    pd.DataFrame\n",
    "        DataFrame containing top N recommended movies filtered by user's top genres,\n",
    "        with columns: movieId, title, and genres.\n",
    "    \"\"\"\n",
    "    genre_data = get_favorite_genres(user_id, df_ratings, df_movies, 5)\n",
    "    top_genres = genre_data['top_genres']\n",
    "    \n",
    "    if user_id not in user_categories.categories:\n",
    "        return pd.DataFrame()\n",
    "    \n",
    "    # Predict ratings for the user\n",
    "    user_idx = user_categories.categories.get_loc(user_id)\n",
    "    predicted_ratings = np.dot(W[user_idx, :], H)\n",
    "\n",
    "    # Filter movies by user's favorite genres\n",
    "    genre_filtered_movies = df_movies[df_movies['genres'].apply(\n",
    "        lambda x: any(genre in x for genre in top_genres))]\n",
    "\n",
    "    # Get indices of genre-filtered movies\n",
    "    genre_filtered_indices = item_categories.categories.get_indexer(genre_filtered_movies['movieId'])\n",
    "    genre_filtered_ratings = predicted_ratings[genre_filtered_indices]\n",
    "    \n",
    "    # Get top N genre-based movie recommendations\n",
    "    top_n_indices = np.argsort(genre_filtered_ratings)[-n:]\n",
    "    top_n_movie_ids = genre_filtered_movies.iloc[top_n_indices]['movieId']\n",
    "    \n",
    "    return df_movies[df_movies['movieId'].isin(top_n_movie_ids)][['movieId', 'title', 'genres']]"
   ]
  },
  {
   "cell_type": "code",
   "execution_count": null,
   "id": "f09f6158",
   "metadata": {},
   "outputs": [],
   "source": [
    "recommended_movies = get_top_n_genre_based_recommendations(45, 20, traindf, df_movies)\n",
    "recommended_movies"
   ]
  }
 ],
 "metadata": {
  "kernelspec": {
   "display_name": "Python 3 (ipykernel)",
   "language": "python",
   "name": "python3"
  },
  "language_info": {
   "codemirror_mode": {
    "name": "ipython",
    "version": 3
   },
   "file_extension": ".py",
   "mimetype": "text/x-python",
   "name": "python",
   "nbconvert_exporter": "python",
   "pygments_lexer": "ipython3",
   "version": "3.11.5"
  }
 },
 "nbformat": 4,
 "nbformat_minor": 5
}
