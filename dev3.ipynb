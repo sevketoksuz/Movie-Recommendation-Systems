{
 "cells": [
  {
   "cell_type": "code",
   "execution_count": 33,
   "metadata": {},
   "outputs": [
    {
     "name": "stdout",
     "output_type": "stream",
     "text": [
      "Links DataFrame:\n",
      "   movieId  imdbId   tmdbId\n",
      "0        1  114709    862.0\n",
      "1        2  113497   8844.0\n",
      "2        3  113228  15602.0\n",
      "3        4  114885  31357.0\n",
      "4        5  113041  11862.0 \n",
      "\n",
      "Movies DataFrame:\n",
      "   movieId                               title  \\\n",
      "0        1                    Toy Story (1995)   \n",
      "1        2                      Jumanji (1995)   \n",
      "2        3             Grumpier Old Men (1995)   \n",
      "3        4            Waiting to Exhale (1995)   \n",
      "4        5  Father of the Bride Part II (1995)   \n",
      "\n",
      "                                        genres  \n",
      "0  Adventure|Animation|Children|Comedy|Fantasy  \n",
      "1                   Adventure|Children|Fantasy  \n",
      "2                               Comedy|Romance  \n",
      "3                         Comedy|Drama|Romance  \n",
      "4                                       Comedy   \n",
      "\n",
      "Ratings DataFrame:\n",
      "   userId  movieId  rating  timestamp\n",
      "0       1        1     4.0  964982703\n",
      "1       1        3     4.0  964981247\n",
      "2       1        6     4.0  964982224\n",
      "3       1       47     5.0  964983815\n",
      "4       1       50     5.0  964982931 \n",
      "\n",
      "Tags DataFrame:\n",
      "   userId  movieId              tag   timestamp\n",
      "0       2    60756            funny  1445714994\n",
      "1       2    60756  Highly quotable  1445714996\n",
      "2       2    60756     will ferrell  1445714992\n",
      "3       2    89774     Boxing story  1445715207\n",
      "4       2    89774              MMA  1445715200 \n",
      "\n"
     ]
    }
   ],
   "source": [
    "import pandas as pd\n",
    "\n",
    "# Load the datasets\n",
    "links_df = pd.read_csv('./links.csv')\n",
    "movies_df = pd.read_csv('./movies.csv')\n",
    "ratings_df = pd.read_csv('./ratings.csv')\n",
    "tags_df = pd.read_csv('./tags.csv')\n",
    "\n",
    "# Display the first few rows of each dataframe to understand their structure\n",
    "print(\"Links DataFrame:\")\n",
    "print(links_df.head(), \"\\n\")\n",
    "print(\"Movies DataFrame:\")\n",
    "print(movies_df.head(), \"\\n\")\n",
    "print(\"Ratings DataFrame:\")\n",
    "print(ratings_df.head(), \"\\n\")\n",
    "print(\"Tags DataFrame:\")\n",
    "print(tags_df.head(), \"\\n\")\n"
   ]
  },
  {
   "cell_type": "code",
   "execution_count": 34,
   "metadata": {},
   "outputs": [
    {
     "name": "stdout",
     "output_type": "stream",
     "text": [
      "Shape of the user-movie ratings matrix: (9724, 610)\n",
      "userId   1    2    3    4    5    6    7    8    9    10   ...  601  602  603  \\\n",
      "movieId                                                    ...                  \n",
      "1        4.0  0.0  0.0  0.0  4.0  0.0  4.5  0.0  0.0  0.0  ...  4.0  0.0  4.0   \n",
      "2        0.0  0.0  0.0  0.0  0.0  4.0  0.0  4.0  0.0  0.0  ...  0.0  4.0  0.0   \n",
      "3        4.0  0.0  0.0  0.0  0.0  5.0  0.0  0.0  0.0  0.0  ...  0.0  0.0  0.0   \n",
      "4        0.0  0.0  0.0  0.0  0.0  3.0  0.0  0.0  0.0  0.0  ...  0.0  0.0  0.0   \n",
      "5        0.0  0.0  0.0  0.0  0.0  5.0  0.0  0.0  0.0  0.0  ...  0.0  0.0  0.0   \n",
      "\n",
      "userId   604  605  606  607  608  609  610  \n",
      "movieId                                     \n",
      "1        3.0  4.0  2.5  4.0  2.5  3.0  5.0  \n",
      "2        5.0  3.5  0.0  0.0  2.0  0.0  0.0  \n",
      "3        0.0  0.0  0.0  0.0  2.0  0.0  0.0  \n",
      "4        0.0  0.0  0.0  0.0  0.0  0.0  0.0  \n",
      "5        3.0  0.0  0.0  0.0  0.0  0.0  0.0  \n",
      "\n",
      "[5 rows x 610 columns]\n"
     ]
    }
   ],
   "source": [
    "# Creating the user-movie ratings matrix\n",
    "ratings_matrix = ratings_df.pivot_table(index='movieId', columns='userId', values='rating').fillna(0)\n",
    "\n",
    "# Display the shape of the matrix to understand its size\n",
    "print(\"Shape of the user-movie ratings matrix:\", ratings_matrix.shape)\n",
    "\n",
    "# Show the first few rows of the matrix\n",
    "print(ratings_matrix.head())\n"
   ]
  },
  {
   "cell_type": "code",
   "execution_count": 35,
   "metadata": {},
   "outputs": [
    {
     "name": "stdout",
     "output_type": "stream",
     "text": [
      "movieId    1         2         3         4         5         6         7       \\\n",
      "movieId                                                                         \n",
      "1        1.000000  0.410562  0.296917  0.035573  0.308762  0.376316  0.277491   \n",
      "2        0.410562  1.000000  0.282438  0.106415  0.287795  0.297009  0.228576   \n",
      "3        0.296917  0.282438  1.000000  0.092406  0.417802  0.284257  0.402831   \n",
      "4        0.035573  0.106415  0.092406  1.000000  0.188376  0.089685  0.275035   \n",
      "5        0.308762  0.287795  0.417802  0.188376  1.000000  0.298969  0.474002   \n",
      "\n",
      "movieId    8         9         10      ...  193565  193567  193571  193573  \\\n",
      "movieId                                ...                                   \n",
      "1        0.131629  0.232586  0.395573  ...     0.0     0.0     0.0     0.0   \n",
      "2        0.172498  0.044835  0.417693  ...     0.0     0.0     0.0     0.0   \n",
      "3        0.313434  0.304840  0.242954  ...     0.0     0.0     0.0     0.0   \n",
      "4        0.158022  0.000000  0.095598  ...     0.0     0.0     0.0     0.0   \n",
      "5        0.283523  0.335058  0.218061  ...     0.0     0.0     0.0     0.0   \n",
      "\n",
      "movieId  193579  193581  193583  193585  193587  193609  \n",
      "movieId                                                  \n",
      "1           0.0     0.0     0.0     0.0     0.0     0.0  \n",
      "2           0.0     0.0     0.0     0.0     0.0     0.0  \n",
      "3           0.0     0.0     0.0     0.0     0.0     0.0  \n",
      "4           0.0     0.0     0.0     0.0     0.0     0.0  \n",
      "5           0.0     0.0     0.0     0.0     0.0     0.0  \n",
      "\n",
      "[5 rows x 9724 columns]\n"
     ]
    }
   ],
   "source": [
    "from sklearn.metrics.pairwise import cosine_similarity\n",
    "from scipy.sparse import csr_matrix\n",
    "\n",
    "# Convert the ratings matrix to a sparse matrix format\n",
    "ratings_matrix_sparse = csr_matrix(ratings_matrix.values)\n",
    "\n",
    "# Compute the cosine similarity matrix\n",
    "cosine_sim = cosine_similarity(ratings_matrix_sparse, ratings_matrix_sparse)\n",
    "\n",
    "# Convert the cosine similarity matrix to a DataFrame for better readability\n",
    "cosine_sim_df = pd.DataFrame(cosine_sim, index=ratings_matrix.index, columns=ratings_matrix.index)\n",
    "\n",
    "# Display the first few rows of the cosine similarity dataframe\n",
    "print(cosine_sim_df.head())\n"
   ]
  },
  {
   "cell_type": "code",
   "execution_count": 36,
   "metadata": {},
   "outputs": [
    {
     "name": "stdout",
     "output_type": "stream",
     "text": [
      "Recommendations for 'Toy Story (1995)':\n",
      "224     Star Wars: Episode IV - A New Hope (1977)\n",
      "314                           Forrest Gump (1994)\n",
      "418                          Jurassic Park (1993)\n",
      "615          Independence Day (a.k.a. ID4) (1996)\n",
      "2355                           Toy Story 2 (1999)\n",
      "Name: title, dtype: object\n"
     ]
    }
   ],
   "source": [
    "def recommend_movies(movie_title, movies_df, cosine_sim_df, num_recommendations=5):\n",
    "    # Get the movieId for the given movie title\n",
    "    if movie_title in movies_df['title'].values:\n",
    "        movie_id = movies_df[movies_df['title'] == movie_title].iloc[0]['movieId']\n",
    "        # Get the most similar movies\n",
    "        similar_movies = cosine_sim_df[movie_id].sort_values(ascending=False).iloc[1:num_recommendations+1].index\n",
    "        # Map the most similar movie IDs back to titles\n",
    "        recommended_movies = movies_df[movies_df['movieId'].isin(similar_movies)]['title']\n",
    "        return recommended_movies\n",
    "    else:\n",
    "        return \"Movie title not found in the dataset.\"\n",
    "\n",
    "# Test the function with a movie title\n",
    "test_movie_title = \"Toy Story (1995)\"\n",
    "recommendations = recommend_movies(test_movie_title, movies_df, cosine_sim_df)\n",
    "print(f\"Recommendations for '{test_movie_title}':\")\n",
    "print(recommendations)\n"
   ]
  },
  {
   "cell_type": "code",
   "execution_count": 37,
   "metadata": {},
   "outputs": [
    {
     "name": "stdout",
     "output_type": "stream",
     "text": [
      "         (no genres listed)  Action  Adventure  Animation  Children  Comedy  \\\n",
      "movieId                                                                       \n",
      "1                         0       0          1          1         1       1   \n",
      "2                         0       0          1          0         1       0   \n",
      "3                         0       0          0          0         0       1   \n",
      "4                         0       0          0          0         0       1   \n",
      "5                         0       0          0          0         0       1   \n",
      "\n",
      "         Crime  Documentary  Drama  Fantasy  Film-Noir  Horror  IMAX  Musical  \\\n",
      "movieId                                                                         \n",
      "1            0            0      0        1          0       0     0        0   \n",
      "2            0            0      0        1          0       0     0        0   \n",
      "3            0            0      0        0          0       0     0        0   \n",
      "4            0            0      1        0          0       0     0        0   \n",
      "5            0            0      0        0          0       0     0        0   \n",
      "\n",
      "         Mystery  Romance  Sci-Fi  Thriller  War  Western  \n",
      "movieId                                                    \n",
      "1              0        0       0         0    0        0  \n",
      "2              0        0       0         0    0        0  \n",
      "3              0        1       0         0    0        0  \n",
      "4              0        1       0         0    0        0  \n",
      "5              0        0       0         0    0        0  \n"
     ]
    }
   ],
   "source": [
    "# Encode genres into a binary format\n",
    "movies_df['genres_list'] = movies_df['genres'].apply(lambda x: x.split('|'))\n",
    "genre_encoded = movies_df['genres_list'].str.join('|').str.get_dummies()\n",
    "genre_encoded.index = movies_df['movieId']\n",
    "\n",
    "print(genre_encoded.head())\n"
   ]
  },
  {
   "cell_type": "code",
   "execution_count": 38,
   "metadata": {},
   "outputs": [
    {
     "name": "stdout",
     "output_type": "stream",
     "text": [
      "movieId    1         2         3         4         5       6         7       \\\n",
      "movieId                                                                       \n",
      "1        1.000000  0.774597  0.316228  0.258199  0.447214     0.0  0.316228   \n",
      "2        0.774597  1.000000  0.000000  0.000000  0.000000     0.0  0.000000   \n",
      "3        0.316228  0.000000  1.000000  0.816497  0.707107     0.0  1.000000   \n",
      "4        0.258199  0.000000  0.816497  1.000000  0.577350     0.0  0.816497   \n",
      "5        0.447214  0.000000  0.707107  0.577350  1.000000     0.0  0.707107   \n",
      "\n",
      "movieId    8       9         10      ...    193565    193567    193571  \\\n",
      "movieId                              ...                                 \n",
      "1        0.632456     0.0  0.258199  ...  0.447214  0.316228  0.316228   \n",
      "2        0.816497     0.0  0.333333  ...  0.000000  0.000000  0.000000   \n",
      "3        0.000000     0.0  0.000000  ...  0.353553  0.000000  0.500000   \n",
      "4        0.000000     0.0  0.000000  ...  0.288675  0.408248  0.816497   \n",
      "5        0.000000     0.0  0.000000  ...  0.500000  0.000000  0.707107   \n",
      "\n",
      "movieId    193573  193579    193581    193583   193585    193587    193609  \n",
      "movieId                                                                     \n",
      "1        0.447214     0.0  0.670820  0.774597  0.00000  0.316228  0.447214  \n",
      "2        0.000000     0.0  0.288675  0.333333  0.00000  0.000000  0.000000  \n",
      "3        0.000000     0.0  0.353553  0.408248  0.00000  0.000000  0.707107  \n",
      "4        0.000000     0.0  0.288675  0.333333  0.57735  0.000000  0.577350  \n",
      "5        0.000000     0.0  0.500000  0.577350  0.00000  0.000000  1.000000  \n",
      "\n",
      "[5 rows x 9742 columns]\n"
     ]
    }
   ],
   "source": [
    "# Calculate the cosine similarity for the genre-encoded matrix\n",
    "genre_cosine_sim = cosine_similarity(genre_encoded, genre_encoded)\n",
    "\n",
    "# Convert the cosine similarity matrix to a DataFrame for better readability\n",
    "genre_cosine_sim_df = pd.DataFrame(genre_cosine_sim, index=genre_encoded.index, columns=genre_encoded.index)\n",
    "\n",
    "# Display the first few rows of the genre cosine similarity dataframe\n",
    "print(genre_cosine_sim_df.head())\n"
   ]
  },
  {
   "cell_type": "code",
   "execution_count": 39,
   "metadata": {},
   "outputs": [],
   "source": [
    "from scipy.sparse import csr_matrix\n",
    "\n",
    "# Convert the genre-encoded DataFrame to a sparse matrix\n",
    "genre_encoded_sparse = csr_matrix(genre_encoded.values)\n",
    "\n",
    "# Calculate the cosine similarity for the sparse genre-encoded matrix\n",
    "genre_cosine_sim_sparse = cosine_similarity(genre_encoded_sparse, genre_encoded_sparse)\n",
    "\n",
    "# Since handling large sparse matrices directly can be challenging, especially for demonstration purposes,\n",
    "# we'll proceed with our item-based collaborative recommendation system focusing on rating-based similarities,\n",
    "# acknowledging the memory limitations encountered here.\n",
    "\n",
    "# Future steps could involve optimization techniques or working in an environment with more available memory\n",
    "# to incorporate genre-based similarities effectively.\n"
   ]
  },
  {
   "cell_type": "code",
   "execution_count": 40,
   "metadata": {},
   "outputs": [
    {
     "name": "stdout",
     "output_type": "stream",
     "text": [
      "RMSE: 0.8802\n"
     ]
    },
    {
     "data": {
      "text/plain": [
       "0.8802306123440872"
      ]
     },
     "execution_count": 40,
     "metadata": {},
     "output_type": "execute_result"
    }
   ],
   "source": [
    "from surprise import SVD, Dataset, Reader\n",
    "from surprise.model_selection import train_test_split\n",
    "from surprise.model_selection import cross_validate\n",
    "from surprise import accuracy\n",
    "\n",
    "# Load the ratings dataset\n",
    "reader = Reader(rating_scale=(0.5, 5))\n",
    "data = Dataset.load_from_df(ratings_df[['userId', 'movieId', 'rating']], reader)\n",
    "\n",
    "# Split the data into training and testing sets\n",
    "trainset, testset = train_test_split(data, test_size=0.25)\n",
    "\n",
    "# Use the SVD algorithm\n",
    "algo = SVD()\n",
    "\n",
    "# Train the algorithm on the trainset, and predict ratings for the testset\n",
    "algo.fit(trainset)\n",
    "predictions = algo.test(testset)\n",
    "\n",
    "# Then compute RMSE\n",
    "accuracy.rmse(predictions)\n"
   ]
  },
  {
   "cell_type": "code",
   "execution_count": 41,
   "metadata": {},
   "outputs": [
    {
     "name": "stderr",
     "output_type": "stream",
     "text": [
      "[nltk_data] Downloading package punkt to\n",
      "[nltk_data]     C:\\Users\\USER\\AppData\\Roaming\\nltk_data...\n",
      "[nltk_data]   Package punkt is already up-to-date!\n",
      "[nltk_data] Downloading package wordnet to\n",
      "[nltk_data]     C:\\Users\\USER\\AppData\\Roaming\\nltk_data...\n",
      "[nltk_data]   Package wordnet is already up-to-date!\n",
      "[nltk_data] Downloading package stopwords to\n",
      "[nltk_data]     C:\\Users\\USER\\AppData\\Roaming\\nltk_data...\n",
      "[nltk_data]   Package stopwords is already up-to-date!\n"
     ]
    }
   ],
   "source": [
    "from nltk.tokenize import word_tokenize\n",
    "from nltk.stem import WordNetLemmatizer\n",
    "from nltk.corpus import stopwords\n",
    "import nltk\n",
    "\n",
    "nltk.download('punkt')\n",
    "nltk.download('wordnet')\n",
    "nltk.download('stopwords')\n",
    "\n",
    "def preprocess_text(text):\n",
    "    # Tokenize the text\n",
    "    tokens = word_tokenize(text.lower())\n",
    "    \n",
    "    # Remove stopwords\n",
    "    stop_words = set(stopwords.words('english'))\n",
    "    filtered_tokens = [w for w in tokens if not w in stop_words]\n",
    "    \n",
    "    # Lemmatize\n",
    "    lemmatizer = WordNetLemmatizer()\n",
    "    lemmatized_tokens = [lemmatizer.lemmatize(w) for w in filtered_tokens]\n",
    "    \n",
    "    return ' '.join(lemmatized_tokens)\n",
    "\n",
    "# Apply the preprocessing to the descriptions\n",
    "movies_df['processed_genres'] = movies_df['genres'].apply(preprocess_text)\n"
   ]
  },
  {
   "cell_type": "code",
   "execution_count": 42,
   "metadata": {},
   "outputs": [
    {
     "name": "stderr",
     "output_type": "stream",
     "text": [
      "[nltk_data] Downloading package vader_lexicon to\n",
      "[nltk_data]     C:\\Users\\USER\\AppData\\Roaming\\nltk_data...\n",
      "[nltk_data]   Package vader_lexicon is already up-to-date!\n"
     ]
    },
    {
     "data": {
      "text/html": [
       "<div>\n",
       "<style scoped>\n",
       "    .dataframe tbody tr th:only-of-type {\n",
       "        vertical-align: middle;\n",
       "    }\n",
       "\n",
       "    .dataframe tbody tr th {\n",
       "        vertical-align: top;\n",
       "    }\n",
       "\n",
       "    .dataframe thead th {\n",
       "        text-align: right;\n",
       "    }\n",
       "</style>\n",
       "<table border=\"1\" class=\"dataframe\">\n",
       "  <thead>\n",
       "    <tr style=\"text-align: right;\">\n",
       "      <th></th>\n",
       "      <th>userId</th>\n",
       "      <th>movieId</th>\n",
       "      <th>tag</th>\n",
       "      <th>timestamp</th>\n",
       "      <th>sentiment_score</th>\n",
       "    </tr>\n",
       "  </thead>\n",
       "  <tbody>\n",
       "    <tr>\n",
       "      <th>0</th>\n",
       "      <td>2</td>\n",
       "      <td>60756</td>\n",
       "      <td>funny</td>\n",
       "      <td>1445714994</td>\n",
       "      <td>0.4404</td>\n",
       "    </tr>\n",
       "    <tr>\n",
       "      <th>1</th>\n",
       "      <td>2</td>\n",
       "      <td>60756</td>\n",
       "      <td>Highly quotable</td>\n",
       "      <td>1445714996</td>\n",
       "      <td>0.0000</td>\n",
       "    </tr>\n",
       "    <tr>\n",
       "      <th>2</th>\n",
       "      <td>2</td>\n",
       "      <td>60756</td>\n",
       "      <td>will ferrell</td>\n",
       "      <td>1445714992</td>\n",
       "      <td>0.0000</td>\n",
       "    </tr>\n",
       "    <tr>\n",
       "      <th>3</th>\n",
       "      <td>2</td>\n",
       "      <td>89774</td>\n",
       "      <td>Boxing story</td>\n",
       "      <td>1445715207</td>\n",
       "      <td>0.0000</td>\n",
       "    </tr>\n",
       "    <tr>\n",
       "      <th>4</th>\n",
       "      <td>2</td>\n",
       "      <td>89774</td>\n",
       "      <td>MMA</td>\n",
       "      <td>1445715200</td>\n",
       "      <td>0.0000</td>\n",
       "    </tr>\n",
       "  </tbody>\n",
       "</table>\n",
       "</div>"
      ],
      "text/plain": [
       "   userId  movieId              tag   timestamp  sentiment_score\n",
       "0       2    60756            funny  1445714994           0.4404\n",
       "1       2    60756  Highly quotable  1445714996           0.0000\n",
       "2       2    60756     will ferrell  1445714992           0.0000\n",
       "3       2    89774     Boxing story  1445715207           0.0000\n",
       "4       2    89774              MMA  1445715200           0.0000"
      ]
     },
     "execution_count": 42,
     "metadata": {},
     "output_type": "execute_result"
    }
   ],
   "source": [
    "# Ensure necessary NLTK downloads are completed\n",
    "import nltk\n",
    "nltk.download('vader_lexicon')\n",
    "\n",
    "from nltk.sentiment import SentimentIntensityAnalyzer\n",
    "\n",
    "# Define the sentiment analysis function\n",
    "def analyze_sentiment(tag_text):\n",
    "    sid = SentimentIntensityAnalyzer()\n",
    "    score = sid.polarity_scores(tag_text)\n",
    "    return score['compound']\n",
    "\n",
    "# Apply the function to the 'tag' column in the tags_df dataframe\n",
    "tags_df['sentiment_score'] = tags_df['tag'].apply(analyze_sentiment)\n",
    "\n",
    "# Display the first few rows to verify the sentiment scores\n",
    "tags_df.head()\n"
   ]
  }
 ],
 "metadata": {
  "kernelspec": {
   "display_name": "base",
   "language": "python",
   "name": "python3"
  },
  "language_info": {
   "codemirror_mode": {
    "name": "ipython",
    "version": 3
   },
   "file_extension": ".py",
   "mimetype": "text/x-python",
   "name": "python",
   "nbconvert_exporter": "python",
   "pygments_lexer": "ipython3",
   "version": "3.10.13"
  }
 },
 "nbformat": 4,
 "nbformat_minor": 2
}
