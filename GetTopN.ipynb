{
 "cells": [
  {
   "cell_type": "code",
   "execution_count": null,
   "id": "45075581",
   "metadata": {},
   "outputs": [],
   "source": [
    "import pandas as pd\n",
    "import numpy as np\n",
    "from math import sqrt\n",
    "\n",
    "from sklearn.decomposition import NMF\n",
    "from sklearn.preprocessing import MinMaxScaler, normalize\n",
    "from sklearn.feature_extraction.text import TfidfVectorizer\n",
    "\n",
    "import warnings\n",
    "warnings.filterwarnings('ignore')"
   ]
  },
  {
   "cell_type": "code",
   "execution_count": null,
   "id": "643503ac",
   "metadata": {},
   "outputs": [],
   "source": [
    "def load_data(ratings_file_path, features_file_path):\n",
    "    \"\"\"\n",
    "    Loads and returns datasets for ratings and movie features from specified file paths.\n",
    "\n",
    "    Parameters\n",
    "    ----------\n",
    "    ratings_file_path : str\n",
    "        Path to the CSV file containing user ratings with columns: userId, movieId, and rating.\n",
    "    features_file_path : str\n",
    "        Path to the CSV file containing movie features.\n",
    "\n",
    "    Returns\n",
    "    -------\n",
    "    tuple of pd.DataFrame\n",
    "        Returns two pandas DataFrames: one for ratings and another for movie features.\n",
    "\n",
    "    \"\"\"\n",
    "    dtype_ratings = {\n",
    "        'userId': 'int32',\n",
    "        'movieId': 'int32',\n",
    "        'rating': 'float32'\n",
    "    }\n",
    "    dtype_features = {\n",
    "        'movieId': 'int32'\n",
    "    }\n",
    "\n",
    "    df_ratings = pd.read_csv(ratings_file_path, dtype=dtype_ratings)\n",
    "    df_features = pd.read_csv(features_file_path, dtype=dtype_features)\n",
    "    \n",
    "    return df_ratings, df_features"
   ]
  },
  {
   "cell_type": "code",
   "execution_count": null,
   "id": "04927422",
   "metadata": {},
   "outputs": [],
   "source": [
    "traindf, df_movies = load_data('./datasets/training_data.csv', './datasets/movies.csv')"
   ]
  },
  {
   "cell_type": "code",
   "execution_count": null,
   "id": "7c438413",
   "metadata": {},
   "outputs": [],
   "source": [
    "# Ensure 'movieId' columns are of type int\n",
    "traindf['movieId'] = traindf['movieId'].astype('int')\n",
    "df_movies['movieId'] = df_movies['movieId'].astype('int')"
   ]
  },
  {
   "cell_type": "code",
   "execution_count": null,
   "id": "dd7abab1",
   "metadata": {},
   "outputs": [],
   "source": [
    "# Align movie features to training data\n",
    "df_movies_aligned = df_movies[df_movies['movieId'].isin(traindf['movieId'].unique())]\n",
    "df_movies_aligned = df_movies_aligned.dropna(subset=['genres'])"
   ]
  },
  {
   "cell_type": "code",
   "execution_count": null,
   "id": "47c1a996",
   "metadata": {},
   "outputs": [],
   "source": [
    "# Convert user and movie IDs to categorical types\n",
    "user_categories = pd.Categorical(traindf['userId'])\n",
    "item_categories = pd.Categorical(traindf['movieId'])"
   ]
  },
  {
   "cell_type": "code",
   "execution_count": null,
   "id": "09e86400",
   "metadata": {},
   "outputs": [],
   "source": [
    "# Convert user and item IDs to numerical codes\n",
    "user_ids = user_categories.codes\n",
    "item_ids = item_categories.codes"
   ]
  },
  {
   "cell_type": "code",
   "execution_count": null,
   "id": "be138d5c",
   "metadata": {},
   "outputs": [],
   "source": [
    "# Create rating matrix\n",
    "rating_matrix = np.zeros((user_categories.categories.size, item_categories.categories.size))\n",
    "rating_matrix[user_ids, item_ids] = traindf['rating']"
   ]
  },
  {
   "cell_type": "code",
   "execution_count": null,
   "id": "030968bd",
   "metadata": {},
   "outputs": [],
   "source": [
    "# Scale the rating matrix\n",
    "scaler = MinMaxScaler(feature_range=(0.5, 5))\n",
    "rating_matrix_scaled = scaler.fit_transform(rating_matrix)"
   ]
  },
  {
   "cell_type": "code",
   "execution_count": null,
   "id": "39fb364c",
   "metadata": {},
   "outputs": [],
   "source": [
    "# Repeat alignment of movie features to training data\n",
    "df_movies_aligned = df_movies[df_movies['movieId'].isin(traindf['movieId'].unique())]\n",
    "df_movies_aligned = df_movies_aligned.dropna(subset=['genres'])"
   ]
  },
  {
   "cell_type": "code",
   "execution_count": null,
   "id": "3fbb6672",
   "metadata": {},
   "outputs": [],
   "source": [
    "# Vectorize movie genres using TF-IDF\n",
    "vectorizer = TfidfVectorizer(max_features=100)\n",
    "tags_features = vectorizer.fit_transform(df_movies_aligned['genres'].fillna(''))"
   ]
  },
  {
   "cell_type": "code",
   "execution_count": null,
   "id": "db8b244b",
   "metadata": {},
   "outputs": [],
   "source": [
    "# Calculate user weights based on rating counts\n",
    "user_counts = traindf['userId'].value_counts()\n",
    "user_weights = user_counts / user_counts.max()\n",
    "\n",
    "# Adjust scaled rating matrix by user weights\n",
    "for idx, row in traindf.iterrows():\n",
    "    user_idx = user_categories.categories.get_loc(row['userId'])\n",
    "    item_idx = item_categories.categories.get_loc(row['movieId'])\n",
    "    user_id = row['userId']\n",
    "    rating_matrix_scaled[user_idx, item_idx] *= user_weights.loc[user_id]"
   ]
  },
  {
   "cell_type": "code",
   "execution_count": null,
   "id": "236b4f75",
   "metadata": {},
   "outputs": [],
   "source": [
    "importance_of_genre = 0.5\n",
    "content_weighted_features = tags_features.multiply(importance_of_genre).toarray()\n",
    "full_features_matrix = np.hstack([rating_matrix_scaled.T, content_weighted_features]).T"
   ]
  },
  {
   "cell_type": "code",
   "execution_count": null,
   "id": "47cb6ded",
   "metadata": {},
   "outputs": [],
   "source": [
    "# NMF with importance_of_genre = 0.5\n",
    "model = NMF(n_components=15, init='nndsvd', max_iter=100, random_state=42)\n",
    "W = model.fit_transform(full_features_matrix)\n",
    "H = model.components_"
   ]
  },
  {
   "cell_type": "code",
   "execution_count": null,
   "id": "273b6a6c",
   "metadata": {},
   "outputs": [],
   "source": [
    "def get_top_n_recommendations(user_id, n, W, H):\n",
    "    \"\"\"\n",
    "    Generates top N movie recommendations for a given user based on NMF model predictions.\n",
    "\n",
    "    Parameters\n",
    "    ----------\n",
    "    user_id : int\n",
    "        The user ID for whom recommendations are to be made.\n",
    "    n : int\n",
    "        Number of top recommendations to generate.\n",
    "    W : np.array\n",
    "        User feature matrix from NMF.\n",
    "    H : np.array\n",
    "        Item feature matrix from NMF.\n",
    "\n",
    "    Returns\n",
    "    -------\n",
    "    pd.DataFrame\n",
    "        DataFrame containing top N recommended movies with columns: movieId, title, and genres.\n",
    "    \"\"\"\n",
    "    if user_id not in user_categories.categories:\n",
    "        return pd.DataFrame()\n",
    "\n",
    "    # Predict ratings for the user\n",
    "    user_idx = user_categories.categories.get_loc(user_id)\n",
    "    predicted_ratings = np.dot(W[user_idx, :], H)\n",
    "\n",
    "    # Get top N movie recommendations\n",
    "    top_n_indices = np.argsort(predicted_ratings)[-n:]\n",
    "    top_n_movie_ids = item_categories.categories[top_n_indices]\n",
    "\n",
    "    return df_movies[df_movies['movieId'].isin(top_n_movie_ids)][['movieId', 'title', 'genres']]"
   ]
  },
  {
   "cell_type": "code",
   "execution_count": null,
   "id": "906131ca",
   "metadata": {},
   "outputs": [],
   "source": [
    "recommended_movies = get_top_n_recommendations(45, 20, W, H)\n",
    "recommended_movies"
   ]
  }
 ],
 "metadata": {
  "kernelspec": {
   "display_name": "Python 3 (ipykernel)",
   "language": "python",
   "name": "python3"
  },
  "language_info": {
   "codemirror_mode": {
    "name": "ipython",
    "version": 3
   },
   "file_extension": ".py",
   "mimetype": "text/x-python",
   "name": "python",
   "nbconvert_exporter": "python",
   "pygments_lexer": "ipython3",
   "version": "3.11.5"
  }
 },
 "nbformat": 4,
 "nbformat_minor": 5
}
