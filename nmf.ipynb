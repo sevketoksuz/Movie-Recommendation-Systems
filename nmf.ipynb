{
 "cells": [
  {
   "cell_type": "code",
   "execution_count": 56,
   "metadata": {},
   "outputs": [],
   "source": [
    "from surprise import NMF, Dataset, Reader\n",
    "from surprise.model_selection import cross_validate, GridSearchCV\n",
    "import pandas as pd\n",
    "from collections import defaultdict"
   ]
  },
  {
   "cell_type": "code",
   "execution_count": 57,
   "metadata": {},
   "outputs": [],
   "source": [
    "def load_data(file_path):\n",
    "    df = pd.read_csv(file_path, usecols=['userId', 'movieId', 'rating'])\n",
    "    return df"
   ]
  },
  {
   "cell_type": "code",
   "execution_count": 58,
   "metadata": {},
   "outputs": [],
   "source": [
    "def prepare_data_for_surprise(dataframe):\n",
    "    reader = Reader(rating_scale=(0, 5))\n",
    "    data = Dataset.load_from_df(dataframe[['userId', 'movieId', 'rating']], reader)\n",
    "    return data"
   ]
  },
  {
   "cell_type": "code",
   "execution_count": 59,
   "metadata": {},
   "outputs": [],
   "source": [
    "traindf = load_data('./datasets/training_data.csv')\n",
    "\n",
    "data = prepare_data_for_surprise(traindf)"
   ]
  },
  {
   "cell_type": "code",
   "execution_count": 60,
   "metadata": {},
   "outputs": [
    {
     "name": "stdout",
     "output_type": "stream",
     "text": [
      "Best RMSE score achieved: 0.9518364736897685\n",
      "Best parameters: {'n_factors': 15, 'n_epochs': 30, 'lr_bu': 0.01, 'lr_bi': 0.01, 'reg_pu': 0.05, 'reg_qi': 0.05, 'reg_bu': 0.02, 'reg_bi': 0.02}\n"
     ]
    }
   ],
   "source": [
    "param_grid = {\n",
    "    'n_factors': [5, 10, 15],\n",
    "    'n_epochs': [10, 30, 50],\n",
    "    'lr_bu': [0.005, 0.01],\n",
    "    'lr_bi': [0.005, 0.01],\n",
    "    'reg_qi': [0.02, 0.05],\n",
    "    'reg_bu': [0.02],\n",
    "    'reg_bi': [0.02]\n",
    "}\n",
    "\n",
    "gs = GridSearchCV(NMF, param_grid, measures=['rmse', 'mae'], cv=3)\n",
    "\n",
    "gs.fit(data)\n",
    "\n",
    "print(f\"Best RMSE score achieved: {gs.best_score['rmse']}\")\n",
    "\n",
    "print(f\"Best parameters: {gs.best_params['rmse']}\")"
   ]
  },
  {
   "cell_type": "code",
   "execution_count": 61,
   "metadata": {},
   "outputs": [],
   "source": [
    "testdf = load_data('./datasets/testing_data.csv')\n",
    "trainset = data.build_full_trainset()\n",
    "testset = [tuple(row) for row in testdf.itertuples(index=False)]"
   ]
  },
  {
   "cell_type": "code",
   "execution_count": 62,
   "metadata": {},
   "outputs": [],
   "source": [
    "algo = NMF(**gs.best_params['rmse'])\n",
    "\n",
    "algo.fit(trainset)\n",
    "\n",
    "predictions = algo.test(testset)"
   ]
  },
  {
   "cell_type": "code",
   "execution_count": 63,
   "metadata": {},
   "outputs": [],
   "source": [
    "def calculate_accuracy(predictions, threshold=0.5):\n",
    "    correct_predictions = sum(abs(pred.est - pred.r_ui) <= threshold for pred in predictions)\n",
    "    accuracy = correct_predictions / len(predictions)\n",
    "    return accuracy"
   ]
  },
  {
   "cell_type": "code",
   "execution_count": 64,
   "metadata": {},
   "outputs": [
    {
     "name": "stdout",
     "output_type": "stream",
     "text": [
      "Accuracy (within ±0.5 of actual rating): 45.49%\n"
     ]
    }
   ],
   "source": [
    "threshold = 0.5\n",
    "test_accuracy = calculate_accuracy(predictions, threshold)\n",
    "\n",
    "print(f\"Accuracy (within ±{threshold} of actual rating): {test_accuracy:.2%}\")"
   ]
  },
  {
   "cell_type": "code",
   "execution_count": 65,
   "metadata": {},
   "outputs": [],
   "source": [
    "def create_predictions_dataframe(predictions):\n",
    "    predictions_data = [{'uid': pred.uid, 'iid': pred.iid, 'og_rating': pred.r_ui, 'nmf_rating': pred.est} for pred in predictions]\n",
    "    return pd.DataFrame(predictions_data)\n",
    "\n",
    "test_pred_df = create_predictions_dataframe(predictions)"
   ]
  },
  {
   "cell_type": "code",
   "execution_count": 66,
   "metadata": {},
   "outputs": [],
   "source": [
    "df_movies = pd.read_csv('./datasets/Movies.csv')"
   ]
  },
  {
   "cell_type": "code",
   "execution_count": 67,
   "metadata": {},
   "outputs": [],
   "source": [
    "def get_top_n(predictions, n=10):\n",
    "    top_n = defaultdict(list)\n",
    "    org_ratings = defaultdict(list)\n",
    "    \n",
    "    for row in predictions.itertuples(index=False):\n",
    "        uid, iid, og_rating, nmf_rating = row.uid, row.iid, row.og_rating, row.nmf_rating\n",
    "        top_n[uid].append((iid, nmf_rating))\n",
    "        org_ratings[uid].append((iid, og_rating))\n",
    "    \n",
    "    for uid, user_ratings in top_n.items():\n",
    "        user_ratings.sort(key=lambda x: x[1], reverse=True)  \n",
    "        top_n[uid] = user_ratings[:n]\n",
    "    \n",
    "    return top_n, org_ratings"
   ]
  },
  {
   "cell_type": "code",
   "execution_count": 68,
   "metadata": {},
   "outputs": [],
   "source": [
    "def show_user_recommended_movies_in_df(predictions, user_id, n=10):\n",
    "    top_n, org_ratings = get_top_n(predictions, n)\n",
    "    \n",
    "    if user_id in top_n:\n",
    "        recommended_movies_ids = [movie_id for movie_id, _ in top_n[user_id]]\n",
    "    else:\n",
    "        return pd.DataFrame()\n",
    "    \n",
    "    recommended_movies_df = df_movies.loc[df_movies['movieId'].isin(recommended_movies_ids)]\n",
    "    \n",
    "    return recommended_movies_df"
   ]
  },
  {
   "cell_type": "code",
   "execution_count": 70,
   "metadata": {},
   "outputs": [
    {
     "data": {
      "text/html": [
       "<div>\n",
       "<style scoped>\n",
       "    .dataframe tbody tr th:only-of-type {\n",
       "        vertical-align: middle;\n",
       "    }\n",
       "\n",
       "    .dataframe tbody tr th {\n",
       "        vertical-align: top;\n",
       "    }\n",
       "\n",
       "    .dataframe thead th {\n",
       "        text-align: right;\n",
       "    }\n",
       "</style>\n",
       "<table border=\"1\" class=\"dataframe\">\n",
       "  <thead>\n",
       "    <tr style=\"text-align: right;\">\n",
       "      <th></th>\n",
       "      <th>movieId</th>\n",
       "      <th>title</th>\n",
       "      <th>genres</th>\n",
       "    </tr>\n",
       "  </thead>\n",
       "  <tbody>\n",
       "    <tr>\n",
       "      <th>0</th>\n",
       "      <td>1</td>\n",
       "      <td>Toy Story (1995)</td>\n",
       "      <td>Adventure|Animation|Children|Comedy|Fantasy</td>\n",
       "    </tr>\n",
       "    <tr>\n",
       "      <th>4159</th>\n",
       "      <td>5989</td>\n",
       "      <td>Catch Me If You Can (2002)</td>\n",
       "      <td>Crime|Drama</td>\n",
       "    </tr>\n",
       "    <tr>\n",
       "      <th>6710</th>\n",
       "      <td>58559</td>\n",
       "      <td>Dark Knight, The (2008)</td>\n",
       "      <td>Action|Crime|Drama|IMAX</td>\n",
       "    </tr>\n",
       "    <tr>\n",
       "      <th>7693</th>\n",
       "      <td>89745</td>\n",
       "      <td>Avengers, The (2012)</td>\n",
       "      <td>Action|Adventure|Sci-Fi|IMAX</td>\n",
       "    </tr>\n",
       "    <tr>\n",
       "      <th>8569</th>\n",
       "      <td>116797</td>\n",
       "      <td>The Imitation Game (2014)</td>\n",
       "      <td>Drama|Thriller|War</td>\n",
       "    </tr>\n",
       "  </tbody>\n",
       "</table>\n",
       "</div>"
      ],
      "text/plain": [
       "      movieId                       title  \\\n",
       "0           1            Toy Story (1995)   \n",
       "4159     5989  Catch Me If You Can (2002)   \n",
       "6710    58559     Dark Knight, The (2008)   \n",
       "7693    89745        Avengers, The (2012)   \n",
       "8569   116797   The Imitation Game (2014)   \n",
       "\n",
       "                                           genres  \n",
       "0     Adventure|Animation|Children|Comedy|Fantasy  \n",
       "4159                                  Crime|Drama  \n",
       "6710                      Action|Crime|Drama|IMAX  \n",
       "7693                 Action|Adventure|Sci-Fi|IMAX  \n",
       "8569                           Drama|Thriller|War  "
      ]
     },
     "execution_count": 70,
     "metadata": {},
     "output_type": "execute_result"
    }
   ],
   "source": [
    "show_user_recommended_movies_in_df(test_pred_df, 550, 5)\n"
   ]
  },
  {
   "cell_type": "code",
   "execution_count": null,
   "metadata": {},
   "outputs": [],
   "source": []
  }
 ],
 "metadata": {
  "kernelspec": {
   "display_name": "Python 3 (ipykernel)",
   "language": "python",
   "name": "python3"
  },
  "language_info": {
   "codemirror_mode": {
    "name": "ipython",
    "version": 3
   },
   "file_extension": ".py",
   "mimetype": "text/x-python",
   "name": "python",
   "nbconvert_exporter": "python",
   "pygments_lexer": "ipython3",
   "version": "3.11.7"
  }
 },
 "nbformat": 4,
 "nbformat_minor": 2
}
