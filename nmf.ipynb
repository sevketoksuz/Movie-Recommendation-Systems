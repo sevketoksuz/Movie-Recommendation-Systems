{
 "cells": [
  {
   "cell_type": "code",
   "execution_count": 1,
   "metadata": {},
   "outputs": [],
   "source": [
    "from surprise import NMF, Reader\n",
    "from surprise import Dataset\n",
    "from surprise.model_selection import cross_validate\n",
    "from surprise import accuracy\n",
    "from surprise.model_selection import train_test_split\n",
    "\n",
    "import time\n",
    "import pandas as pd\n",
    "import numpy as np\n",
    "from collections import defaultdict"
   ]
  },
  {
   "cell_type": "code",
   "execution_count": 2,
   "metadata": {},
   "outputs": [],
   "source": [
    "def convert_traintest_dataframe_forsurprise(training_dataframe, testing_dataframe):\n",
    "    reader = Reader(rating_scale=(0, 5))\n",
    "    trainset = Dataset.load_from_df(training_dataframe[['userId', 'movieId', 'rating']], reader)\n",
    "    testset = Dataset.load_from_df(testing_dataframe[['userId', 'movieId', 'rating']], reader)\n",
    "    trainset = trainset.construct_trainset(trainset.raw_ratings)\n",
    "    testset = testset.construct_testset(testset.raw_ratings)\n",
    "    return trainset, testset"
   ]
  },
  {
   "cell_type": "code",
   "execution_count": 3,
   "metadata": {},
   "outputs": [],
   "source": [
    "traindf = pd.read_csv('./datasets/training_data.csv')\n",
    "testdf= pd.read_csv('./datasets/testing_data.csv')\n",
    "trainset, testset = convert_traintest_dataframe_forsurprise(traindf, testdf)"
   ]
  },
  {
   "cell_type": "code",
   "execution_count": 4,
   "metadata": {},
   "outputs": [],
   "source": [
    "def recommendation(algo, trainset, testset):\n",
    "    #start_fit = time.time()\n",
    "    algo.fit(trainset)\n",
    "    #end_fit = time.time()\n",
    "    #fit_time = end_fit - start_fit\n",
    "    \n",
    "    #start_test = time.time()\n",
    "    test_predictions = algo.test(testset)\n",
    "    #end_test = time.time()\n",
    "    #test_time = end_test - start_test\n",
    "    \n",
    "    test_rmse = accuracy.rmse(test_predictions)\n",
    "    test_mae = accuracy.mae(test_predictions)\n",
    "    \n",
    "    return test_rmse, test_mae , test_predictions #, fit_time, test_time"
   ]
  },
  {
   "cell_type": "code",
   "execution_count": 5,
   "metadata": {},
   "outputs": [],
   "source": [
    "algo = NMF()\n",
    "\n",
    "algo.fit(trainset)\n",
    "predictions = algo.test(testset)\n",
    "\n",
    "#accuracy.rmse(predictions)\n",
    "#accuracy.mse(predictions)"
   ]
  },
  {
   "cell_type": "code",
   "execution_count": 6,
   "metadata": {},
   "outputs": [
    {
     "name": "stdout",
     "output_type": "stream",
     "text": [
      "RMSE: 0.9272\n",
      "MAE:  0.7124\n"
     ]
    }
   ],
   "source": [
    "test_nmf_rmse, test_nmf_mae, test_nmf_pred = recommendation(algo, trainset, testset)"
   ]
  },
  {
   "cell_type": "code",
   "execution_count": 7,
   "metadata": {},
   "outputs": [],
   "source": [
    "def calculate_accuracy(predictions, threshold=0.5):\n",
    "    # Calculate the number of predictions within the threshold\n",
    "    correct_predictions = sum(abs(pred.est - pred.r_ui) <= threshold for pred in predictions)\n",
    "    accuracy = correct_predictions / len(predictions)\n",
    "    return accuracy"
   ]
  },
  {
   "cell_type": "code",
   "execution_count": 8,
   "metadata": {},
   "outputs": [
    {
     "name": "stdout",
     "output_type": "stream",
     "text": [
      "Accuracy (within ±0.9224 of actual rating): 71.07%\n"
     ]
    }
   ],
   "source": [
    "threshold = 0.9224\n",
    "test_accuracy = calculate_accuracy(test_nmf_pred, threshold)\n",
    "\n",
    "print(f\"Accuracy (within ±{threshold} of actual rating): {test_accuracy:.2%}\")"
   ]
  },
  {
   "cell_type": "code",
   "execution_count": 9,
   "metadata": {},
   "outputs": [],
   "source": [
    "test_pred_df = pd.DataFrame(columns=['uid', 'iid', 'og_rating', 'nmf_rating'])"
   ]
  },
  {
   "cell_type": "code",
   "execution_count": 10,
   "metadata": {},
   "outputs": [],
   "source": [
    "num_test = len(test_nmf_pred)\n",
    "for i in range(num_test):\n",
    "    nmf = test_nmf_pred[i]\n",
    "    df = pd.DataFrame([[nmf.uid, nmf.iid, nmf.r_ui, nmf.est]],\n",
    "                  columns=['uid', 'iid', 'og_rating', 'nmf_rating'])\n",
    "    df_nmf = pd.DataFrame([[nmf.uid, nmf.iid, nmf.r_ui, nmf.est]],\n",
    "                          columns=['uid', 'iid', 'og_rating', 'est_rating'])\n",
    "    test_pred_df = pd.concat([df, test_pred_df], ignore_index=True)"
   ]
  },
  {
   "cell_type": "code",
   "execution_count": 11,
   "metadata": {},
   "outputs": [],
   "source": [
    "#test_pred_df.to_csv('test_prediction_HP.csv')"
   ]
  },
  {
   "cell_type": "code",
   "execution_count": 12,
   "metadata": {},
   "outputs": [
    {
     "data": {
      "text/html": [
       "<div>\n",
       "<style scoped>\n",
       "    .dataframe tbody tr th:only-of-type {\n",
       "        vertical-align: middle;\n",
       "    }\n",
       "\n",
       "    .dataframe tbody tr th {\n",
       "        vertical-align: top;\n",
       "    }\n",
       "\n",
       "    .dataframe thead th {\n",
       "        text-align: right;\n",
       "    }\n",
       "</style>\n",
       "<table border=\"1\" class=\"dataframe\">\n",
       "  <thead>\n",
       "    <tr style=\"text-align: right;\">\n",
       "      <th></th>\n",
       "      <th>uid</th>\n",
       "      <th>iid</th>\n",
       "      <th>og_rating</th>\n",
       "      <th>nmf_rating</th>\n",
       "    </tr>\n",
       "  </thead>\n",
       "  <tbody>\n",
       "    <tr>\n",
       "      <th>0</th>\n",
       "      <td>610</td>\n",
       "      <td>166534</td>\n",
       "      <td>4.0</td>\n",
       "      <td>3.774134</td>\n",
       "    </tr>\n",
       "    <tr>\n",
       "      <th>1</th>\n",
       "      <td>610</td>\n",
       "      <td>160341</td>\n",
       "      <td>2.5</td>\n",
       "      <td>3.500961</td>\n",
       "    </tr>\n",
       "    <tr>\n",
       "      <th>2</th>\n",
       "      <td>610</td>\n",
       "      <td>160080</td>\n",
       "      <td>3.0</td>\n",
       "      <td>2.898985</td>\n",
       "    </tr>\n",
       "    <tr>\n",
       "      <th>3</th>\n",
       "      <td>610</td>\n",
       "      <td>152081</td>\n",
       "      <td>4.0</td>\n",
       "      <td>4.119883</td>\n",
       "    </tr>\n",
       "    <tr>\n",
       "      <th>4</th>\n",
       "      <td>610</td>\n",
       "      <td>152077</td>\n",
       "      <td>4.0</td>\n",
       "      <td>3.472899</td>\n",
       "    </tr>\n",
       "    <tr>\n",
       "      <th>...</th>\n",
       "      <td>...</td>\n",
       "      <td>...</td>\n",
       "      <td>...</td>\n",
       "      <td>...</td>\n",
       "    </tr>\n",
       "    <tr>\n",
       "      <th>20163</th>\n",
       "      <td>1</td>\n",
       "      <td>296</td>\n",
       "      <td>3.0</td>\n",
       "      <td>4.899373</td>\n",
       "    </tr>\n",
       "    <tr>\n",
       "      <th>20164</th>\n",
       "      <td>1</td>\n",
       "      <td>231</td>\n",
       "      <td>5.0</td>\n",
       "      <td>3.617588</td>\n",
       "    </tr>\n",
       "    <tr>\n",
       "      <th>20165</th>\n",
       "      <td>1</td>\n",
       "      <td>110</td>\n",
       "      <td>4.0</td>\n",
       "      <td>4.957850</td>\n",
       "    </tr>\n",
       "    <tr>\n",
       "      <th>20166</th>\n",
       "      <td>1</td>\n",
       "      <td>3</td>\n",
       "      <td>4.0</td>\n",
       "      <td>4.442357</td>\n",
       "    </tr>\n",
       "    <tr>\n",
       "      <th>20167</th>\n",
       "      <td>1</td>\n",
       "      <td>1</td>\n",
       "      <td>4.0</td>\n",
       "      <td>4.678735</td>\n",
       "    </tr>\n",
       "  </tbody>\n",
       "</table>\n",
       "<p>20168 rows × 4 columns</p>\n",
       "</div>"
      ],
      "text/plain": [
       "       uid     iid  og_rating  nmf_rating\n",
       "0      610  166534        4.0    3.774134\n",
       "1      610  160341        2.5    3.500961\n",
       "2      610  160080        3.0    2.898985\n",
       "3      610  152081        4.0    4.119883\n",
       "4      610  152077        4.0    3.472899\n",
       "...    ...     ...        ...         ...\n",
       "20163    1     296        3.0    4.899373\n",
       "20164    1     231        5.0    3.617588\n",
       "20165    1     110        4.0    4.957850\n",
       "20166    1       3        4.0    4.442357\n",
       "20167    1       1        4.0    4.678735\n",
       "\n",
       "[20168 rows x 4 columns]"
      ]
     },
     "execution_count": 12,
     "metadata": {},
     "output_type": "execute_result"
    }
   ],
   "source": [
    "test_pred_df"
   ]
  },
  {
   "cell_type": "code",
   "execution_count": 13,
   "metadata": {},
   "outputs": [],
   "source": [
    "df_movies = pd.read_csv('./datasets/Movies.csv')"
   ]
  },
  {
   "cell_type": "code",
   "execution_count": 14,
   "metadata": {},
   "outputs": [],
   "source": [
    "def get_top_n(predictions, n=10):\n",
    "    top_n = defaultdict(list)\n",
    "    org_ratings = defaultdict(list)\n",
    "    \n",
    "    for row in predictions.itertuples(index=False):\n",
    "        uid, iid, og_rating, nmf_rating = row.uid, row.iid, row.og_rating, row.nmf_rating\n",
    "        top_n[uid].append((iid, nmf_rating))\n",
    "        org_ratings[uid].append((iid, og_rating))\n",
    "    \n",
    "    for uid, user_ratings in top_n.items():\n",
    "        user_ratings.sort(key=lambda x: x[1], reverse=True)  \n",
    "        top_n[uid] = user_ratings[:n]\n",
    "    \n",
    "    return top_n, org_ratings\n"
   ]
  },
  {
   "cell_type": "code",
   "execution_count": 15,
   "metadata": {},
   "outputs": [],
   "source": [
    "def show_user_recommended_movies_in_df(predictions, user_id, n=10):\n",
    "    top_n, org_ratings = get_top_n(predictions, n)\n",
    "    \n",
    "    if user_id in top_n:\n",
    "        recommended_movies_ids = [movie_id for movie_id, _ in top_n[user_id]]\n",
    "    else:\n",
    "        return pd.DataFrame()\n",
    "    \n",
    "    recommended_movies_df = df_movies.loc[df_movies['movieId'].isin(recommended_movies_ids)]\n",
    "    \n",
    "    return recommended_movies_df"
   ]
  },
  {
   "cell_type": "code",
   "execution_count": 16,
   "metadata": {},
   "outputs": [
    {
     "data": {
      "text/html": [
       "<div>\n",
       "<style scoped>\n",
       "    .dataframe tbody tr th:only-of-type {\n",
       "        vertical-align: middle;\n",
       "    }\n",
       "\n",
       "    .dataframe tbody tr th {\n",
       "        vertical-align: top;\n",
       "    }\n",
       "\n",
       "    .dataframe thead th {\n",
       "        text-align: right;\n",
       "    }\n",
       "</style>\n",
       "<table border=\"1\" class=\"dataframe\">\n",
       "  <thead>\n",
       "    <tr style=\"text-align: right;\">\n",
       "      <th></th>\n",
       "      <th>movieId</th>\n",
       "      <th>title</th>\n",
       "      <th>genres</th>\n",
       "    </tr>\n",
       "  </thead>\n",
       "  <tbody>\n",
       "    <tr>\n",
       "      <th>4159</th>\n",
       "      <td>5989</td>\n",
       "      <td>Catch Me If You Can (2002)</td>\n",
       "      <td>Crime|Drama</td>\n",
       "    </tr>\n",
       "    <tr>\n",
       "      <th>6710</th>\n",
       "      <td>58559</td>\n",
       "      <td>Dark Knight, The (2008)</td>\n",
       "      <td>Action|Crime|Drama|IMAX</td>\n",
       "    </tr>\n",
       "    <tr>\n",
       "      <th>7646</th>\n",
       "      <td>88140</td>\n",
       "      <td>Captain America: The First Avenger (2011)</td>\n",
       "      <td>Action|Adventure|Sci-Fi|Thriller|War</td>\n",
       "    </tr>\n",
       "    <tr>\n",
       "      <th>7693</th>\n",
       "      <td>89745</td>\n",
       "      <td>Avengers, The (2012)</td>\n",
       "      <td>Action|Adventure|Sci-Fi|IMAX</td>\n",
       "    </tr>\n",
       "    <tr>\n",
       "      <th>8569</th>\n",
       "      <td>116797</td>\n",
       "      <td>The Imitation Game (2014)</td>\n",
       "      <td>Drama|Thriller|War</td>\n",
       "    </tr>\n",
       "  </tbody>\n",
       "</table>\n",
       "</div>"
      ],
      "text/plain": [
       "      movieId                                      title  \\\n",
       "4159     5989                 Catch Me If You Can (2002)   \n",
       "6710    58559                    Dark Knight, The (2008)   \n",
       "7646    88140  Captain America: The First Avenger (2011)   \n",
       "7693    89745                       Avengers, The (2012)   \n",
       "8569   116797                  The Imitation Game (2014)   \n",
       "\n",
       "                                    genres  \n",
       "4159                           Crime|Drama  \n",
       "6710               Action|Crime|Drama|IMAX  \n",
       "7646  Action|Adventure|Sci-Fi|Thriller|War  \n",
       "7693          Action|Adventure|Sci-Fi|IMAX  \n",
       "8569                    Drama|Thriller|War  "
      ]
     },
     "execution_count": 16,
     "metadata": {},
     "output_type": "execute_result"
    }
   ],
   "source": [
    "show_user_recommended_movies_in_df(test_pred_df, 550, 5)"
   ]
  },
  {
   "cell_type": "code",
   "execution_count": null,
   "metadata": {},
   "outputs": [],
   "source": []
  }
 ],
 "metadata": {
  "kernelspec": {
   "display_name": "Python 3 (ipykernel)",
   "language": "python",
   "name": "python3"
  },
  "language_info": {
   "codemirror_mode": {
    "name": "ipython",
    "version": 3
   },
   "file_extension": ".py",
   "mimetype": "text/x-python",
   "name": "python",
   "nbconvert_exporter": "python",
   "pygments_lexer": "ipython3",
   "version": "3.10.13"
  }
 },
 "nbformat": 4,
 "nbformat_minor": 2
}
