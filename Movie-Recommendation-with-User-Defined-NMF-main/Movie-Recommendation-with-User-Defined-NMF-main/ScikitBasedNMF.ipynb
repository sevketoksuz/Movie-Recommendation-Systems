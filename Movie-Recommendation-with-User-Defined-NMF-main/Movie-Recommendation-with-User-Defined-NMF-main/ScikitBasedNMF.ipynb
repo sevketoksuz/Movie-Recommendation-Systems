{
 "cells": [
  {
   "cell_type": "code",
   "execution_count": 1,
   "metadata": {},
   "outputs": [],
   "source": [
    "import pandas as pd\n",
    "import numpy as np\n",
    "import matplotlib.pyplot as plt\n",
    "\n",
    "from sklearn.decomposition import NMF\n",
    "from sklearn.preprocessing import MaxAbsScaler\n",
    "from sklearn.metrics import mean_squared_error\n",
    "from sklearn.model_selection import train_test_split\n",
    "from sklearn.metrics import accuracy_score, precision_score, recall_score\n",
    "from sklearn.preprocessing import MinMaxScaler\n",
    "\n",
    "from utils.ScikitBasedNMF import UserDefinedNMF"
   ]
  },
  {
   "cell_type": "code",
   "execution_count": 2,
   "metadata": {},
   "outputs": [],
   "source": [
    "def load_data(file_path):\n",
    "    df = pd.read_csv(file_path, usecols=['userId', 'movieId', 'rating'])\n",
    "    return df"
   ]
  },
  {
   "cell_type": "code",
   "execution_count": 3,
   "metadata": {},
   "outputs": [],
   "source": [
    "traindf = load_data('./datasets/training_data.csv')"
   ]
  },
  {
   "cell_type": "code",
   "execution_count": 4,
   "metadata": {},
   "outputs": [],
   "source": [
    "df_movies = pd.read_csv('./datasets/Movies.csv')"
   ]
  },
  {
   "cell_type": "code",
   "execution_count": 5,
   "metadata": {},
   "outputs": [],
   "source": [
    "user_ids = traindf['userId'].astype(\"category\").cat.codes\n",
    "item_ids = traindf['movieId'].astype(\"category\").cat.codes"
   ]
  },
  {
   "cell_type": "code",
   "execution_count": 6,
   "metadata": {},
   "outputs": [],
   "source": [
    "rating_matrix = np.zeros((user_ids.max()+1, item_ids.max()+1))\n",
    "rating_matrix[user_ids, item_ids] = traindf['rating']"
   ]
  },
  {
   "cell_type": "code",
   "execution_count": 7,
   "metadata": {},
   "outputs": [],
   "source": [
    "scaler = MinMaxScaler(feature_range = (0.5, 5))\n",
    "\n",
    "rating_matrix_scaled = scaler.fit_transform(rating_matrix)"
   ]
  },
  {
   "cell_type": "code",
   "execution_count": 8,
   "metadata": {},
   "outputs": [
    {
     "name": "stderr",
     "output_type": "stream",
     "text": [
      "C:\\Users\\DTSOKSUZ\\AppData\\Local\\anaconda3\\Lib\\site-packages\\sklearn\\decomposition\\_nmf.py:1710: ConvergenceWarning: Maximum number of iterations 200 reached. Increase it to improve convergence.\n",
      "  warnings.warn(\n"
     ]
    },
    {
     "data": {
      "text/plain": [
       "<utils.ScikitBasedNMF.UserDefinedNMF at 0x27b4a925310>"
      ]
     },
     "execution_count": 8,
     "metadata": {},
     "output_type": "execute_result"
    }
   ],
   "source": [
    "model = UserDefinedNMF(n_components=15, max_iter=200)\n",
    "model.fit(rating_matrix_scaled)"
   ]
  },
  {
   "cell_type": "code",
   "execution_count": 9,
   "metadata": {},
   "outputs": [],
   "source": [
    "W = model.transform(rating_matrix_scaled)\n",
    "H = model.model.components_"
   ]
  },
  {
   "cell_type": "code",
   "execution_count": 10,
   "metadata": {},
   "outputs": [],
   "source": [
    "def get_top_n(user_id, n):\n",
    "    predicted_ratings = np.dot(W[user_id, :], H)\n",
    "    recommended_item_ids = np.argsort(predicted_ratings)[::-1][:n]\n",
    "    \n",
    "    return recommended_item_ids"
   ]
  },
  {
   "cell_type": "code",
   "execution_count": 11,
   "metadata": {},
   "outputs": [],
   "source": [
    "def show_user_recommended_movies_in_df(user_id,n):\n",
    "    item_ids = get_top_n(user_id, n)\n",
    "    \n",
    "    recommended_movies_df = df_movies.loc[df_movies['movieId'].isin(item_ids)]\n",
    "\n",
    "    return recommended_movies_df"
   ]
  },
  {
   "cell_type": "code",
   "execution_count": 12,
   "metadata": {
    "scrolled": true
   },
   "outputs": [
    {
     "data": {
      "text/html": [
       "<div>\n",
       "<style scoped>\n",
       "    .dataframe tbody tr th:only-of-type {\n",
       "        vertical-align: middle;\n",
       "    }\n",
       "\n",
       "    .dataframe tbody tr th {\n",
       "        vertical-align: top;\n",
       "    }\n",
       "\n",
       "    .dataframe thead th {\n",
       "        text-align: right;\n",
       "    }\n",
       "</style>\n",
       "<table border=\"1\" class=\"dataframe\">\n",
       "  <thead>\n",
       "    <tr style=\"text-align: right;\">\n",
       "      <th></th>\n",
       "      <th>movieId</th>\n",
       "      <th>title</th>\n",
       "      <th>genres</th>\n",
       "    </tr>\n",
       "  </thead>\n",
       "  <tbody>\n",
       "    <tr>\n",
       "      <th>232</th>\n",
       "      <td>270</td>\n",
       "      <td>Love Affair (1994)</td>\n",
       "      <td>['Drama', 'Romance']</td>\n",
       "    </tr>\n",
       "    <tr>\n",
       "      <th>1375</th>\n",
       "      <td>1884</td>\n",
       "      <td>Fear and Loathing in Las Vegas (1998)</td>\n",
       "      <td>['Adventure', 'Comedy', 'Drama']</td>\n",
       "    </tr>\n",
       "    <tr>\n",
       "      <th>1610</th>\n",
       "      <td>2152</td>\n",
       "      <td>Air Bud: Golden Receiver (1998)</td>\n",
       "      <td>['Children', 'Comedy']</td>\n",
       "    </tr>\n",
       "    <tr>\n",
       "      <th>4607</th>\n",
       "      <td>6862</td>\n",
       "      <td>Out of Time (2003)</td>\n",
       "      <td>['Crime', 'Drama', 'Thriller']</td>\n",
       "    </tr>\n",
       "  </tbody>\n",
       "</table>\n",
       "</div>"
      ],
      "text/plain": [
       "      movieId                                  title  \\\n",
       "232       270                     Love Affair (1994)   \n",
       "1375     1884  Fear and Loathing in Las Vegas (1998)   \n",
       "1610     2152        Air Bud: Golden Receiver (1998)   \n",
       "4607     6862                     Out of Time (2003)   \n",
       "\n",
       "                                genres  \n",
       "232               ['Drama', 'Romance']  \n",
       "1375  ['Adventure', 'Comedy', 'Drama']  \n",
       "1610            ['Children', 'Comedy']  \n",
       "4607    ['Crime', 'Drama', 'Thriller']  "
      ]
     },
     "execution_count": 12,
     "metadata": {},
     "output_type": "execute_result"
    }
   ],
   "source": [
    "show_user_recommended_movies_in_df(325,5)"
   ]
  },
  {
   "cell_type": "code",
   "execution_count": 13,
   "metadata": {},
   "outputs": [],
   "source": [
    "predicted_ratings_train = np.dot(W, H)\n",
    "actual_ratings_train = rating_matrix_scaled"
   ]
  },
  {
   "cell_type": "code",
   "execution_count": 14,
   "metadata": {},
   "outputs": [
    {
     "name": "stdout",
     "output_type": "stream",
     "text": [
      "RMSE: 0.34230408353098096\n"
     ]
    }
   ],
   "source": [
    "rmse_train = np.sqrt(mean_squared_error(actual_ratings_train[actual_ratings_train > 0], predicted_ratings_train[actual_ratings_train > 0]))\n",
    "print(f\"RMSE: {rmse_train}\")"
   ]
  },
  {
   "cell_type": "code",
   "execution_count": 15,
   "metadata": {},
   "outputs": [
    {
     "name": "stdout",
     "output_type": "stream",
     "text": [
      "Accuracy: 0.9928082512376306\n",
      "Precision: 0.9089787102746066\n",
      "Recall: 0.13245807292837553\n"
     ]
    }
   ],
   "source": [
    "threshold = 4\n",
    "\n",
    "actual_binary = (actual_ratings_train > threshold).astype(int)\n",
    "predicted_binary = (predicted_ratings_train > threshold).astype(int)\n",
    "\n",
    "accuracy = accuracy_score(actual_binary[actual_ratings_train > 0], predicted_binary[actual_ratings_train > 0])\n",
    "precision = precision_score(actual_binary[actual_ratings_train > 0], predicted_binary[actual_ratings_train > 0])\n",
    "recall = recall_score(actual_binary[actual_ratings_train > 0], predicted_binary[actual_ratings_train > 0])\n",
    "\n",
    "print(f\"Accuracy: {accuracy}\")\n",
    "print(f\"Precision: {precision}\")\n",
    "print(f\"Recall: {recall}\")"
   ]
  },
  {
   "cell_type": "code",
   "execution_count": 16,
   "metadata": {},
   "outputs": [
    {
     "data": {
      "text/plain": [
       "array([[4.1 , 0.5 , 4.1 , ..., 0.5 , 0.5 , 0.5 ],\n",
       "       [0.5 , 0.5 , 0.5 , ..., 0.5 , 0.5 , 0.5 ],\n",
       "       [0.5 , 0.5 , 0.5 , ..., 0.5 , 0.5 , 0.5 ],\n",
       "       ...,\n",
       "       [2.75, 2.3 , 2.3 , ..., 0.5 , 0.5 , 0.5 ],\n",
       "       [3.2 , 0.5 , 0.5 , ..., 0.5 , 0.5 , 0.5 ],\n",
       "       [5.  , 0.5 , 0.5 , ..., 0.5 , 0.5 , 0.5 ]])"
      ]
     },
     "execution_count": 16,
     "metadata": {},
     "output_type": "execute_result"
    }
   ],
   "source": [
    "actual_ratings_train"
   ]
  },
  {
   "cell_type": "code",
   "execution_count": 17,
   "metadata": {
    "scrolled": true
   },
   "outputs": [
    {
     "data": {
      "text/plain": [
       "array([[3.02628947, 1.23811064, 1.35484401, ..., 0.49249215, 0.49249215,\n",
       "        0.47983181],\n",
       "       [0.75576988, 0.45653177, 0.50006024, ..., 0.52233231, 0.52233231,\n",
       "        0.5180532 ],\n",
       "       [0.79378735, 0.46003264, 0.56700126, ..., 0.52174076, 0.52174076,\n",
       "        0.50433668],\n",
       "       ...,\n",
       "       [3.17411736, 2.0938697 , 1.84926424, ..., 0.46515818, 0.46515818,\n",
       "        0.50452735],\n",
       "       [1.18627095, 1.01474261, 0.68784565, ..., 0.51238859, 0.51238859,\n",
       "        0.50767782],\n",
       "       [4.60590953, 0.15127466, 0.32541917, ..., 0.48692287, 0.48692287,\n",
       "        0.45386947]])"
      ]
     },
     "execution_count": 17,
     "metadata": {},
     "output_type": "execute_result"
    }
   ],
   "source": [
    "predicted_ratings_train"
   ]
  },
  {
   "cell_type": "code",
   "execution_count": 18,
   "metadata": {},
   "outputs": [
    {
     "data": {
      "text/plain": [
       "\"plt.figure(figsize=(10, 6))\\nplt.hist(predicted_ratings_train[actual_ratings_train > 0], bins=50, alpha=0.75)\\nplt.title('Histogram of Predicted Ratings')\\nplt.xlabel('Predicted Rating')\\nplt.ylabel('Frequency')\\nplt.show()\""
      ]
     },
     "execution_count": 18,
     "metadata": {},
     "output_type": "execute_result"
    }
   ],
   "source": [
    "\"\"\"plt.figure(figsize=(10, 6))\n",
    "plt.hist(predicted_ratings_train[actual_ratings_train > 0], bins=50, alpha=0.75)\n",
    "plt.title('Histogram of Predicted Ratings')\n",
    "plt.xlabel('Predicted Rating')\n",
    "plt.ylabel('Frequency')\n",
    "plt.show()\"\"\""
   ]
  },
  {
   "cell_type": "code",
   "execution_count": null,
   "metadata": {},
   "outputs": [],
   "source": []
  }
 ],
 "metadata": {
  "kernelspec": {
   "display_name": "Python 3 (ipykernel)",
   "language": "python",
   "name": "python3"
  },
  "language_info": {
   "codemirror_mode": {
    "name": "ipython",
    "version": 3
   },
   "file_extension": ".py",
   "mimetype": "text/x-python",
   "name": "python",
   "nbconvert_exporter": "python",
   "pygments_lexer": "ipython3",
   "version": "3.11.5"
  }
 },
 "nbformat": 4,
 "nbformat_minor": 2
}
