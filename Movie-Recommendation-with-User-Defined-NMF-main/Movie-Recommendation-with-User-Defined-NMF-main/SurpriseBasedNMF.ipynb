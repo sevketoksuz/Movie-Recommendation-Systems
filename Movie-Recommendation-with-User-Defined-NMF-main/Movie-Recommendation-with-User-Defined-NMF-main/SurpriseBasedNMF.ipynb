{
 "cells": [
  {
   "cell_type": "code",
   "execution_count": 1,
   "metadata": {},
   "outputs": [],
   "source": [
    "from surprise import Dataset, Reader\n",
    "import pandas as pd\n",
    "import numpy as np\n",
    "from collections import defaultdict\n",
    "\n",
    "from utils.SurpriseBasedNMF import UserDefinedNMF"
   ]
  },
  {
   "cell_type": "code",
   "execution_count": 2,
   "metadata": {},
   "outputs": [],
   "source": [
    "def load_data(file_path):\n",
    "    df = pd.read_csv(file_path, usecols=['userId', 'movieId', 'rating'])\n",
    "    return df"
   ]
  },
  {
   "cell_type": "code",
   "execution_count": 3,
   "metadata": {},
   "outputs": [],
   "source": [
    "def prepare_data_for_surprise(dataframe):\n",
    "    reader = Reader(rating_scale=(1, 5))\n",
    "    data = Dataset.load_from_df(dataframe[['userId', 'movieId', 'rating']], reader)\n",
    "    return data"
   ]
  },
  {
   "cell_type": "code",
   "execution_count": 4,
   "metadata": {},
   "outputs": [],
   "source": [
    "traindf = load_data('./datasets/training_data.csv')\n",
    "\n",
    "data = prepare_data_for_surprise(traindf)"
   ]
  },
  {
   "cell_type": "code",
   "execution_count": 5,
   "metadata": {},
   "outputs": [],
   "source": [
    "user_ids = traindf['userId'].unique()\n",
    "user_id_map = {old: new for new, old in enumerate(user_ids)}\n",
    "item_ids = traindf['movieId'].unique()\n",
    "item_id_map = {old: new for new, old in enumerate(item_ids)}\n",
    "\n",
    "traindf['userId'] = traindf['userId'].map(user_id_map)\n",
    "traindf['movieId'] = traindf['movieId'].map(item_id_map)"
   ]
  },
  {
   "cell_type": "code",
   "execution_count": 6,
   "metadata": {},
   "outputs": [],
   "source": [
    "model = UserDefinedNMF()\n",
    "\n",
    "model.fit(data.build_full_trainset())"
   ]
  },
  {
   "cell_type": "code",
   "execution_count": 7,
   "metadata": {},
   "outputs": [
    {
     "name": "stdout",
     "output_type": "stream",
     "text": [
      "Predicted rating for user 1 and item 2 is 4.2318336277485\n"
     ]
    }
   ],
   "source": [
    "u, i = 1, 2\n",
    "prediction = model.predict(u, i)\n",
    "print(f\"Predicted rating for user {u} and item {i} is {prediction}\")"
   ]
  },
  {
   "cell_type": "code",
   "execution_count": 8,
   "metadata": {},
   "outputs": [],
   "source": [
    "testdf = load_data('./datasets/testing_data.csv')\n",
    "testdf['userId'] = testdf['userId'].map(user_id_map, na_action='ignore')\n",
    "testdf['movieId'] = testdf['movieId'].map(item_id_map, na_action='ignore')\n",
    "trainset = data.build_full_trainset()\n",
    "testset = [tuple(row) for row in testdf.itertuples(index=False)]"
   ]
  },
  {
   "cell_type": "code",
   "execution_count": 9,
   "metadata": {},
   "outputs": [],
   "source": [
    "predictions = model.test(testset)"
   ]
  },
  {
   "cell_type": "code",
   "execution_count": 10,
   "metadata": {},
   "outputs": [
    {
     "data": {
      "text/html": [
       "<div>\n",
       "<style scoped>\n",
       "    .dataframe tbody tr th:only-of-type {\n",
       "        vertical-align: middle;\n",
       "    }\n",
       "\n",
       "    .dataframe tbody tr th {\n",
       "        vertical-align: top;\n",
       "    }\n",
       "\n",
       "    .dataframe thead th {\n",
       "        text-align: right;\n",
       "    }\n",
       "</style>\n",
       "<table border=\"1\" class=\"dataframe\">\n",
       "  <thead>\n",
       "    <tr style=\"text-align: right;\">\n",
       "      <th></th>\n",
       "      <th>uid</th>\n",
       "      <th>iid</th>\n",
       "      <th>rui</th>\n",
       "      <th>est</th>\n",
       "    </tr>\n",
       "  </thead>\n",
       "  <tbody>\n",
       "    <tr>\n",
       "      <th>count</th>\n",
       "      <td>18043.000000</td>\n",
       "      <td>18043.000000</td>\n",
       "      <td>18043.000000</td>\n",
       "      <td>18043.000000</td>\n",
       "    </tr>\n",
       "    <tr>\n",
       "      <th>mean</th>\n",
       "      <td>321.772377</td>\n",
       "      <td>1099.526354</td>\n",
       "      <td>3.563847</td>\n",
       "      <td>3.744220</td>\n",
       "    </tr>\n",
       "    <tr>\n",
       "      <th>std</th>\n",
       "      <td>182.610173</td>\n",
       "      <td>878.233695</td>\n",
       "      <td>1.030476</td>\n",
       "      <td>0.500000</td>\n",
       "    </tr>\n",
       "    <tr>\n",
       "      <th>min</th>\n",
       "      <td>0.000000</td>\n",
       "      <td>0.000000</td>\n",
       "      <td>0.500000</td>\n",
       "      <td>1.451125</td>\n",
       "    </tr>\n",
       "    <tr>\n",
       "      <th>25%</th>\n",
       "      <td>169.000000</td>\n",
       "      <td>360.000000</td>\n",
       "      <td>3.000000</td>\n",
       "      <td>3.426255</td>\n",
       "    </tr>\n",
       "    <tr>\n",
       "      <th>50%</th>\n",
       "      <td>317.000000</td>\n",
       "      <td>868.000000</td>\n",
       "      <td>4.000000</td>\n",
       "      <td>3.783520</td>\n",
       "    </tr>\n",
       "    <tr>\n",
       "      <th>75%</th>\n",
       "      <td>476.000000</td>\n",
       "      <td>1696.000000</td>\n",
       "      <td>4.000000</td>\n",
       "      <td>4.095901</td>\n",
       "    </tr>\n",
       "    <tr>\n",
       "      <th>max</th>\n",
       "      <td>609.000000</td>\n",
       "      <td>3298.000000</td>\n",
       "      <td>5.000000</td>\n",
       "      <td>5.000000</td>\n",
       "    </tr>\n",
       "  </tbody>\n",
       "</table>\n",
       "</div>"
      ],
      "text/plain": [
       "                uid           iid           rui           est\n",
       "count  18043.000000  18043.000000  18043.000000  18043.000000\n",
       "mean     321.772377   1099.526354      3.563847      3.744220\n",
       "std      182.610173    878.233695      1.030476      0.500000\n",
       "min        0.000000      0.000000      0.500000      1.451125\n",
       "25%      169.000000    360.000000      3.000000      3.426255\n",
       "50%      317.000000    868.000000      4.000000      3.783520\n",
       "75%      476.000000   1696.000000      4.000000      4.095901\n",
       "max      609.000000   3298.000000      5.000000      5.000000"
      ]
     },
     "execution_count": 10,
     "metadata": {},
     "output_type": "execute_result"
    }
   ],
   "source": [
    "predictions_df = pd.DataFrame(predictions, columns=['uid', 'iid', 'rui', 'est'])\n",
    "predictions_df.describe()"
   ]
  },
  {
   "cell_type": "code",
   "execution_count": 11,
   "metadata": {},
   "outputs": [],
   "source": [
    "def calculate_accuracy(predictions, threshold=0.5):\n",
    "    correct_predictions = sum(abs(estimated_rating - true_rating) <= threshold for _, _, true_rating, estimated_rating in predictions)\n",
    "    accuracy = correct_predictions / len(predictions)\n",
    "    return accuracy"
   ]
  },
  {
   "cell_type": "code",
   "execution_count": 12,
   "metadata": {},
   "outputs": [
    {
     "name": "stdout",
     "output_type": "stream",
     "text": [
      "Accuracy (within ±0.5 of actual rating): 48.31%\n"
     ]
    }
   ],
   "source": [
    "threshold = 0.5\n",
    "test_accuracy = calculate_accuracy(predictions, threshold)\n",
    "\n",
    "print(f\"Accuracy (within ±{threshold} of actual rating): {test_accuracy:.2%}\")"
   ]
  },
  {
   "cell_type": "code",
   "execution_count": 13,
   "metadata": {},
   "outputs": [],
   "source": [
    "def create_predictions_dataframe(predictions):\n",
    "    predictions_data = [{'uid': pred[0], 'iid': pred[1], 'og_rating': pred[2], 'nmf_rating': pred[3]} for pred in predictions]\n",
    "    return pd.DataFrame(predictions_data)\n",
    "\n",
    "test_pred_df = create_predictions_dataframe(predictions)"
   ]
  },
  {
   "cell_type": "code",
   "execution_count": 14,
   "metadata": {},
   "outputs": [],
   "source": [
    "df_movies = pd.read_csv('./datasets/Movies.csv')"
   ]
  },
  {
   "cell_type": "code",
   "execution_count": 15,
   "metadata": {},
   "outputs": [],
   "source": [
    "def get_top_n(predictions, n=10):\n",
    "    top_n = defaultdict(list)\n",
    "    \n",
    "    for row in predictions.itertuples(index=False):\n",
    "        uid, iid, nmf_rating = row.uid, row.iid, row.nmf_rating\n",
    "        top_n[uid].append((iid, nmf_rating))\n",
    "    \n",
    "    for uid, user_ratings in top_n.items():\n",
    "        user_ratings.sort(key=lambda x: x[1], reverse=True)  \n",
    "        top_n[uid] = user_ratings[:n]\n",
    "    \n",
    "    return top_n"
   ]
  },
  {
   "cell_type": "code",
   "execution_count": 16,
   "metadata": {},
   "outputs": [],
   "source": [
    "def show_user_recommended_movies_in_df(predictions, user_id, n=10):\n",
    "    top_n = get_top_n(predictions, n)\n",
    "    \n",
    "    if user_id in top_n:\n",
    "        recommended_movies_ids = [movie_id for movie_id, _ in top_n[user_id]]\n",
    "    else:\n",
    "        return pd.DataFrame()\n",
    "    \n",
    "    recommended_movies_df = df_movies.loc[df_movies['movieId'].isin(recommended_movies_ids)]\n",
    "    \n",
    "    return recommended_movies_df"
   ]
  },
  {
   "cell_type": "code",
   "execution_count": 17,
   "metadata": {},
   "outputs": [
    {
     "name": "stdout",
     "output_type": "stream",
     "text": [
      "\t\t\t\t*****1*****\n",
      "\n",
      "     movieId                                              title  \\\n",
      "143      171                                     Jeffrey (1995)   \n",
      "168      199  Umbrellas of Cherbourg, The (Parapluies de Che...   \n",
      "580      711                                     Flipper (1996)   \n",
      "\n",
      "                              genres  \n",
      "143              ['Comedy', 'Drama']  \n",
      "168  ['Drama', 'Musical', 'Romance']  \n",
      "580        ['Adventure', 'Children']  \n",
      "\n",
      "\n"
     ]
    }
   ],
   "source": [
    "for i in range(1,2):\n",
    "    print(\"\\t\\t\\t\\t*****{}*****\\n\".format(i))\n",
    "    print(show_user_recommended_movies_in_df(test_pred_df, i, 5))\n",
    "    print(\"\\n\")"
   ]
  },
  {
   "cell_type": "code",
   "execution_count": 18,
   "metadata": {},
   "outputs": [
    {
     "data": {
      "text/html": [
       "<div>\n",
       "<style scoped>\n",
       "    .dataframe tbody tr th:only-of-type {\n",
       "        vertical-align: middle;\n",
       "    }\n",
       "\n",
       "    .dataframe tbody tr th {\n",
       "        vertical-align: top;\n",
       "    }\n",
       "\n",
       "    .dataframe thead th {\n",
       "        text-align: right;\n",
       "    }\n",
       "</style>\n",
       "<table border=\"1\" class=\"dataframe\">\n",
       "  <thead>\n",
       "    <tr style=\"text-align: right;\">\n",
       "      <th></th>\n",
       "      <th>movieId</th>\n",
       "      <th>title</th>\n",
       "      <th>genres</th>\n",
       "    </tr>\n",
       "  </thead>\n",
       "  <tbody>\n",
       "    <tr>\n",
       "      <th>24</th>\n",
       "      <td>25</td>\n",
       "      <td>Leaving Las Vegas (1995)</td>\n",
       "      <td>['Drama', 'Romance']</td>\n",
       "    </tr>\n",
       "    <tr>\n",
       "      <th>299</th>\n",
       "      <td>341</td>\n",
       "      <td>Double Happiness (1994)</td>\n",
       "      <td>['Drama']</td>\n",
       "    </tr>\n",
       "    <tr>\n",
       "      <th>331</th>\n",
       "      <td>373</td>\n",
       "      <td>Red Rock West (1992)</td>\n",
       "      <td>['Thriller']</td>\n",
       "    </tr>\n",
       "    <tr>\n",
       "      <th>389</th>\n",
       "      <td>448</td>\n",
       "      <td>Fearless (1993)</td>\n",
       "      <td>['Drama']</td>\n",
       "    </tr>\n",
       "  </tbody>\n",
       "</table>\n",
       "</div>"
      ],
      "text/plain": [
       "     movieId                     title                genres\n",
       "24        25  Leaving Las Vegas (1995)  ['Drama', 'Romance']\n",
       "299      341   Double Happiness (1994)             ['Drama']\n",
       "331      373      Red Rock West (1992)          ['Thriller']\n",
       "389      448           Fearless (1993)             ['Drama']"
      ]
     },
     "execution_count": 18,
     "metadata": {},
     "output_type": "execute_result"
    }
   ],
   "source": [
    "show_user_recommended_movies_in_df(test_pred_df, 403, 5)"
   ]
  },
  {
   "cell_type": "code",
   "execution_count": 19,
   "metadata": {},
   "outputs": [],
   "source": [
    "def calculate_rmse(predictions):\n",
    "    mse = np.mean([(true_r - est_r) ** 2 for _, _, true_r, est_r in predictions])\n",
    "    return np.sqrt(mse)"
   ]
  },
  {
   "cell_type": "code",
   "execution_count": 20,
   "metadata": {},
   "outputs": [
    {
     "name": "stdout",
     "output_type": "stream",
     "text": [
      "Model RMSE: 0.8803950466395636\n"
     ]
    }
   ],
   "source": [
    "predictions = model.test(testset)\n",
    "\n",
    "rmse = calculate_rmse(predictions)\n",
    "print(f\"Model RMSE: {rmse}\")\n"
   ]
  },
  {
   "cell_type": "code",
   "execution_count": null,
   "metadata": {},
   "outputs": [],
   "source": []
  }
 ],
 "metadata": {
  "kernelspec": {
   "display_name": "Python 3 (ipykernel)",
   "language": "python",
   "name": "python3"
  },
  "language_info": {
   "codemirror_mode": {
    "name": "ipython",
    "version": 3
   },
   "file_extension": ".py",
   "mimetype": "text/x-python",
   "name": "python",
   "nbconvert_exporter": "python",
   "pygments_lexer": "ipython3",
   "version": "3.11.5"
  }
 },
 "nbformat": 4,
 "nbformat_minor": 2
}
