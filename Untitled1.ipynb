{
 "cells": [
  {
   "cell_type": "code",
   "execution_count": 1,
   "id": "2aeec582",
   "metadata": {},
   "outputs": [],
   "source": [
    "import pandas as pd"
   ]
  },
  {
   "cell_type": "code",
   "execution_count": 2,
   "id": "47e7066e",
   "metadata": {},
   "outputs": [],
   "source": [
    "movies_df  = pd.read_csv(\"./Datasets/Movies.csv\")\n",
    "links_df   = pd.read_csv(\"./Datasets/Links.csv\")\n",
    "tags_df    = pd.read_csv(\"./Datasets/Tags.csv\")\n",
    "ratings_df = pd.read_csv(\"./Datasets/Ratings.csv\")"
   ]
  },
  {
   "cell_type": "code",
   "execution_count": 3,
   "id": "86597eea",
   "metadata": {},
   "outputs": [
    {
     "name": "stdout",
     "output_type": "stream",
     "text": [
      "Shape of the user-movie ratings matrix: (9724, 610)\n",
      "userId   1    2    3    4    5    6    7    8    9    10   ...  601  602  603  \\\n",
      "movieId                                                    ...                  \n",
      "1        4.0  0.0  0.0  0.0  4.0  0.0  4.5  0.0  0.0  0.0  ...  4.0  0.0  4.0   \n",
      "2        0.0  0.0  0.0  0.0  0.0  4.0  0.0  4.0  0.0  0.0  ...  0.0  4.0  0.0   \n",
      "3        4.0  0.0  0.0  0.0  0.0  5.0  0.0  0.0  0.0  0.0  ...  0.0  0.0  0.0   \n",
      "4        0.0  0.0  0.0  0.0  0.0  3.0  0.0  0.0  0.0  0.0  ...  0.0  0.0  0.0   \n",
      "5        0.0  0.0  0.0  0.0  0.0  5.0  0.0  0.0  0.0  0.0  ...  0.0  0.0  0.0   \n",
      "\n",
      "userId   604  605  606  607  608  609  610  \n",
      "movieId                                     \n",
      "1        3.0  4.0  2.5  4.0  2.5  3.0  5.0  \n",
      "2        5.0  3.5  0.0  0.0  2.0  0.0  0.0  \n",
      "3        0.0  0.0  0.0  0.0  2.0  0.0  0.0  \n",
      "4        0.0  0.0  0.0  0.0  0.0  0.0  0.0  \n",
      "5        3.0  0.0  0.0  0.0  0.0  0.0  0.0  \n",
      "\n",
      "[5 rows x 610 columns]\n"
     ]
    }
   ],
   "source": [
    "ratings_matrix = ratings_df.pivot_table(index='movieId', columns='userId', values='rating').fillna(0)\n",
    "\n",
    "print(\"Shape of the user-movie ratings matrix:\", ratings_matrix.shape)\n",
    "\n",
    "print(ratings_matrix.head())"
   ]
  },
  {
   "cell_type": "code",
   "execution_count": 4,
   "id": "9e05c84e",
   "metadata": {},
   "outputs": [
    {
     "name": "stdout",
     "output_type": "stream",
     "text": [
      "movieId    1         2         3         4         5         6         7       \\\n",
      "movieId                                                                         \n",
      "1        1.000000  0.410562  0.296917  0.035573  0.308762  0.376316  0.277491   \n",
      "2        0.410562  1.000000  0.282438  0.106415  0.287795  0.297009  0.228576   \n",
      "3        0.296917  0.282438  1.000000  0.092406  0.417802  0.284257  0.402831   \n",
      "4        0.035573  0.106415  0.092406  1.000000  0.188376  0.089685  0.275035   \n",
      "5        0.308762  0.287795  0.417802  0.188376  1.000000  0.298969  0.474002   \n",
      "\n",
      "movieId    8         9         10      ...  193565  193567  193571  193573  \\\n",
      "movieId                                ...                                   \n",
      "1        0.131629  0.232586  0.395573  ...     0.0     0.0     0.0     0.0   \n",
      "2        0.172498  0.044835  0.417693  ...     0.0     0.0     0.0     0.0   \n",
      "3        0.313434  0.304840  0.242954  ...     0.0     0.0     0.0     0.0   \n",
      "4        0.158022  0.000000  0.095598  ...     0.0     0.0     0.0     0.0   \n",
      "5        0.283523  0.335058  0.218061  ...     0.0     0.0     0.0     0.0   \n",
      "\n",
      "movieId  193579  193581  193583  193585  193587  193609  \n",
      "movieId                                                  \n",
      "1           0.0     0.0     0.0     0.0     0.0     0.0  \n",
      "2           0.0     0.0     0.0     0.0     0.0     0.0  \n",
      "3           0.0     0.0     0.0     0.0     0.0     0.0  \n",
      "4           0.0     0.0     0.0     0.0     0.0     0.0  \n",
      "5           0.0     0.0     0.0     0.0     0.0     0.0  \n",
      "\n",
      "[5 rows x 9724 columns]\n"
     ]
    }
   ],
   "source": [
    "from sklearn.metrics.pairwise import cosine_similarity\n",
    "from scipy.sparse import csr_matrix\n",
    "\n",
    "ratings_matrix_sparse = csr_matrix(ratings_matrix.values)\n",
    "\n",
    "cosine_sim = cosine_similarity(ratings_matrix_sparse, ratings_matrix_sparse)\n",
    "\n",
    "cosine_sim_df = pd.DataFrame(cosine_sim, index=ratings_matrix.index, columns=ratings_matrix.index)\n",
    "\n",
    "print(cosine_sim_df.head())"
   ]
  },
  {
   "cell_type": "code",
   "execution_count": 21,
   "id": "b01e90d9",
   "metadata": {},
   "outputs": [],
   "source": [
    "def recommend_movies(movie_title, movies_df, cosine_sim_df, num_recommendations=10):\n",
    "    if movie_title in movies_df['title'].values:\n",
    "        movie_id = movies_df[movies_df['title'] == movie_title].iloc[0]['movieId']\n",
    "        \n",
    "        similar_movies = cosine_sim_df[movie_id].sort_values(ascending=False).iloc[1:num_recommendations+1].index\n",
    "        \n",
    "        recommended_movies = movies_df[movies_df['movieId'].isin(similar_movies)]['title']\n",
    "        return recommended_movies"
   ]
  },
  {
   "cell_type": "code",
   "execution_count": 26,
   "id": "2ffac952",
   "metadata": {},
   "outputs": [
    {
     "name": "stdout",
     "output_type": "stream",
     "text": [
      "Recommendations for 'Father of the Bride Part II (1995)':\n"
     ]
    },
    {
     "data": {
      "text/plain": [
       "2                         Grumpier Old Men (1995)\n",
       "6                                  Sabrina (1995)\n",
       "55                      Mr. Holland's Opus (1995)\n",
       "71                              Juror, The (1996)\n",
       "239                 Miracle on 34th Street (1994)\n",
       "540                             Sgt. Bilko (1996)\n",
       "594                                Twister (1996)\n",
       "607                             Striptease (1996)\n",
       "658                                Tin Cup (1996)\n",
       "815    Willy Wonka & the Chocolate Factory (1971)\n",
       "Name: title, dtype: object"
      ]
     },
     "execution_count": 26,
     "metadata": {},
     "output_type": "execute_result"
    }
   ],
   "source": [
    "test_movie_title = \"Father of the Bride Part II (1995)\"\n",
    "recommendations = recommend_movies(test_movie_title, movies_df, cosine_sim_df)\n",
    "print(f\"Recommendations for '{test_movie_title}':\")\n",
    "recommendations"
   ]
  },
  {
   "cell_type": "code",
   "execution_count": null,
   "id": "895251be",
   "metadata": {},
   "outputs": [],
   "source": []
  }
 ],
 "metadata": {
  "kernelspec": {
   "display_name": "Python 3 (ipykernel)",
   "language": "python",
   "name": "python3"
  },
  "language_info": {
   "codemirror_mode": {
    "name": "ipython",
    "version": 3
   },
   "file_extension": ".py",
   "mimetype": "text/x-python",
   "name": "python",
   "nbconvert_exporter": "python",
   "pygments_lexer": "ipython3",
   "version": "3.11.5"
  }
 },
 "nbformat": 4,
 "nbformat_minor": 5
}
