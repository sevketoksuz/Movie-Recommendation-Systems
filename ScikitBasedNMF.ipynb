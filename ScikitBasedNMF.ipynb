{
 "cells": [
  {
   "cell_type": "code",
   "execution_count": 1,
   "metadata": {},
   "outputs": [],
   "source": [
    "import pandas as pd\n",
    "import numpy as np\n",
    "import matplotlib.pyplot as plt\n",
    "\n",
    "from sklearn.decomposition import NMF\n",
    "from sklearn.preprocessing import MaxAbsScaler\n",
    "from sklearn.metrics import mean_squared_error\n",
    "from sklearn.model_selection import train_test_split\n",
    "from sklearn.metrics import accuracy_score, precision_score, recall_score\n",
    "from sklearn.preprocessing import MinMaxScaler\n",
    "\n",
    "from utils.ScikitBasedNMF import UserDefinedNMF"
   ]
  },
  {
   "cell_type": "code",
   "execution_count": 2,
   "metadata": {},
   "outputs": [],
   "source": [
    "def load_data(file_path):\n",
    "    df = pd.read_csv(file_path, usecols=['userId', 'movieId', 'rating'])\n",
    "    return df"
   ]
  },
  {
   "cell_type": "code",
   "execution_count": 3,
   "metadata": {},
   "outputs": [],
   "source": [
    "traindf = load_data('./datasets/training_data.csv')"
   ]
  },
  {
   "cell_type": "code",
   "execution_count": 4,
   "metadata": {},
   "outputs": [],
   "source": [
    "df_movies = pd.read_csv('./datasets/Movies.csv')"
   ]
  },
  {
   "cell_type": "code",
   "execution_count": 5,
   "metadata": {},
   "outputs": [],
   "source": [
    "user_ids = traindf['userId'].astype(\"category\").cat.codes\n",
    "item_ids = traindf['movieId'].astype(\"category\").cat.codes"
   ]
  },
  {
   "cell_type": "code",
   "execution_count": 6,
   "metadata": {},
   "outputs": [],
   "source": [
    "rating_matrix = np.zeros((user_ids.max()+1, item_ids.max()+1))\n",
    "rating_matrix[user_ids, item_ids] = traindf['rating']"
   ]
  },
  {
   "cell_type": "code",
   "execution_count": 7,
   "metadata": {},
   "outputs": [],
   "source": [
    "scaler = MinMaxScaler(feature_range = (0.5, 5))\n",
    "\n",
    "rating_matrix_scaled = scaler.fit_transform(rating_matrix)"
   ]
  },
  {
   "cell_type": "code",
   "execution_count": 8,
   "metadata": {},
   "outputs": [
    {
     "name": "stderr",
     "output_type": "stream",
     "text": [
      "C:\\Users\\DTSOKSUZ\\AppData\\Local\\anaconda3\\Lib\\site-packages\\sklearn\\decomposition\\_nmf.py:1710: ConvergenceWarning: Maximum number of iterations 200 reached. Increase it to improve convergence.\n",
      "  warnings.warn(\n"
     ]
    },
    {
     "data": {
      "text/plain": [
       "<utils.ScikitBasedNMF.UserDefinedNMF at 0x1c73cc01bd0>"
      ]
     },
     "execution_count": 8,
     "metadata": {},
     "output_type": "execute_result"
    }
   ],
   "source": [
    "model = UserDefinedNMF(n_components=15, max_iter=200)\n",
    "model.fit(rating_matrix_scaled)"
   ]
  },
  {
   "cell_type": "code",
   "execution_count": 9,
   "metadata": {},
   "outputs": [],
   "source": [
    "W = model.transform(rating_matrix_scaled)\n",
    "H = model.model.components_"
   ]
  },
  {
   "cell_type": "code",
   "execution_count": 10,
   "metadata": {},
   "outputs": [],
   "source": [
    "def get_top_n(user_id, n):\n",
    "    predicted_ratings = np.dot(W[user_id, :], H)\n",
    "    recommended_item_ids = np.argsort(predicted_ratings)[::-1][:n]\n",
    "    \n",
    "    return recommended_item_ids"
   ]
  },
  {
   "cell_type": "code",
   "execution_count": 11,
   "metadata": {},
   "outputs": [],
   "source": [
    "def show_user_recommended_movies_in_df(user_id,n):\n",
    "    item_ids = get_top_n(user_id, n)\n",
    "    \n",
    "    recommended_movies_df = df_movies.loc[df_movies['movieId'].isin(item_ids)]\n",
    "\n",
    "    return recommended_movies_df"
   ]
  },
  {
   "cell_type": "code",
   "execution_count": 21,
   "metadata": {
    "scrolled": true
   },
   "outputs": [
    {
     "data": {
      "text/html": [
       "<div>\n",
       "<style scoped>\n",
       "    .dataframe tbody tr th:only-of-type {\n",
       "        vertical-align: middle;\n",
       "    }\n",
       "\n",
       "    .dataframe tbody tr th {\n",
       "        vertical-align: top;\n",
       "    }\n",
       "\n",
       "    .dataframe thead th {\n",
       "        text-align: right;\n",
       "    }\n",
       "</style>\n",
       "<table border=\"1\" class=\"dataframe\">\n",
       "  <thead>\n",
       "    <tr style=\"text-align: right;\">\n",
       "      <th></th>\n",
       "      <th>movieId</th>\n",
       "      <th>title</th>\n",
       "      <th>genres</th>\n",
       "    </tr>\n",
       "  </thead>\n",
       "  <tbody>\n",
       "    <tr>\n",
       "      <th>84</th>\n",
       "      <td>95</td>\n",
       "      <td>Broken Arrow (1996)</td>\n",
       "      <td>['Action', 'Adventure', 'Thriller']</td>\n",
       "    </tr>\n",
       "    <tr>\n",
       "      <th>211</th>\n",
       "      <td>247</td>\n",
       "      <td>Heavenly Creatures (1994)</td>\n",
       "      <td>['Crime', 'Drama']</td>\n",
       "    </tr>\n",
       "    <tr>\n",
       "      <th>215</th>\n",
       "      <td>251</td>\n",
       "      <td>Hunted, The (1995)</td>\n",
       "      <td>['Action']</td>\n",
       "    </tr>\n",
       "    <tr>\n",
       "      <th>232</th>\n",
       "      <td>270</td>\n",
       "      <td>Love Affair (1994)</td>\n",
       "      <td>['Drama', 'Romance']</td>\n",
       "    </tr>\n",
       "    <tr>\n",
       "      <th>260</th>\n",
       "      <td>300</td>\n",
       "      <td>Quiz Show (1994)</td>\n",
       "      <td>['Drama']</td>\n",
       "    </tr>\n",
       "    <tr>\n",
       "      <th>267</th>\n",
       "      <td>307</td>\n",
       "      <td>Three Colors: Blue (Trois couleurs: Bleu) (1993)</td>\n",
       "      <td>['Drama']</td>\n",
       "    </tr>\n",
       "    <tr>\n",
       "      <th>274</th>\n",
       "      <td>315</td>\n",
       "      <td>Specialist, The (1994)</td>\n",
       "      <td>['Action', 'Drama', 'Thriller']</td>\n",
       "    </tr>\n",
       "    <tr>\n",
       "      <th>285</th>\n",
       "      <td>327</td>\n",
       "      <td>Tank Girl (1995)</td>\n",
       "      <td>['Action', 'Comedy', 'Sci-Fi']</td>\n",
       "    </tr>\n",
       "    <tr>\n",
       "      <th>288</th>\n",
       "      <td>330</td>\n",
       "      <td>Tales from the Hood (1995)</td>\n",
       "      <td>['Action', 'Crime', 'Horror']</td>\n",
       "    </tr>\n",
       "    <tr>\n",
       "      <th>342</th>\n",
       "      <td>385</td>\n",
       "      <td>Man of No Importance, A (1994)</td>\n",
       "      <td>['Drama']</td>\n",
       "    </tr>\n",
       "    <tr>\n",
       "      <th>345</th>\n",
       "      <td>388</td>\n",
       "      <td>Boys Life (1995)</td>\n",
       "      <td>['Drama']</td>\n",
       "    </tr>\n",
       "    <tr>\n",
       "      <th>353</th>\n",
       "      <td>408</td>\n",
       "      <td>8 Seconds (1994)</td>\n",
       "      <td>['Drama']</td>\n",
       "    </tr>\n",
       "    <tr>\n",
       "      <th>369</th>\n",
       "      <td>425</td>\n",
       "      <td>Blue Sky (1994)</td>\n",
       "      <td>['Drama', 'Romance']</td>\n",
       "    </tr>\n",
       "    <tr>\n",
       "      <th>431</th>\n",
       "      <td>494</td>\n",
       "      <td>Executive Decision (1996)</td>\n",
       "      <td>['Action', 'Adventure', 'Thriller']</td>\n",
       "    </tr>\n",
       "    <tr>\n",
       "      <th>432</th>\n",
       "      <td>495</td>\n",
       "      <td>In the Realm of the Senses (Ai no corrida) (1976)</td>\n",
       "      <td>['Drama']</td>\n",
       "    </tr>\n",
       "    <tr>\n",
       "      <th>433</th>\n",
       "      <td>496</td>\n",
       "      <td>What Happened Was... (1994)</td>\n",
       "      <td>['Comedy', 'Drama', 'Romance', 'Thriller']</td>\n",
       "    </tr>\n",
       "    <tr>\n",
       "      <th>434</th>\n",
       "      <td>497</td>\n",
       "      <td>Much Ado About Nothing (1993)</td>\n",
       "      <td>['Comedy', 'Romance']</td>\n",
       "    </tr>\n",
       "  </tbody>\n",
       "</table>\n",
       "</div>"
      ],
      "text/plain": [
       "     movieId                                              title  \\\n",
       "84        95                                Broken Arrow (1996)   \n",
       "211      247                          Heavenly Creatures (1994)   \n",
       "215      251                                 Hunted, The (1995)   \n",
       "232      270                                 Love Affair (1994)   \n",
       "260      300                                   Quiz Show (1994)   \n",
       "267      307   Three Colors: Blue (Trois couleurs: Bleu) (1993)   \n",
       "274      315                             Specialist, The (1994)   \n",
       "285      327                                   Tank Girl (1995)   \n",
       "288      330                         Tales from the Hood (1995)   \n",
       "342      385                     Man of No Importance, A (1994)   \n",
       "345      388                                   Boys Life (1995)   \n",
       "353      408                                   8 Seconds (1994)   \n",
       "369      425                                    Blue Sky (1994)   \n",
       "431      494                          Executive Decision (1996)   \n",
       "432      495  In the Realm of the Senses (Ai no corrida) (1976)   \n",
       "433      496                        What Happened Was... (1994)   \n",
       "434      497                      Much Ado About Nothing (1993)   \n",
       "\n",
       "                                         genres  \n",
       "84          ['Action', 'Adventure', 'Thriller']  \n",
       "211                          ['Crime', 'Drama']  \n",
       "215                                  ['Action']  \n",
       "232                        ['Drama', 'Romance']  \n",
       "260                                   ['Drama']  \n",
       "267                                   ['Drama']  \n",
       "274             ['Action', 'Drama', 'Thriller']  \n",
       "285              ['Action', 'Comedy', 'Sci-Fi']  \n",
       "288               ['Action', 'Crime', 'Horror']  \n",
       "342                                   ['Drama']  \n",
       "345                                   ['Drama']  \n",
       "353                                   ['Drama']  \n",
       "369                        ['Drama', 'Romance']  \n",
       "431         ['Action', 'Adventure', 'Thriller']  \n",
       "432                                   ['Drama']  \n",
       "433  ['Comedy', 'Drama', 'Romance', 'Thriller']  \n",
       "434                       ['Comedy', 'Romance']  "
      ]
     },
     "execution_count": 21,
     "metadata": {},
     "output_type": "execute_result"
    }
   ],
   "source": [
    "show_user_recommended_movies_in_df(45,20)"
   ]
  },
  {
   "cell_type": "code",
   "execution_count": 13,
   "metadata": {},
   "outputs": [],
   "source": [
    "predicted_ratings_train = np.dot(W, H)\n",
    "actual_ratings_train = rating_matrix_scaled"
   ]
  },
  {
   "cell_type": "code",
   "execution_count": 14,
   "metadata": {},
   "outputs": [
    {
     "name": "stdout",
     "output_type": "stream",
     "text": [
      "RMSE: 0.3424286049615392\n"
     ]
    }
   ],
   "source": [
    "rmse_train = np.sqrt(mean_squared_error(actual_ratings_train[actual_ratings_train > 0], predicted_ratings_train[actual_ratings_train > 0]))\n",
    "print(f\"RMSE: {rmse_train}\")"
   ]
  },
  {
   "cell_type": "code",
   "execution_count": 15,
   "metadata": {},
   "outputs": [
    {
     "name": "stdout",
     "output_type": "stream",
     "text": [
      "Accuracy: 0.9927607100704674\n",
      "Precision: 0.9135640478924061\n",
      "Recall: 0.12521918978463198\n"
     ]
    }
   ],
   "source": [
    "threshold = 4\n",
    "\n",
    "actual_binary = (actual_ratings_train > threshold).astype(int)\n",
    "predicted_binary = (predicted_ratings_train > threshold).astype(int)\n",
    "\n",
    "accuracy = accuracy_score(actual_binary[actual_ratings_train > 0], predicted_binary[actual_ratings_train > 0])\n",
    "precision = precision_score(actual_binary[actual_ratings_train > 0], predicted_binary[actual_ratings_train > 0])\n",
    "recall = recall_score(actual_binary[actual_ratings_train > 0], predicted_binary[actual_ratings_train > 0])\n",
    "\n",
    "print(f\"Accuracy: {accuracy}\")\n",
    "print(f\"Precision: {precision}\")\n",
    "print(f\"Recall: {recall}\")"
   ]
  },
  {
   "cell_type": "code",
   "execution_count": 16,
   "metadata": {},
   "outputs": [
    {
     "data": {
      "text/plain": [
       "array([[4.1 , 0.5 , 4.1 , ..., 0.5 , 0.5 , 0.5 ],\n",
       "       [0.5 , 0.5 , 0.5 , ..., 0.5 , 0.5 , 0.5 ],\n",
       "       [0.5 , 0.5 , 0.5 , ..., 0.5 , 0.5 , 0.5 ],\n",
       "       ...,\n",
       "       [2.75, 2.3 , 2.3 , ..., 0.5 , 0.5 , 0.5 ],\n",
       "       [3.2 , 0.5 , 0.5 , ..., 0.5 , 0.5 , 0.5 ],\n",
       "       [5.  , 0.5 , 0.5 , ..., 0.5 , 0.5 , 0.5 ]])"
      ]
     },
     "execution_count": 16,
     "metadata": {},
     "output_type": "execute_result"
    }
   ],
   "source": [
    "actual_ratings_train"
   ]
  },
  {
   "cell_type": "code",
   "execution_count": 17,
   "metadata": {
    "scrolled": true
   },
   "outputs": [
    {
     "data": {
      "text/plain": [
       "array([[2.65909838, 1.22553842, 1.09715395, ..., 0.47340324, 0.47340324,\n",
       "        0.46674387],\n",
       "       [0.75693616, 0.52261114, 0.47516351, ..., 0.51958623, 0.51958623,\n",
       "        0.5133159 ],\n",
       "       [0.7745614 , 0.50236775, 0.54121626, ..., 0.52106163, 0.52106163,\n",
       "        0.50276108],\n",
       "       ...,\n",
       "       [3.12874249, 1.88587282, 1.56406789, ..., 0.45966028, 0.45966028,\n",
       "        0.46101854],\n",
       "       [1.20852296, 1.0641241 , 0.69586582, ..., 0.51278906, 0.51278906,\n",
       "        0.50611615],\n",
       "       [4.60592838, 0.20659066, 0.3502578 , ..., 0.49806215, 0.49806215,\n",
       "        0.5058655 ]])"
      ]
     },
     "execution_count": 17,
     "metadata": {},
     "output_type": "execute_result"
    }
   ],
   "source": [
    "predicted_ratings_train"
   ]
  },
  {
   "cell_type": "code",
   "execution_count": 18,
   "metadata": {},
   "outputs": [
    {
     "data": {
      "text/plain": [
       "\"plt.figure(figsize=(10, 6))\\nplt.hist(predicted_ratings_train[actual_ratings_train > 0], bins=50, alpha=0.75)\\nplt.title('Histogram of Predicted Ratings')\\nplt.xlabel('Predicted Rating')\\nplt.ylabel('Frequency')\\nplt.show()\""
      ]
     },
     "execution_count": 18,
     "metadata": {},
     "output_type": "execute_result"
    }
   ],
   "source": [
    "\"\"\"plt.figure(figsize=(10, 6))\n",
    "plt.hist(predicted_ratings_train[actual_ratings_train > 0], bins=50, alpha=0.75)\n",
    "plt.title('Histogram of Predicted Ratings')\n",
    "plt.xlabel('Predicted Rating')\n",
    "plt.ylabel('Frequency')\n",
    "plt.show()\"\"\""
   ]
  },
  {
   "cell_type": "code",
   "execution_count": null,
   "metadata": {},
   "outputs": [],
   "source": []
  }
 ],
 "metadata": {
  "kernelspec": {
   "display_name": "Python 3 (ipykernel)",
   "language": "python",
   "name": "python3"
  },
  "language_info": {
   "codemirror_mode": {
    "name": "ipython",
    "version": 3
   },
   "file_extension": ".py",
   "mimetype": "text/x-python",
   "name": "python",
   "nbconvert_exporter": "python",
   "pygments_lexer": "ipython3",
   "version": "3.11.7"
  }
 },
 "nbformat": 4,
 "nbformat_minor": 2
}
