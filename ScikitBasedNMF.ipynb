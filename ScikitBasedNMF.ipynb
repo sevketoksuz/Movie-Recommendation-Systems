{
 "cells": [
  {
   "cell_type": "code",
   "execution_count": 1,
   "metadata": {},
   "outputs": [],
   "source": [
    "import pandas as pd\n",
    "import numpy as np\n",
    "import matplotlib.pyplot as plt\n",
    "\n",
    "from sklearn.decomposition import NMF\n",
    "from sklearn.preprocessing import MaxAbsScaler\n",
    "from sklearn.metrics import mean_squared_error\n",
    "from sklearn.model_selection import train_test_split\n",
    "from sklearn.metrics import accuracy_score, precision_score, recall_score\n",
    "from sklearn.preprocessing import MinMaxScaler\n",
    "\n",
    "from utils.ScikitBasedNMF import UserDefinedNMF"
   ]
  },
  {
   "cell_type": "code",
   "execution_count": 2,
   "metadata": {},
   "outputs": [],
   "source": [
    "def load_data(file_path):\n",
    "    df = pd.read_csv(file_path, usecols=['userId', 'movieId', 'rating'])\n",
    "    return df"
   ]
  },
  {
   "cell_type": "code",
   "execution_count": 3,
   "metadata": {},
   "outputs": [],
   "source": [
    "traindf = load_data('./datasets/training_data.csv')"
   ]
  },
  {
   "cell_type": "code",
   "execution_count": 4,
   "metadata": {},
   "outputs": [],
   "source": [
    "df_movies = pd.read_csv('./datasets/Movies.csv')"
   ]
  },
  {
   "cell_type": "code",
   "execution_count": 5,
   "metadata": {},
   "outputs": [],
   "source": [
    "user_ids = traindf['userId'].astype(\"category\").cat.codes\n",
    "item_ids = traindf['movieId'].astype(\"category\").cat.codes"
   ]
  },
  {
   "cell_type": "code",
   "execution_count": 6,
   "metadata": {},
   "outputs": [],
   "source": [
    "rating_matrix = np.zeros((user_ids.max()+1, item_ids.max()+1))\n",
    "rating_matrix[user_ids, item_ids] = traindf['rating']"
   ]
  },
  {
   "cell_type": "code",
   "execution_count": 7,
   "metadata": {},
   "outputs": [],
   "source": [
    "scaler = MinMaxScaler(feature_range = (0.5, 5))\n",
    "\n",
    "rating_matrix_scaled = scaler.fit_transform(rating_matrix)"
   ]
  },
  {
   "cell_type": "code",
   "execution_count": 8,
   "metadata": {},
   "outputs": [
    {
     "name": "stderr",
     "output_type": "stream",
     "text": [
      "c:\\ProgramData\\anaconda3\\Lib\\site-packages\\sklearn\\decomposition\\_nmf.py:1665: ConvergenceWarning: Maximum number of iterations 200 reached. Increase it to improve convergence.\n",
      "  warnings.warn(\n"
     ]
    },
    {
     "data": {
      "text/plain": [
       "<utils.ScikitBasedNMF.UserDefinedNMF at 0x1763d1b4d90>"
      ]
     },
     "execution_count": 8,
     "metadata": {},
     "output_type": "execute_result"
    }
   ],
   "source": [
    "model = UserDefinedNMF(n_components=15, max_iter=200)\n",
    "model.fit(rating_matrix_scaled)"
   ]
  },
  {
   "cell_type": "code",
   "execution_count": 9,
   "metadata": {},
   "outputs": [],
   "source": [
    "W = model.transform(rating_matrix_scaled)\n",
    "H = model.model.components_"
   ]
  },
  {
   "cell_type": "code",
   "execution_count": 10,
   "metadata": {},
   "outputs": [],
   "source": [
    "def get_top_n(user_id, n):\n",
    "    predicted_ratings = np.dot(W[user_id, :], H)\n",
    "    recommended_item_ids = np.argsort(predicted_ratings)[::-1][:n]\n",
    "    \n",
    "    return recommended_item_ids"
   ]
  },
  {
   "cell_type": "code",
   "execution_count": 11,
   "metadata": {},
   "outputs": [],
   "source": [
    "def show_user_recommended_movies_in_df(user_id,n):\n",
    "    item_ids = get_top_n(user_id, n)\n",
    "    \n",
    "    recommended_movies_df = df_movies.loc[df_movies['movieId'].isin(item_ids)]\n",
    "\n",
    "    return recommended_movies_df"
   ]
  },
  {
   "cell_type": "code",
   "execution_count": 12,
   "metadata": {
    "scrolled": true
   },
   "outputs": [
    {
     "data": {
      "text/html": [
       "<div>\n",
       "<style scoped>\n",
       "    .dataframe tbody tr th:only-of-type {\n",
       "        vertical-align: middle;\n",
       "    }\n",
       "\n",
       "    .dataframe tbody tr th {\n",
       "        vertical-align: top;\n",
       "    }\n",
       "\n",
       "    .dataframe thead th {\n",
       "        text-align: right;\n",
       "    }\n",
       "</style>\n",
       "<table border=\"1\" class=\"dataframe\">\n",
       "  <thead>\n",
       "    <tr style=\"text-align: right;\">\n",
       "      <th></th>\n",
       "      <th>movieId</th>\n",
       "      <th>title</th>\n",
       "      <th>genres</th>\n",
       "    </tr>\n",
       "  </thead>\n",
       "  <tbody>\n",
       "    <tr>\n",
       "      <th>215</th>\n",
       "      <td>251</td>\n",
       "      <td>Hunted, The (1995)</td>\n",
       "      <td>['Action']</td>\n",
       "    </tr>\n",
       "    <tr>\n",
       "      <th>232</th>\n",
       "      <td>270</td>\n",
       "      <td>Love Affair (1994)</td>\n",
       "      <td>['Drama', 'Romance']</td>\n",
       "    </tr>\n",
       "    <tr>\n",
       "      <th>1610</th>\n",
       "      <td>2152</td>\n",
       "      <td>Air Bud: Golden Receiver (1998)</td>\n",
       "      <td>['Children', 'Comedy']</td>\n",
       "    </tr>\n",
       "    <tr>\n",
       "      <th>4607</th>\n",
       "      <td>6862</td>\n",
       "      <td>Out of Time (2003)</td>\n",
       "      <td>['Crime', 'Drama', 'Thriller']</td>\n",
       "    </tr>\n",
       "  </tbody>\n",
       "</table>\n",
       "</div>"
      ],
      "text/plain": [
       "      movieId                            title                          genres\n",
       "215       251               Hunted, The (1995)                      ['Action']\n",
       "232       270               Love Affair (1994)            ['Drama', 'Romance']\n",
       "1610     2152  Air Bud: Golden Receiver (1998)          ['Children', 'Comedy']\n",
       "4607     6862               Out of Time (2003)  ['Crime', 'Drama', 'Thriller']"
      ]
     },
     "execution_count": 12,
     "metadata": {},
     "output_type": "execute_result"
    }
   ],
   "source": [
    "show_user_recommended_movies_in_df(325,5)"
   ]
  },
  {
   "cell_type": "code",
   "execution_count": 13,
   "metadata": {},
   "outputs": [],
   "source": [
    "predicted_ratings_train = np.dot(W, H)\n",
    "actual_ratings_train = rating_matrix_scaled"
   ]
  },
  {
   "cell_type": "code",
   "execution_count": 14,
   "metadata": {},
   "outputs": [
    {
     "name": "stdout",
     "output_type": "stream",
     "text": [
      "RMSE: 0.3423225992330588\n"
     ]
    }
   ],
   "source": [
    "rmse_train = np.sqrt(mean_squared_error(actual_ratings_train[actual_ratings_train > 0], predicted_ratings_train[actual_ratings_train > 0]))\n",
    "print(f\"RMSE: {rmse_train}\")"
   ]
  },
  {
   "cell_type": "code",
   "execution_count": 15,
   "metadata": {},
   "outputs": [
    {
     "name": "stdout",
     "output_type": "stream",
     "text": [
      "Accuracy: 0.9927922818108229\n",
      "Precision: 0.915273132664437\n",
      "Recall: 0.12919832741333573\n"
     ]
    }
   ],
   "source": [
    "threshold = 4\n",
    "\n",
    "actual_binary = (actual_ratings_train > threshold).astype(int)\n",
    "predicted_binary = (predicted_ratings_train > threshold).astype(int)\n",
    "\n",
    "accuracy = accuracy_score(actual_binary[actual_ratings_train > 0], predicted_binary[actual_ratings_train > 0])\n",
    "precision = precision_score(actual_binary[actual_ratings_train > 0], predicted_binary[actual_ratings_train > 0])\n",
    "recall = recall_score(actual_binary[actual_ratings_train > 0], predicted_binary[actual_ratings_train > 0])\n",
    "\n",
    "print(f\"Accuracy: {accuracy}\")\n",
    "print(f\"Precision: {precision}\")\n",
    "print(f\"Recall: {recall}\")"
   ]
  },
  {
   "cell_type": "code",
   "execution_count": 16,
   "metadata": {},
   "outputs": [
    {
     "data": {
      "text/plain": [
       "array([[4.1 , 0.5 , 4.1 , ..., 0.5 , 0.5 , 0.5 ],\n",
       "       [0.5 , 0.5 , 0.5 , ..., 0.5 , 0.5 , 0.5 ],\n",
       "       [0.5 , 0.5 , 0.5 , ..., 0.5 , 0.5 , 0.5 ],\n",
       "       ...,\n",
       "       [2.75, 2.3 , 2.3 , ..., 0.5 , 0.5 , 0.5 ],\n",
       "       [3.2 , 0.5 , 0.5 , ..., 0.5 , 0.5 , 0.5 ],\n",
       "       [5.  , 0.5 , 0.5 , ..., 0.5 , 0.5 , 0.5 ]])"
      ]
     },
     "execution_count": 16,
     "metadata": {},
     "output_type": "execute_result"
    }
   ],
   "source": [
    "actual_ratings_train"
   ]
  },
  {
   "cell_type": "code",
   "execution_count": 17,
   "metadata": {
    "scrolled": true
   },
   "outputs": [
    {
     "data": {
      "text/plain": [
       "array([[2.79541108, 1.11253998, 1.27233415, ..., 0.4876446 , 0.4876446 ,\n",
       "        0.47292164],\n",
       "       [0.73888853, 0.50927933, 0.47792821, ..., 0.52002485, 0.52002485,\n",
       "        0.51390113],\n",
       "       [0.8084493 , 0.477497  , 0.54790545, ..., 0.52252198, 0.52252198,\n",
       "        0.50389189],\n",
       "       ...,\n",
       "       [3.7369163 , 2.29103677, 1.92476157, ..., 0.45005279, 0.45005279,\n",
       "        0.47348523],\n",
       "       [1.18129086, 1.0370738 , 0.69229464, ..., 0.5122413 , 0.5122413 ,\n",
       "        0.50590669],\n",
       "       [4.91817104, 0.14726562, 0.33242331, ..., 0.49181717, 0.49181717,\n",
       "        0.49498035]])"
      ]
     },
     "execution_count": 17,
     "metadata": {},
     "output_type": "execute_result"
    }
   ],
   "source": [
    "predicted_ratings_train"
   ]
  },
  {
   "cell_type": "code",
   "execution_count": 18,
   "metadata": {},
   "outputs": [
    {
     "data": {
      "text/plain": [
       "\"plt.figure(figsize=(10, 6))\\nplt.hist(predicted_ratings_train[actual_ratings_train > 0], bins=50, alpha=0.75)\\nplt.title('Histogram of Predicted Ratings')\\nplt.xlabel('Predicted Rating')\\nplt.ylabel('Frequency')\\nplt.show()\""
      ]
     },
     "execution_count": 18,
     "metadata": {},
     "output_type": "execute_result"
    }
   ],
   "source": [
    "\"\"\"plt.figure(figsize=(10, 6))\n",
    "plt.hist(predicted_ratings_train[actual_ratings_train > 0], bins=50, alpha=0.75)\n",
    "plt.title('Histogram of Predicted Ratings')\n",
    "plt.xlabel('Predicted Rating')\n",
    "plt.ylabel('Frequency')\n",
    "plt.show()\"\"\""
   ]
  },
  {
   "cell_type": "code",
   "execution_count": null,
   "metadata": {},
   "outputs": [],
   "source": []
  }
 ],
 "metadata": {
  "kernelspec": {
   "display_name": "Python 3 (ipykernel)",
   "language": "python",
   "name": "python3"
  },
  "language_info": {
   "codemirror_mode": {
    "name": "ipython",
    "version": 3
   },
   "file_extension": ".py",
   "mimetype": "text/x-python",
   "name": "python",
   "nbconvert_exporter": "python",
   "pygments_lexer": "ipython3",
   "version": "3.11.5"
  }
 },
 "nbformat": 4,
 "nbformat_minor": 2
}
