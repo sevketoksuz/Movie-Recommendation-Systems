{
 "cells": [
  {
   "cell_type": "code",
   "execution_count": 2,
   "metadata": {},
   "outputs": [],
   "source": [
    "import pandas as pd\n",
    "import numpy as np\n",
    "from sklearn.decomposition import NMF\n",
    "from sklearn.preprocessing import MaxAbsScaler\n",
    "from sklearn.metrics import mean_squared_error\n",
    "from sklearn.model_selection import train_test_split\n",
    "\n",
    "from utils.ScikitBasedNMF import UserDefinedNMF"
   ]
  },
  {
   "cell_type": "code",
   "execution_count": 3,
   "metadata": {},
   "outputs": [],
   "source": [
    "def load_data(file_path):\n",
    "    df = pd.read_csv(file_path, usecols=['userId', 'movieId', 'rating'])\n",
    "    return df"
   ]
  },
  {
   "cell_type": "code",
   "execution_count": 4,
   "metadata": {},
   "outputs": [],
   "source": [
    "traindf = load_data('./datasets/training_data.csv')"
   ]
  },
  {
   "cell_type": "code",
   "execution_count": 5,
   "metadata": {},
   "outputs": [],
   "source": [
    "user_ids = traindf['userId'].astype(\"category\").cat.codes\n",
    "item_ids = traindf['movieId'].astype(\"category\").cat.codes"
   ]
  },
  {
   "cell_type": "code",
   "execution_count": 6,
   "metadata": {},
   "outputs": [],
   "source": [
    "rating_matrix = np.zeros((user_ids.max()+1, item_ids.max()+1))\n",
    "rating_matrix[user_ids, item_ids] = traindf['rating']"
   ]
  },
  {
   "cell_type": "code",
   "execution_count": 7,
   "metadata": {},
   "outputs": [],
   "source": [
    "from sklearn.preprocessing import MinMaxScaler\n",
    "\n",
    "\n",
    "scaler = MinMaxScaler(feature_range = (0.5, 5))\n",
    "\n",
    "rating_matrix_scaled = scaler.fit_transform(rating_matrix)"
   ]
  },
  {
   "cell_type": "code",
   "execution_count": 8,
   "metadata": {},
   "outputs": [
    {
     "name": "stderr",
     "output_type": "stream",
     "text": [
      "c:\\ProgramData\\anaconda3\\Lib\\site-packages\\sklearn\\decomposition\\_nmf.py:1665: ConvergenceWarning: Maximum number of iterations 200 reached. Increase it to improve convergence.\n",
      "  warnings.warn(\n"
     ]
    },
    {
     "data": {
      "text/plain": [
       "<utils.ScikitBasedNMF.UserDefinedNMF at 0x18cc75ffa10>"
      ]
     },
     "execution_count": 8,
     "metadata": {},
     "output_type": "execute_result"
    }
   ],
   "source": [
    "model = UserDefinedNMF(n_components=15, max_iter=200)\n",
    "model.fit(rating_matrix_scaled)"
   ]
  },
  {
   "cell_type": "code",
   "execution_count": 9,
   "metadata": {},
   "outputs": [],
   "source": [
    "W = model.transform(rating_matrix_scaled)\n",
    "H = model.model.components_"
   ]
  },
  {
   "cell_type": "code",
   "execution_count": 10,
   "metadata": {},
   "outputs": [
    {
     "name": "stdout",
     "output_type": "stream",
     "text": [
      "User: 1 Recommended item ids: [ 192 2905 1374  180 1223]\n"
     ]
    }
   ],
   "source": [
    "user_id = 1\n",
    "predicted_ratings = np.dot(W[user_id, :], H)\n",
    "recommended_item_ids = np.argsort(predicted_ratings)[::-1][:5]\n",
    "\n",
    "print(f\"User: {user_id} Recommended item ids: {recommended_item_ids}\")"
   ]
  },
  {
   "cell_type": "code",
   "execution_count": 11,
   "metadata": {},
   "outputs": [],
   "source": [
    "predicted_ratings_train = np.dot(W, H)\n",
    "actual_ratings_train = rating_matrix_scaled"
   ]
  },
  {
   "cell_type": "code",
   "execution_count": 12,
   "metadata": {},
   "outputs": [
    {
     "name": "stdout",
     "output_type": "stream",
     "text": [
      "RMSE: 0.5139977931040381\n"
     ]
    }
   ],
   "source": [
    "rmse_train = np.sqrt(mean_squared_error(actual_ratings_train[actual_ratings_train > 0], predicted_ratings_train[actual_ratings_train > 0]))\n",
    "print(f\"RMSE: {rmse_train}\")"
   ]
  },
  {
   "cell_type": "code",
   "execution_count": 13,
   "metadata": {},
   "outputs": [
    {
     "name": "stdout",
     "output_type": "stream",
     "text": [
      "Accuracy: 0.4104129915175488\n",
      "Precision: 0.05592623523108412\n",
      "Recall: 0.9911535639708787\n"
     ]
    }
   ],
   "source": [
    "from sklearn.metrics import accuracy_score, precision_score, recall_score\n",
    "\n",
    "\n",
    "threshold = 0.5\n",
    "\n",
    "# Binarize actual and predicted ratings based on the threshold\n",
    "actual_binary = (actual_ratings_train > threshold).astype(int)\n",
    "predicted_binary = (predicted_ratings_train > threshold).astype(int)\n",
    "\n",
    "# Calculate accuracy, precision, and recall\n",
    "accuracy = accuracy_score(actual_binary[actual_ratings_train > 0], predicted_binary[actual_ratings_train > 0])\n",
    "precision = precision_score(actual_binary[actual_ratings_train > 0], predicted_binary[actual_ratings_train > 0])\n",
    "recall = recall_score(actual_binary[actual_ratings_train > 0], predicted_binary[actual_ratings_train > 0])\n",
    "\n",
    "print(f\"Accuracy: {accuracy}\")\n",
    "print(f\"Precision: {precision}\")\n",
    "print(f\"Recall: {recall}\")\n"
   ]
  },
  {
   "cell_type": "code",
   "execution_count": 14,
   "metadata": {},
   "outputs": [
    {
     "data": {
      "text/plain": [
       "array([[4.1 , 0.5 , 4.1 , ..., 0.5 , 0.5 , 0.5 ],\n",
       "       [0.5 , 0.5 , 0.5 , ..., 0.5 , 0.5 , 0.5 ],\n",
       "       [0.5 , 0.5 , 0.5 , ..., 0.5 , 0.5 , 0.5 ],\n",
       "       ...,\n",
       "       [2.75, 2.3 , 2.3 , ..., 0.5 , 0.5 , 0.5 ],\n",
       "       [0.5 , 0.5 , 0.5 , ..., 0.5 , 0.5 , 0.5 ],\n",
       "       [5.  , 0.5 , 0.5 , ..., 0.5 , 0.5 , 0.5 ]])"
      ]
     },
     "execution_count": 14,
     "metadata": {},
     "output_type": "execute_result"
    }
   ],
   "source": [
    "actual_ratings_train"
   ]
  },
  {
   "cell_type": "code",
   "execution_count": 15,
   "metadata": {},
   "outputs": [
    {
     "data": {
      "text/plain": [
       "array([[2.86450973, 1.30366317, 1.30484919, ..., 0.5054096 , 0.352488  ,\n",
       "        0.48346235],\n",
       "       [0.67699161, 0.50312116, 0.57270539, ..., 0.48081724, 0.53514047,\n",
       "        0.49579624],\n",
       "       [0.69176624, 0.4653362 , 0.57216079, ..., 0.49057095, 0.47641877,\n",
       "        0.49017377],\n",
       "       ...,\n",
       "       [2.46854549, 1.32547145, 1.16712286, ..., 0.49617806, 0.413482  ,\n",
       "        0.53783049],\n",
       "       [1.18904566, 0.99439709, 0.77362468, ..., 0.4745955 , 0.50016945,\n",
       "        0.48427824],\n",
       "       [1.81377472, 2.26225796, 0.31250698, ..., 0.39826528, 2.08448743,\n",
       "        0.35674007]])"
      ]
     },
     "execution_count": 15,
     "metadata": {},
     "output_type": "execute_result"
    }
   ],
   "source": [
    "predicted_ratings_train"
   ]
  },
  {
   "cell_type": "code",
   "execution_count": 16,
   "metadata": {},
   "outputs": [
    {
     "data": {
      "image/png": "[encoded data removed]",
      "text/plain": [
       "<Figure size 1000x600 with 1 Axes>"
      ]
     },
     "metadata": {},
     "output_type": "display_data"
    }
   ],
   "source": [
    "import matplotlib.pyplot as plt\n",
    "\n",
    "plt.figure(figsize=(10, 6))\n",
    "plt.hist(predicted_ratings_train[actual_ratings_train > 0], bins=50, alpha=0.75)\n",
    "plt.title('Histogram of Predicted Ratings')\n",
    "plt.xlabel('Predicted Rating')\n",
    "plt.ylabel('Frequency')\n",
    "plt.show()"
   ]
  },
  {
   "cell_type": "code",
   "execution_count": null,
   "metadata": {},
   "outputs": [],
   "source": []
  }
 ],
 "metadata": {
  "kernelspec": {
   "display_name": "base",
   "language": "python",
   "name": "python3"
  },
  "language_info": {
   "codemirror_mode": {
    "name": "ipython",
    "version": 3
   },
   "file_extension": ".py",
   "mimetype": "text/x-python",
   "name": "python",
   "nbconvert_exporter": "python",
   "pygments_lexer": "ipython3",
   "version": "3.11.7"
  }
 },
 "nbformat": 4,
 "nbformat_minor": 2
}
