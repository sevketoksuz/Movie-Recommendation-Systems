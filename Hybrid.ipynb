{
 "cells": [
  {
   "cell_type": "code",
   "execution_count": 1,
   "metadata": {},
   "outputs": [],
   "source": [
    "#Import necessary libraries\n",
    "\n",
    "import pandas as pd\n",
    "import numpy as np\n",
    "from math import sqrt\n",
    "import matplotlib.pyplot as plt\n",
    "\n",
    "from sklearn.decomposition import NMF\n",
    "from sklearn.preprocessing import MinMaxScaler, normalize\n",
    "from sklearn.feature_extraction.text import TfidfVectorizer\n",
    "from sklearn.metrics import mean_squared_error"
   ]
  },
  {
   "cell_type": "code",
   "execution_count": 2,
   "metadata": {},
   "outputs": [],
   "source": [
    "# Function to load data from CSV files\n",
    "\n",
    "def load_data(ratings_file_path, features_file_path):\n",
    "    # Specify data types for efficient memory usage\n",
    "    dtype_ratings = {\n",
    "        'userId': 'int32',\n",
    "        'movieId': 'int32',\n",
    "        'rating': 'float32'\n",
    "    }\n",
    "    dtype_features = {\n",
    "        'movieId': 'int32'  # Same type as in ratings for consistency\n",
    "    }\n",
    "\n",
    "    # Load data with specified types\n",
    "    df_ratings = pd.read_csv(ratings_file_path, dtype=dtype_ratings)\n",
    "    df_features = pd.read_csv(features_file_path, dtype=dtype_features)\n",
    "    \n",
    "    return df_ratings, df_features"
   ]
  },
  {
   "cell_type": "code",
   "execution_count": 3,
   "metadata": {},
   "outputs": [],
   "source": [
    "# Load training data and movie features\n",
    "\n",
    "traindf, df_movies = load_data('./datasets/training_data.csv', './datasets/movies.csv')"
   ]
  },
  {
   "cell_type": "code",
   "execution_count": 4,
   "metadata": {},
   "outputs": [],
   "source": [
    "# Ensure both movieId columns are of the same type\n",
    "traindf['movieId'] = traindf['movieId'].astype('int')\n",
    "df_movies['movieId'] = df_movies['movieId'].astype('int')"
   ]
  },
  {
   "cell_type": "code",
   "execution_count": 5,
   "metadata": {},
   "outputs": [],
   "source": [
    "# Filter df_movies to only include movieIds that are present in traindf\n",
    "df_movies_aligned = df_movies[df_movies['movieId'].isin(traindf['movieId'].unique())]"
   ]
  },
  {
   "cell_type": "code",
   "execution_count": 6,
   "metadata": {},
   "outputs": [],
   "source": [
    "# Optionally, drop rows in df_movies_aligned where genres are NaN\n",
    "df_movies_aligned = df_movies_aligned.dropna(subset=['genres'])"
   ]
  },
  {
   "cell_type": "code",
   "execution_count": 7,
   "metadata": {},
   "outputs": [],
   "source": [
    "# Convert userId and movieId to categorical data types\n",
    "\n",
    "user_categories = pd.Categorical(traindf['userId'])\n",
    "item_categories = pd.Categorical(traindf['movieId'])"
   ]
  },
  {
   "cell_type": "code",
   "execution_count": 8,
   "metadata": {},
   "outputs": [],
   "source": [
    "# Get numeric codes for users and items from categorical types\n",
    "\n",
    "user_ids = user_categories.codes\n",
    "item_ids = item_categories.codes"
   ]
  },
  {
   "cell_type": "code",
   "execution_count": 9,
   "metadata": {},
   "outputs": [],
   "source": [
    "# Initialize the user-item rating matrix\n",
    "\n",
    "rating_matrix = np.zeros((user_categories.categories.size, item_categories.categories.size))\n",
    "rating_matrix[user_ids, item_ids] = traindf['rating']"
   ]
  },
  {
   "cell_type": "code",
   "execution_count": 10,
   "metadata": {},
   "outputs": [],
   "source": [
    "# Scale ratings to be between 0.5 and 5 using MinMaxScaler\n",
    "\n",
    "scaler = MinMaxScaler(feature_range=(0.5, 5))\n",
    "rating_matrix_scaled = scaler.fit_transform(rating_matrix)"
   ]
  },
  {
   "cell_type": "code",
   "execution_count": 11,
   "metadata": {},
   "outputs": [],
   "source": [
    "# Filter df_movies to only include movieIds that are present in traindf\n",
    "df_movies_aligned = df_movies[df_movies['movieId'].isin(traindf['movieId'].unique())]\n",
    "\n",
    "# Optionally, drop rows in df_movies_aligned where genres are NaN if needed (seems you were already doing this)\n",
    "df_movies_aligned = df_movies_aligned.dropna(subset=['genres'])"
   ]
  },
  {
   "cell_type": "code",
   "execution_count": 12,
   "metadata": {},
   "outputs": [],
   "source": [
    "# Convert movie genres to a TF-IDF matrix\n",
    "\n",
    "vectorizer = TfidfVectorizer(max_features=100)\n",
    "tags_features = vectorizer.fit_transform(df_movies_aligned['genres'].fillna(''))"
   ]
  },
  {
   "cell_type": "code",
   "execution_count": 13,
   "metadata": {},
   "outputs": [],
   "source": [
    "# Adjust user ratings based on user activity\n",
    "\n",
    "user_counts = traindf['userId'].value_counts()\n",
    "user_weights = user_counts / user_counts.max()\n",
    "\n",
    "for idx, row in traindf.iterrows():\n",
    "    user_idx = user_categories.categories.get_loc(row['userId'])\n",
    "    item_idx = item_categories.categories.get_loc(row['movieId'])\n",
    "    user_id = row['userId']\n",
    "    rating_matrix_scaled[user_idx, item_idx] *= user_weights.loc[user_id]"
   ]
  },
  {
   "cell_type": "code",
   "execution_count": 14,
   "metadata": {},
   "outputs": [],
   "source": [
    "# Combine user-item interactions with content features and weight them\n",
    "\n",
    "importance_of_genre = 0.5\n",
    "content_weighted_features = tags_features.multiply(importance_of_genre).toarray()\n",
    "\n",
    "full_features_matrix = np.hstack([rating_matrix_scaled.T, content_weighted_features]).T"
   ]
  },
  {
   "cell_type": "code",
   "execution_count": 15,
   "metadata": {},
   "outputs": [
    {
     "name": "stderr",
     "output_type": "stream",
     "text": [
      "C:\\Users\\DTSOKSUZ\\AppData\\Local\\anaconda3\\Lib\\site-packages\\sklearn\\decomposition\\_nmf.py:1710: ConvergenceWarning: Maximum number of iterations 100 reached. Increase it to improve convergence.\n",
      "  warnings.warn(\n"
     ]
    }
   ],
   "source": [
    "# Set up and train the NMF model\n",
    "\n",
    "model = NMF(n_components=15, init='nndsvd', max_iter=100, random_state=42)\n",
    "W = model.fit_transform(full_features_matrix)\n",
    "H = model.components_"
   ]
  },
  {
   "cell_type": "code",
   "execution_count": 16,
   "metadata": {},
   "outputs": [],
   "source": [
    "# Function to get top N movie recommendations for a user\n",
    "\n",
    "def get_top_n_recommendations(user_id, n):\n",
    "    if user_id not in user_categories.categories:\n",
    "        return pd.DataFrame()\n",
    "    \n",
    "    user_idx = user_categories.categories.get_loc(user_id)\n",
    "    predicted_ratings = np.dot(W[user_idx, :], H)\n",
    "    top_n_indices = np.argsort(predicted_ratings)[-n:]\n",
    "    top_n_movie_ids = item_categories.categories[top_n_indices]\n",
    "    \n",
    "    return df_movies[df_movies['movieId'].isin(top_n_movie_ids)][['movieId', 'title', 'genres']]"
   ]
  },
  {
   "cell_type": "code",
   "execution_count": 17,
   "metadata": {
    "scrolled": false
   },
   "outputs": [
    {
     "data": {
      "text/html": [
       "<div>\n",
       "<style scoped>\n",
       "    .dataframe tbody tr th:only-of-type {\n",
       "        vertical-align: middle;\n",
       "    }\n",
       "\n",
       "    .dataframe tbody tr th {\n",
       "        vertical-align: top;\n",
       "    }\n",
       "\n",
       "    .dataframe thead th {\n",
       "        text-align: right;\n",
       "    }\n",
       "</style>\n",
       "<table border=\"1\" class=\"dataframe\">\n",
       "  <thead>\n",
       "    <tr style=\"text-align: right;\">\n",
       "      <th></th>\n",
       "      <th>movieId</th>\n",
       "      <th>title</th>\n",
       "      <th>genres</th>\n",
       "    </tr>\n",
       "  </thead>\n",
       "  <tbody>\n",
       "    <tr>\n",
       "      <th>706</th>\n",
       "      <td>924</td>\n",
       "      <td>2001: A Space Odyssey (1968)</td>\n",
       "      <td>['Adventure', 'Drama', 'Sci-Fi']</td>\n",
       "    </tr>\n",
       "    <tr>\n",
       "      <th>828</th>\n",
       "      <td>1089</td>\n",
       "      <td>Reservoir Dogs (1992)</td>\n",
       "      <td>['Crime', 'Mystery', 'Thriller']</td>\n",
       "    </tr>\n",
       "    <tr>\n",
       "      <th>863</th>\n",
       "      <td>1136</td>\n",
       "      <td>Monty Python and the Holy Grail (1975)</td>\n",
       "      <td>['Adventure', 'Comedy', 'Fantasy']</td>\n",
       "    </tr>\n",
       "    <tr>\n",
       "      <th>909</th>\n",
       "      <td>1208</td>\n",
       "      <td>Apocalypse Now (1979)</td>\n",
       "      <td>['Action', 'Drama', 'War']</td>\n",
       "    </tr>\n",
       "    <tr>\n",
       "      <th>914</th>\n",
       "      <td>1213</td>\n",
       "      <td>Goodfellas (1990)</td>\n",
       "      <td>['Crime', 'Drama']</td>\n",
       "    </tr>\n",
       "    <tr>\n",
       "      <th>920</th>\n",
       "      <td>1219</td>\n",
       "      <td>Psycho (1960)</td>\n",
       "      <td>['Crime', 'Horror']</td>\n",
       "    </tr>\n",
       "    <tr>\n",
       "      <th>957</th>\n",
       "      <td>1258</td>\n",
       "      <td>Shining, The (1980)</td>\n",
       "      <td>['Horror']</td>\n",
       "    </tr>\n",
       "    <tr>\n",
       "      <th>964</th>\n",
       "      <td>1265</td>\n",
       "      <td>Groundhog Day (1993)</td>\n",
       "      <td>['Comedy', 'Fantasy', 'Romance']</td>\n",
       "    </tr>\n",
       "    <tr>\n",
       "      <th>1267</th>\n",
       "      <td>1682</td>\n",
       "      <td>Truman Show, The (1998)</td>\n",
       "      <td>['Comedy', 'Drama', 'Sci-Fi']</td>\n",
       "    </tr>\n",
       "    <tr>\n",
       "      <th>1298</th>\n",
       "      <td>1732</td>\n",
       "      <td>Big Lebowski, The (1998)</td>\n",
       "      <td>['Comedy', 'Crime']</td>\n",
       "    </tr>\n",
       "    <tr>\n",
       "      <th>1905</th>\n",
       "      <td>2529</td>\n",
       "      <td>Planet of the Apes (1968)</td>\n",
       "      <td>['Action', 'Drama', 'Sci-Fi']</td>\n",
       "    </tr>\n",
       "    <tr>\n",
       "      <th>2462</th>\n",
       "      <td>3275</td>\n",
       "      <td>Boondock Saints, The (2000)</td>\n",
       "      <td>['Action', 'Crime', 'Drama', 'Thriller']</td>\n",
       "    </tr>\n",
       "    <tr>\n",
       "      <th>3010</th>\n",
       "      <td>4027</td>\n",
       "      <td>O Brother, Where Art Thou? (2000)</td>\n",
       "      <td>['Adventure', 'Comedy', 'Crime']</td>\n",
       "    </tr>\n",
       "    <tr>\n",
       "      <th>3141</th>\n",
       "      <td>4226</td>\n",
       "      <td>Memento (2000)</td>\n",
       "      <td>['Mystery', 'Thriller']</td>\n",
       "    </tr>\n",
       "    <tr>\n",
       "      <th>4141</th>\n",
       "      <td>5956</td>\n",
       "      <td>Gangs of New York (2002)</td>\n",
       "      <td>['Crime', 'Drama']</td>\n",
       "    </tr>\n",
       "    <tr>\n",
       "      <th>4529</th>\n",
       "      <td>6711</td>\n",
       "      <td>Lost in Translation (2003)</td>\n",
       "      <td>['Comedy', 'Drama', 'Romance']</td>\n",
       "    </tr>\n",
       "    <tr>\n",
       "      <th>4909</th>\n",
       "      <td>7361</td>\n",
       "      <td>Eternal Sunshine of the Spotless Mind (2004)</td>\n",
       "      <td>['Drama', 'Romance', 'Sci-Fi']</td>\n",
       "    </tr>\n",
       "    <tr>\n",
       "      <th>4935</th>\n",
       "      <td>7438</td>\n",
       "      <td>Kill Bill: Vol. 2 (2004)</td>\n",
       "      <td>['Action', 'Drama', 'Thriller']</td>\n",
       "    </tr>\n",
       "    <tr>\n",
       "      <th>5335</th>\n",
       "      <td>8874</td>\n",
       "      <td>Shaun of the Dead (2004)</td>\n",
       "      <td>['Comedy', 'Horror']</td>\n",
       "    </tr>\n",
       "    <tr>\n",
       "      <th>5917</th>\n",
       "      <td>33794</td>\n",
       "      <td>Batman Begins (2005)</td>\n",
       "      <td>['Action', 'Crime', 'IMAX']</td>\n",
       "    </tr>\n",
       "  </tbody>\n",
       "</table>\n",
       "</div>"
      ],
      "text/plain": [
       "      movieId                                         title  \\\n",
       "706       924                  2001: A Space Odyssey (1968)   \n",
       "828      1089                         Reservoir Dogs (1992)   \n",
       "863      1136        Monty Python and the Holy Grail (1975)   \n",
       "909      1208                         Apocalypse Now (1979)   \n",
       "914      1213                             Goodfellas (1990)   \n",
       "920      1219                                 Psycho (1960)   \n",
       "957      1258                           Shining, The (1980)   \n",
       "964      1265                          Groundhog Day (1993)   \n",
       "1267     1682                       Truman Show, The (1998)   \n",
       "1298     1732                      Big Lebowski, The (1998)   \n",
       "1905     2529                     Planet of the Apes (1968)   \n",
       "2462     3275                   Boondock Saints, The (2000)   \n",
       "3010     4027             O Brother, Where Art Thou? (2000)   \n",
       "3141     4226                                Memento (2000)   \n",
       "4141     5956                      Gangs of New York (2002)   \n",
       "4529     6711                    Lost in Translation (2003)   \n",
       "4909     7361  Eternal Sunshine of the Spotless Mind (2004)   \n",
       "4935     7438                      Kill Bill: Vol. 2 (2004)   \n",
       "5335     8874                      Shaun of the Dead (2004)   \n",
       "5917    33794                          Batman Begins (2005)   \n",
       "\n",
       "                                        genres  \n",
       "706           ['Adventure', 'Drama', 'Sci-Fi']  \n",
       "828           ['Crime', 'Mystery', 'Thriller']  \n",
       "863         ['Adventure', 'Comedy', 'Fantasy']  \n",
       "909                 ['Action', 'Drama', 'War']  \n",
       "914                         ['Crime', 'Drama']  \n",
       "920                        ['Crime', 'Horror']  \n",
       "957                                 ['Horror']  \n",
       "964           ['Comedy', 'Fantasy', 'Romance']  \n",
       "1267             ['Comedy', 'Drama', 'Sci-Fi']  \n",
       "1298                       ['Comedy', 'Crime']  \n",
       "1905             ['Action', 'Drama', 'Sci-Fi']  \n",
       "2462  ['Action', 'Crime', 'Drama', 'Thriller']  \n",
       "3010          ['Adventure', 'Comedy', 'Crime']  \n",
       "3141                   ['Mystery', 'Thriller']  \n",
       "4141                        ['Crime', 'Drama']  \n",
       "4529            ['Comedy', 'Drama', 'Romance']  \n",
       "4909            ['Drama', 'Romance', 'Sci-Fi']  \n",
       "4935           ['Action', 'Drama', 'Thriller']  \n",
       "5335                      ['Comedy', 'Horror']  \n",
       "5917               ['Action', 'Crime', 'IMAX']  "
      ]
     },
     "execution_count": 17,
     "metadata": {},
     "output_type": "execute_result"
    }
   ],
   "source": [
    "# Example usage of the recommendation function\n",
    "\n",
    "recommended_movies = get_top_n_recommendations(45, 20)\n",
    "recommended_movies"
   ]
  },
  {
   "cell_type": "code",
   "execution_count": 18,
   "metadata": {},
   "outputs": [],
   "source": [
    "########"
   ]
  },
  {
   "cell_type": "code",
   "execution_count": 26,
   "metadata": {},
   "outputs": [],
   "source": [
    "def get_favorite_genres(user_id, df_ratings, df_movies, top_n=3):\n",
    "    user_ratings = df_ratings[df_ratings['userId'] == user_id]\n",
    " \n",
    "    user_ratings.loc[:, 'movieId'] = user_ratings['movieId'].astype(int)\n",
    "    df_movies.loc[:, 'movieId'] = df_movies['movieId'].astype(int)\n",
    "\n",
    "    user_genres = user_ratings.merge(df_movies[['movieId']], on='movieId', how='left')\n",
    "\n",
    "    # Calculate the average rating for each genre\n",
    "    genre_ratings = {}\n",
    "    for index, row in user_genres.iterrows():\n",
    "        if pd.isnull(row['genres']):\n",
    "            continue  # Skip rows where genres are NaN\n",
    "        genres = eval(row['genres'])  # Assuming 'genres' are stored as string representation of lists\n",
    "        rating = row['rating']\n",
    "        for genre in genres:\n",
    "            if genre in genre_ratings:\n",
    "                genre_ratings[genre].append(rating)\n",
    "            else:\n",
    "                genre_ratings[genre] = [rating]\n",
    "\n",
    "    genre_mean_ratings = {genre: np.mean(ratings) for genre, ratings in genre_ratings.items()}\n",
    "    sorted_genres = sorted(genre_mean_ratings.items(), key=lambda x: x[1], reverse=True)\n",
    "    print(genre_mean_ratings)\n",
    "\n",
    "    return [genre for genre, _ in sorted_genres[:top_n]], user_ratings"
   ]
  },
  {
   "cell_type": "code",
   "execution_count": 27,
   "metadata": {},
   "outputs": [
    {
     "name": "stdout",
     "output_type": "stream",
     "text": [
      "{'Adventure': 3.9814814814814814, 'Animation': 4.46, 'Children': 3.9390243902439024, 'Comedy': 3.7232142857142856, 'Fantasy': 3.7027027027027026, 'Action': 3.9943181818181817, 'Crime': 4.2625, 'Thriller': 4.006849315068493, 'Romance': 3.9607843137254903, 'Mystery': 4.321428571428571, 'Sci-Fi': 3.737704918032787, 'Horror': 3.9166666666666665, 'Drama': 4.044117647058823, 'War': 4.428571428571429, 'Musical': 4.318181818181818, 'IMAX': 4.666666666666667, 'Western': 3.6666666666666665, 'Documentary': 4.0}\n"
     ]
    },
    {
     "data": {
      "text/plain": [
       "(['IMAX', 'Animation', 'War'],\n",
       "       userId  movieId  rating  \\\n",
       " 5194      45        1     4.0   \n",
       " 5195      45        5     3.0   \n",
       " 5196      45        6     4.0   \n",
       " 5197      45        7     3.0   \n",
       " 5198      45       19     4.5   \n",
       " ...      ...      ...     ...   \n",
       " 5508      45    53121     4.0   \n",
       " 5509      45    53322     5.0   \n",
       " 5510      45    53993     4.5   \n",
       " 5511      45    53996     4.5   \n",
       " 5512      45    54272     5.0   \n",
       " \n",
       "                                                  genres  \n",
       " 5194  ['Adventure', 'Animation', 'Children', 'Comedy...  \n",
       " 5195                                         ['Comedy']  \n",
       " 5196                    ['Action', 'Crime', 'Thriller']  \n",
       " 5197                              ['Comedy', 'Romance']  \n",
       " 5198                                         ['Comedy']  \n",
       " ...                                                 ...  \n",
       " 5508  ['Adventure', 'Animation', 'Children', 'Comedy...  \n",
       " 5509                              ['Crime', 'Thriller']  \n",
       " 5510                              ['Comedy', 'Fantasy']  \n",
       " 5511           ['Action', 'Sci-Fi', 'Thriller', 'IMAX']  \n",
       " 5512                            ['Animation', 'Comedy']  \n",
       " \n",
       " [319 rows x 4 columns])"
      ]
     },
     "execution_count": 27,
     "metadata": {},
     "output_type": "execute_result"
    }
   ],
   "source": [
    "get_favorite_genres(45, traindf, df_movies)"
   ]
  },
  {
   "cell_type": "code",
   "execution_count": 21,
   "metadata": {},
   "outputs": [],
   "source": [
    "########"
   ]
  },
  {
   "cell_type": "code",
   "execution_count": 22,
   "metadata": {},
   "outputs": [],
   "source": [
    "# Function to load and prepare test data\n",
    "\n",
    "def load_test_data(test_file_path):\n",
    "    df_test = pd.read_csv(test_file_path)\n",
    "    \n",
    "    df_test['userId'] = pd.Categorical(df_test['userId'], categories=user_categories.categories)\n",
    "    df_test['movieId'] = pd.Categorical(df_test['movieId'], categories=item_categories.categories)\n",
    "    \n",
    "    return df_test"
   ]
  },
  {
   "cell_type": "code",
   "execution_count": 23,
   "metadata": {},
   "outputs": [],
   "source": [
    "# Load and predict test dataset ratings\n",
    "\n",
    "testdf = load_test_data('./datasets/testing_data.csv')\n",
    "test_rating_matrix = np.zeros((user_categories.categories.size, item_categories.categories.size))\n",
    "\n",
    "test_user_ids = testdf['userId'].cat.codes\n",
    "test_item_ids = testdf['movieId'].cat.codes\n",
    "\n",
    "test_rating_matrix[test_user_ids, test_item_ids] = testdf['rating']\n",
    "\n",
    "predicted_test_ratings = np.dot(W, H)\n",
    "test_predicted_ratings = predicted_test_ratings[test_user_ids, test_item_ids]"
   ]
  },
  {
   "cell_type": "code",
   "execution_count": 24,
   "metadata": {},
   "outputs": [
    {
     "name": "stdout",
     "output_type": "stream",
     "text": [
      "Test RMSE: 3.1593882771567148\n"
     ]
    }
   ],
   "source": [
    "# Calculate and print the test RMSE\n",
    "\n",
    "mse_test = mean_squared_error(testdf['rating'], test_predicted_ratings)\n",
    "rmse_test = sqrt(mse_test)\n",
    "print(\"Test RMSE:\", rmse_test)"
   ]
  },
  {
   "cell_type": "code",
   "execution_count": null,
   "metadata": {},
   "outputs": [],
   "source": []
  }
 ],
 "metadata": {
  "kernelspec": {
   "display_name": "Python 3 (ipykernel)",
   "language": "python",
   "name": "python3"
  },
  "language_info": {
   "codemirror_mode": {
    "name": "ipython",
    "version": 3
   },
   "file_extension": ".py",
   "mimetype": "text/x-python",
   "name": "python",
   "nbconvert_exporter": "python",
   "pygments_lexer": "ipython3",
   "version": "3.11.5"
  }
 },
 "nbformat": 4,
 "nbformat_minor": 2
}
