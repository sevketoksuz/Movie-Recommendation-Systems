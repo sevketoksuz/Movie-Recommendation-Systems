{
 "cells": [
  {
   "cell_type": "code",
   "execution_count": null,
   "metadata": {},
   "outputs": [],
   "source": [
    "import pandas as pd\n",
    "import numpy as np\n",
    "from math import sqrt\n",
    "\n",
    "from sklearn.decomposition import NMF\n",
    "from sklearn.preprocessing import MinMaxScaler, normalize\n",
    "from sklearn.feature_extraction.text import TfidfVectorizer\n",
    "from sklearn.metrics import precision_score, recall_score, f1_score, mean_squared_error, mean_absolute_error\n",
    "\n",
    "import warnings\n",
    "warnings.filterwarnings('ignore')"
   ]
  },
  {
   "cell_type": "code",
   "execution_count": null,
   "metadata": {},
   "outputs": [],
   "source": [
    "def load_data(ratings_file_path, features_file_path):\n",
    "    \"\"\"\n",
    "    Loads and returns datasets for ratings and movie features from specified file paths.\n",
    "\n",
    "    Parameters\n",
    "    ----------\n",
    "    ratings_file_path : str\n",
    "        Path to the CSV file containing user ratings with columns: userId, movieId, and rating.\n",
    "    features_file_path : str\n",
    "        Path to the CSV file containing movie features.\n",
    "\n",
    "    Returns\n",
    "    -------\n",
    "    tuple of pd.DataFrame\n",
    "        Returns two pandas DataFrames: one for ratings and another for movie features.\n",
    "\n",
    "    \"\"\"\n",
    "    dtype_ratings = {\n",
    "        'userId': 'int32',\n",
    "        'movieId': 'int32',\n",
    "        'rating': 'float32'\n",
    "    }\n",
    "    dtype_features = {\n",
    "        'movieId': 'int32'\n",
    "    }\n",
    "\n",
    "    df_ratings = pd.read_csv(ratings_file_path, dtype=dtype_ratings)\n",
    "    df_features = pd.read_csv(features_file_path, dtype=dtype_features)\n",
    "    \n",
    "    return df_ratings, df_features"
   ]
  },
  {
   "cell_type": "code",
   "execution_count": null,
   "metadata": {},
   "outputs": [],
   "source": [
    "traindf, df_movies = load_data('./datasets/training_data.csv', './datasets/movies.csv')"
   ]
  },
  {
   "cell_type": "code",
   "execution_count": null,
   "metadata": {},
   "outputs": [],
   "source": [
    "# Ensure 'movieId' columns are of type int\n",
    "traindf['movieId'] = traindf['movieId'].astype('int')\n",
    "df_movies['movieId'] = df_movies['movieId'].astype('int')"
   ]
  },
  {
   "cell_type": "code",
   "execution_count": null,
   "metadata": {},
   "outputs": [],
   "source": [
    "# Align movie features to training data\n",
    "df_movies_aligned = df_movies[df_movies['movieId'].isin(traindf['movieId'].unique())]\n",
    "df_movies_aligned = df_movies_aligned.dropna(subset=['genres'])"
   ]
  },
  {
   "cell_type": "code",
   "execution_count": null,
   "metadata": {},
   "outputs": [],
   "source": [
    "# Convert user and movie IDs to categorical types\n",
    "user_categories = pd.Categorical(traindf['userId'])\n",
    "item_categories = pd.Categorical(traindf['movieId'])"
   ]
  },
  {
   "cell_type": "code",
   "execution_count": null,
   "metadata": {},
   "outputs": [],
   "source": [
    "# Convert user and item IDs to numerical codes\n",
    "user_ids = user_categories.codes\n",
    "item_ids = item_categories.codes"
   ]
  },
  {
   "cell_type": "code",
   "execution_count": null,
   "metadata": {},
   "outputs": [],
   "source": [
    "# Create rating matrix\n",
    "rating_matrix = np.zeros((user_categories.categories.size, item_categories.categories.size))\n",
    "rating_matrix[user_ids, item_ids] = traindf['rating']"
   ]
  },
  {
   "cell_type": "code",
   "execution_count": null,
   "metadata": {},
   "outputs": [],
   "source": [
    "# Scale the rating matrix\n",
    "scaler = MinMaxScaler(feature_range=(0.5, 5))\n",
    "rating_matrix_scaled = scaler.fit_transform(rating_matrix)"
   ]
  },
  {
   "cell_type": "code",
   "execution_count": null,
   "metadata": {},
   "outputs": [],
   "source": [
    "# Repeat alignment of movie features to training data\n",
    "df_movies_aligned = df_movies[df_movies['movieId'].isin(traindf['movieId'].unique())]\n",
    "df_movies_aligned = df_movies_aligned.dropna(subset=['genres'])"
   ]
  },
  {
   "cell_type": "code",
   "execution_count": null,
   "metadata": {},
   "outputs": [],
   "source": [
    "# Vectorize movie genres using TF-IDF\n",
    "vectorizer = TfidfVectorizer(max_features=100)\n",
    "tags_features = vectorizer.fit_transform(df_movies_aligned['genres'].fillna(''))"
   ]
  },
  {
   "cell_type": "code",
   "execution_count": null,
   "metadata": {},
   "outputs": [],
   "source": [
    "# Calculate user weights based on rating counts\n",
    "user_counts = traindf['userId'].value_counts()\n",
    "user_weights = user_counts / user_counts.max()\n",
    "\n",
    "# Adjust scaled rating matrix by user weights\n",
    "for idx, row in traindf.iterrows():\n",
    "    user_idx = user_categories.categories.get_loc(row['userId'])\n",
    "    item_idx = item_categories.categories.get_loc(row['movieId'])\n",
    "    user_id = row['userId']\n",
    "    rating_matrix_scaled[user_idx, item_idx] *= user_weights.loc[user_id]"
   ]
  },
  {
   "cell_type": "code",
   "execution_count": null,
   "metadata": {},
   "outputs": [],
   "source": [
    "importance_of_genre = 0.5\n",
    "content_weighted_features = tags_features.multiply(importance_of_genre).toarray()\n",
    "full_features_matrix = np.hstack([rating_matrix_scaled.T, content_weighted_features]).T"
   ]
  },
  {
   "cell_type": "code",
   "execution_count": null,
   "metadata": {},
   "outputs": [],
   "source": [
    "# NMF with importance_of_genre = 0.5\n",
    "model = NMF(n_components=15, init='nndsvd', max_iter=30, random_state=42)\n",
    "W = model.fit_transform(full_features_matrix)\n",
    "H = model.components_"
   ]
  },
  {
   "cell_type": "code",
   "execution_count": null,
   "metadata": {},
   "outputs": [],
   "source": [
    "def get_top_n_recommendations(user_id, n, W, H):\n",
    "    \"\"\"\n",
    "    Generates top N movie recommendations for a given user based on NMF model predictions.\n",
    "\n",
    "    Parameters\n",
    "    ----------\n",
    "    user_id : int\n",
    "        The user ID for whom recommendations are to be made.\n",
    "    n : int\n",
    "        Number of top recommendations to generate.\n",
    "    W : np.array\n",
    "        User feature matrix from NMF.\n",
    "    H : np.array\n",
    "        Item feature matrix from NMF.\n",
    "\n",
    "    Returns\n",
    "    -------\n",
    "    pd.DataFrame\n",
    "        DataFrame containing top N recommended movies with columns: movieId, title, and genres.\n",
    "    \"\"\"\n",
    "    if user_id not in user_categories.categories:\n",
    "        return pd.DataFrame()\n",
    "\n",
    "    # Predict ratings for the user\n",
    "    user_idx = user_categories.categories.get_loc(user_id)\n",
    "    predicted_ratings = np.dot(W[user_idx, :], H)\n",
    "\n",
    "    # Get top N movie recommendations\n",
    "    top_n_indices = np.argsort(predicted_ratings)[-n:]\n",
    "    top_n_movie_ids = item_categories.categories[top_n_indices]\n",
    "\n",
    "    return df_movies[df_movies['movieId'].isin(top_n_movie_ids)][['movieId', 'title', 'genres']]"
   ]
  },
  {
   "cell_type": "code",
   "execution_count": null,
   "metadata": {},
   "outputs": [],
   "source": [
    "recommended_movies = get_top_n_recommendations(45, 20, W, H)\n",
    "recommended_movies"
   ]
  },
  {
   "cell_type": "code",
   "execution_count": null,
   "metadata": {},
   "outputs": [],
   "source": [
    "def load_test_data(test_file_path):\n",
    "    \"\"\"\n",
    "    Loads test dataset and aligns user and movie IDs with the training dataset categories.\n",
    "\n",
    "    Parameters\n",
    "    ----------\n",
    "    test_file_path : str\n",
    "        Path to the CSV file containing the test dataset.\n",
    "\n",
    "    Returns\n",
    "    -------\n",
    "    pd.DataFrame\n",
    "        DataFrame containing the test dataset with user and movie IDs aligned to training categories.\n",
    "    \"\"\"\n",
    "    df_test = pd.read_csv(test_file_path)\n",
    "    \n",
    "    df_test['userId'] = pd.Categorical(df_test['userId'], categories=user_categories.categories)\n",
    "    df_test['movieId'] = pd.Categorical(df_test['movieId'], categories=item_categories.categories)\n",
    "    \n",
    "    return df_test"
   ]
  },
  {
   "cell_type": "code",
   "execution_count": null,
   "metadata": {},
   "outputs": [],
   "source": [
    "testdf = load_test_data('./datasets/testing_data.csv')\n",
    "test_rating_matrix = np.zeros((user_categories.categories.size, item_categories.categories.size))\n",
    "\n",
    "test_user_ids = testdf['userId'].cat.codes\n",
    "test_item_ids = testdf['movieId'].cat.codes\n",
    "\n",
    "test_rating_matrix[test_user_ids, test_item_ids] = testdf['rating']\n",
    "\n",
    "predicted_test_ratings = np.dot(W, H)\n",
    "test_predicted_ratings = predicted_test_ratings[test_user_ids, test_item_ids]"
   ]
  },
  {
   "cell_type": "code",
   "execution_count": null,
   "metadata": {},
   "outputs": [],
   "source": [
    "mse_test = mean_squared_error(testdf['rating'], test_predicted_ratings)\n",
    "rmse_test = sqrt(mse_test)\n",
    "print(\"Test MSE:\", mse_test)\n",
    "print(\"Test RMSE:\", rmse_test)"
   ]
  },
  {
   "cell_type": "code",
   "execution_count": null,
   "metadata": {},
   "outputs": [],
   "source": [
    "def calculate_precision_recall_f1(testdf, predicted_ratings, k=10):\n",
    "    \"\"\"\n",
    "    Calculates precision, recall, and F1-score for top-k recommendations.\n",
    "\n",
    "    Parameters\n",
    "    ----------\n",
    "    testdf : pd.DataFrame\n",
    "        DataFrame containing the test dataset.\n",
    "    predicted_ratings : np.array\n",
    "        Array of predicted ratings.\n",
    "    k : int, optional\n",
    "        Number of top recommendations to consider, default is 10.\n",
    "\n",
    "    Returns\n",
    "    -------\n",
    "    tuple\n",
    "        Precision, recall, and F1-score.\n",
    "    \"\"\"\n",
    "    testdf['predicted_rating'] = predicted_ratings\n",
    "    testdf_sorted = testdf.sort_values(by='predicted_rating', ascending=False)\n",
    "    top_k_recommendations = testdf_sorted.groupby('userId').head(k)\n",
    "\n",
    "    true_positives = (top_k_recommendations['rating'] >= 4).sum()\n",
    "    precision = true_positives / (k * testdf['userId'].nunique())\n",
    "    recall = true_positives / (testdf['rating'] >= 4).sum()\n",
    "\n",
    "    f1 = 2 * (precision * recall) / (precision + recall) if (precision + recall) > 0 else 0\n",
    "\n",
    "    return precision, recall, f1\n",
    "\n",
    "precision, recall, f1 = calculate_precision_recall_f1(testdf, test_predicted_ratings)\n",
    "print(f\"Precision: {precision}, Recall: {recall}, F1-Score: {f1}\")"
   ]
  },
  {
   "cell_type": "code",
   "execution_count": null,
   "metadata": {},
   "outputs": [],
   "source": [
    "mae_test = mean_absolute_error(testdf['rating'], test_predicted_ratings)\n",
    "print(\"Test MAE:\", mae_test)"
   ]
  },
  {
   "cell_type": "code",
   "execution_count": null,
   "metadata": {},
   "outputs": [],
   "source": [
    "def calculate_coverage(top_n_recommendations, all_items):\n",
    "    \"\"\"\n",
    "    Calculates the coverage of recommendations.\n",
    "\n",
    "    Parameters\n",
    "    ----------\n",
    "    top_n_recommendations : pd.DataFrame\n",
    "        DataFrame containing the top N recommended movies.\n",
    "    all_items : pd.DataFrame\n",
    "        DataFrame containing all items.\n",
    "\n",
    "    Returns\n",
    "    -------\n",
    "    float\n",
    "        Coverage value.\n",
    "    \"\"\"\n",
    "    recommended_items = set(top_n_recommendations['movieId'].unique())\n",
    "    all_items_set = set(all_items['movieId'].unique())\n",
    "    coverage = len(recommended_items) / len(all_items_set)\n",
    "    return coverage\n",
    "\n",
    "coverage = calculate_coverage(recommended_movies, df_movies)\n",
    "print(\"Coverage:\", coverage)"
   ]
  },
  {
   "cell_type": "code",
   "execution_count": null,
   "metadata": {},
   "outputs": [],
   "source": [
    "def calculate_hit_rate(testdf, predicted_ratings, k=10):\n",
    "    \"\"\"\n",
    "    Calculates the hit rate of top-k recommendations.\n",
    "\n",
    "    Parameters\n",
    "    ----------\n",
    "    testdf : pd.DataFrame\n",
    "        DataFrame containing the test dataset.\n",
    "    predicted_ratings : np.array\n",
    "        Array of predicted ratings.\n",
    "    k : int, optional\n",
    "        Number of top recommendations to consider, default is 10.\n",
    "\n",
    "    Returns\n",
    "    -------\n",
    "    float\n",
    "        Hit rate value.\n",
    "    \"\"\"\n",
    "    testdf['predicted_rating'] = predicted_ratings\n",
    "    testdf_sorted = testdf.sort_values(by='predicted_rating', ascending=False)\n",
    "    top_k_recommendations = testdf_sorted.groupby('userId').head(k)\n",
    "\n",
    "    hits = top_k_recommendations[top_k_recommendations['rating'] >= 4].groupby('userId').size()\n",
    "    hit_rate = hits.sum() / testdf['userId'].nunique()\n",
    "    return hit_rate\n",
    "\n",
    "hit_rate = calculate_hit_rate(testdf, test_predicted_ratings)\n",
    "print(\"Hit Rate:\", hit_rate)"
   ]
  },
  {
   "cell_type": "code",
   "execution_count": null,
   "metadata": {},
   "outputs": [],
   "source": [
    "def precision_at_k(testdf, predicted_ratings, k=10):\n",
    "    \"\"\"\n",
    "    Calculates precision at top-k recommendations.\n",
    "\n",
    "    Parameters\n",
    "    ----------\n",
    "    testdf : pd.DataFrame\n",
    "        DataFrame containing the test dataset.\n",
    "    predicted_ratings : np.array\n",
    "        Array of predicted ratings.\n",
    "    k : int, optional\n",
    "        Number of top recommendations to consider, default is 10.\n",
    "\n",
    "    Returns\n",
    "    -------\n",
    "    float\n",
    "        Precision at top-k value.\n",
    "    \"\"\"\n",
    "    testdf['predicted_rating'] = predicted_ratings\n",
    "    testdf_sorted = testdf.sort_values(by='predicted_rating', ascending=False)\n",
    "    top_k_recommendations = testdf_sorted.groupby('userId').head(k)\n",
    "\n",
    "    precision_at_k = (top_k_recommendations['rating'] >= 4).sum() / (k * testdf['userId'].nunique())\n",
    "    return precision_at_k\n",
    "\n",
    "def recall_at_k(testdf, predicted_ratings, k=10):\n",
    "    \"\"\"\n",
    "    Calculates recall at top-k recommendations.\n",
    "\n",
    "    Parameters\n",
    "    ----------\n",
    "    testdf : pd.DataFrame\n",
    "        DataFrame containing the test dataset.\n",
    "    predicted_ratings : np.array\n",
    "        Array of predicted ratings.\n",
    "    k : int, optional\n",
    "        Number of top recommendations to consider, default is 10.\n",
    "\n",
    "    Returns\n",
    "    -------\n",
    "    float\n",
    "        Recall at top-k value.\n",
    "    \"\"\"\n",
    "    testdf['predicted_rating'] = predicted_ratings\n",
    "    testdf_sorted = testdf.sort_values(by='predicted_rating', ascending=False)\n",
    "    top_k_recommendations = testdf_sorted.groupby('userId').head(k)\n",
    "\n",
    "    recall_at_k = (top_k_recommendations['rating'] >= 4).sum() / (testdf['rating'] >= 4).sum()\n",
    "    return recall_at_k\n",
    "\n",
    "precision_k = precision_at_k(testdf, test_predicted_ratings, k=10)\n",
    "recall_k = recall_at_k(testdf, test_predicted_ratings, k=10)\n",
    "print(f\"Precision@10: {precision_k}, Recall@10: {recall_k}\")"
   ]
  },
  {
   "cell_type": "code",
   "execution_count": null,
   "metadata": {},
   "outputs": [],
   "source": []
  }
 ],
 "metadata": {
  "kernelspec": {
   "display_name": "Python 3 (ipykernel)",
   "language": "python",
   "name": "python3"
  },
  "language_info": {
   "codemirror_mode": {
    "name": "ipython",
    "version": 3
   },
   "file_extension": ".py",
   "mimetype": "text/x-python",
   "name": "python",
   "nbconvert_exporter": "python",
   "pygments_lexer": "ipython3",
   "version": "3.11.5"
  }
 },
 "nbformat": 4,
 "nbformat_minor": 2
}
