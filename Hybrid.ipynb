{
 "cells": [
  {
   "cell_type": "code",
   "execution_count": 1,
   "metadata": {},
   "outputs": [],
   "source": [
    "import pandas as pd\n",
    "import numpy as np\n",
    "from sklearn.decomposition import NMF\n",
    "from sklearn.preprocessing import MinMaxScaler\n",
    "from sklearn.feature_extraction.text import TfidfVectorizer\n",
    "from sklearn.metrics import mean_squared_error\n",
    "import matplotlib.pyplot as plt"
   ]
  },
  {
   "cell_type": "code",
   "execution_count": 2,
   "metadata": {},
   "outputs": [],
   "source": [
    "def load_data(ratings_file_path, features_file_path):\n",
    "    df_ratings = pd.read_csv(ratings_file_path)\n",
    "    df_features = pd.read_csv(features_file_path)\n",
    "    return df_ratings, df_features\n"
   ]
  },
  {
   "cell_type": "code",
   "execution_count": 3,
   "metadata": {},
   "outputs": [],
   "source": [
    "traindf, df_movies = load_data('./datasets/training_data.csv', './datasets/movies.csv')"
   ]
  },
  {
   "cell_type": "code",
   "execution_count": 4,
   "metadata": {},
   "outputs": [],
   "source": [
    "user_ids = traindf['userId'].astype(\"category\").cat.codes\n",
    "item_ids = traindf['movieId'].astype(\"category\").cat.codes\n",
    "rating_matrix = np.zeros((user_ids.max()+1, item_ids.max()+1))\n",
    "rating_matrix[user_ids, item_ids] = traindf['rating']"
   ]
  },
  {
   "cell_type": "code",
   "execution_count": 5,
   "metadata": {},
   "outputs": [],
   "source": [
    "scaler = MinMaxScaler(feature_range=(0.5, 5))\n",
    "rating_matrix_scaled = scaler.fit_transform(rating_matrix)"
   ]
  },
  {
   "cell_type": "code",
   "execution_count": 6,
   "metadata": {},
   "outputs": [],
   "source": [
    "df_movies['movieId'] = pd.Categorical(df_movies['movieId'], categories=traindf['movieId'].unique())\n",
    "df_movies_aligned = df_movies.dropna(subset=['genres'])\n",
    "df_movies_aligned = df_movies_aligned[df_movies_aligned['movieId'].isin(traindf['movieId'].unique())]"
   ]
  },
  {
   "cell_type": "code",
   "execution_count": 7,
   "metadata": {},
   "outputs": [],
   "source": [
    "vectorizer = TfidfVectorizer(max_features=100)\n",
    "tags_features = vectorizer.fit_transform(df_movies_aligned['genres'].fillna(''))"
   ]
  },
  {
   "cell_type": "code",
   "execution_count": 8,
   "metadata": {},
   "outputs": [],
   "source": [
    "item_features_array = tags_features.toarray()\n",
    "full_features_matrix = np.hstack([rating_matrix_scaled.T, item_features_array]).T"
   ]
  },
  {
   "cell_type": "code",
   "execution_count": 9,
   "metadata": {},
   "outputs": [
    {
     "name": "stderr",
     "output_type": "stream",
     "text": [
      "c:\\ProgramData\\anaconda3\\Lib\\site-packages\\sklearn\\decomposition\\_nmf.py:1665: ConvergenceWarning: Maximum number of iterations 200 reached. Increase it to improve convergence.\n",
      "  warnings.warn(\n"
     ]
    }
   ],
   "source": [
    "n_components = 15\n",
    "model = NMF(n_components=n_components, init='random', random_state=0, max_iter=200)\n",
    "W = model.fit_transform(full_features_matrix)\n",
    "H = model.components_"
   ]
  },
  {
   "cell_type": "code",
   "execution_count": 10,
   "metadata": {},
   "outputs": [],
   "source": [
    "user_categories = pd.Categorical(traindf['userId'])\n",
    "item_categories = pd.Categorical(traindf['movieId'])"
   ]
  },
  {
   "cell_type": "code",
   "execution_count": 11,
   "metadata": {},
   "outputs": [],
   "source": [
    "user_ids = user_categories.codes\n",
    "item_ids = item_categories.codes\n",
    "rating_matrix = np.zeros((user_categories.categories.size, item_categories.categories.size))\n",
    "rating_matrix[user_ids, item_ids] = traindf['rating']"
   ]
  },
  {
   "cell_type": "code",
   "execution_count": 12,
   "metadata": {},
   "outputs": [],
   "source": [
    "user_category_mapping = pd.Series(index=user_categories.categories, data=np.arange(user_categories.categories.size))\n",
    "item_category_mapping = pd.Series(index=item_categories.categories, data=np.arange(item_categories.categories.size))"
   ]
  },
  {
   "cell_type": "code",
   "execution_count": 13,
   "metadata": {},
   "outputs": [],
   "source": [
    "def get_top_n_recommendations(user_id, n):\n",
    "    if user_id not in user_category_mapping:\n",
    "        return pd.DataFrame()  # Return an empty DataFrame if user_id is not in the mapping\n",
    "\n",
    "    user_idx = user_category_mapping[user_id]  # Convert user_id to user index using the mapping\n",
    "    predicted_ratings = np.dot(W[user_idx, :], H)\n",
    "    top_n_indices = np.argsort(predicted_ratings)[-n:]  # Indices of top N recommendations\n",
    "    top_n_movie_ids = item_categories.categories[top_n_indices]  # Map indices to movie IDs\n",
    "\n",
    "    return df_movies[df_movies['movieId'].isin(top_n_movie_ids)][['movieId', 'title', 'genres']]"
   ]
  },
  {
   "cell_type": "code",
   "execution_count": 30,
   "metadata": {},
   "outputs": [
    {
     "name": "stdout",
     "output_type": "stream",
     "text": [
      "     movieId                                              title  \\\n",
      "224      260          Star Wars: Episode IV - A New Hope (1977)   \n",
      "257      296                                Pulp Fiction (1994)   \n",
      "277      318                   Shawshank Redemption, The (1994)   \n",
      "314      356                                Forrest Gump (1994)   \n",
      "461      527                            Schindler's List (1993)   \n",
      "510      593                   Silence of the Lambs, The (1991)   \n",
      "659      858                              Godfather, The (1972)   \n",
      "1503    2028                         Saving Private Ryan (1998)   \n",
      "1939    2571                                 Matrix, The (1999)   \n",
      "2145    2858                             American Beauty (1999)   \n",
      "2226    2959                                  Fight Club (1999)   \n",
      "2674    3578                                   Gladiator (2000)   \n",
      "3141    4226                                     Memento (2000)   \n",
      "3194    4306                                       Shrek (2001)   \n",
      "3638    4993  Lord of the Rings: The Fellowship of the Ring,...   \n",
      "4137    5952      Lord of the Rings: The Two Towers, The (2002)   \n",
      "4360    6377                                Finding Nemo (2003)   \n",
      "4427    6539  Pirates of the Caribbean: The Curse of the Bla...   \n",
      "4800    7153  Lord of the Rings: The Return of the King, The...   \n",
      "6710   58559                            Dark Knight, The (2008)   \n",
      "\n",
      "                                                 genres  \n",
      "224                   ['Action', 'Adventure', 'Sci-Fi']  \n",
      "257            ['Comedy', 'Crime', 'Drama', 'Thriller']  \n",
      "277                                  ['Crime', 'Drama']  \n",
      "314               ['Comedy', 'Drama', 'Romance', 'War']  \n",
      "461                                    ['Drama', 'War']  \n",
      "510                     ['Crime', 'Horror', 'Thriller']  \n",
      "659                                  ['Crime', 'Drama']  \n",
      "1503                         ['Action', 'Drama', 'War']  \n",
      "1939                   ['Action', 'Sci-Fi', 'Thriller']  \n",
      "2145                               ['Drama', 'Romance']  \n",
      "2226           ['Action', 'Crime', 'Drama', 'Thriller']  \n",
      "2674                   ['Action', 'Adventure', 'Drama']  \n",
      "3141                            ['Mystery', 'Thriller']  \n",
      "3194  ['Adventure', 'Animation', 'Children', 'Comedy...  \n",
      "3638                           ['Adventure', 'Fantasy']  \n",
      "4137                           ['Adventure', 'Fantasy']  \n",
      "4360   ['Adventure', 'Animation', 'Children', 'Comedy']  \n",
      "4427       ['Action', 'Adventure', 'Comedy', 'Fantasy']  \n",
      "4800        ['Action', 'Adventure', 'Drama', 'Fantasy']  \n",
      "6710               ['Action', 'Crime', 'Drama', 'IMAX']  \n"
     ]
    }
   ],
   "source": [
    "recommended_movies = get_top_n_recommendations(55, 20)  # Example: user_id 10\n",
    "print(recommended_movies)"
   ]
  },
  {
   "cell_type": "code",
   "execution_count": 15,
   "metadata": {},
   "outputs": [
    {
     "ename": "IndexError",
     "evalue": "boolean index did not match indexed array along dimension 0; dimension is 8931 but corresponding boolean dimension is 610",
     "output_type": "error",
     "traceback": [
      "\u001b[1;31m---------------------------------------------------------------------------\u001b[0m",
      "\u001b[1;31mIndexError\u001b[0m                                Traceback (most recent call last)",
      "Cell \u001b[1;32mIn[15], line 3\u001b[0m\n\u001b[0;32m      1\u001b[0m reconstructed_ratings \u001b[38;5;241m=\u001b[39m np\u001b[38;5;241m.\u001b[39mdot(W, H)\n\u001b[0;32m      2\u001b[0m original_mask \u001b[38;5;241m=\u001b[39m rating_matrix \u001b[38;5;241m>\u001b[39m \u001b[38;5;241m0\u001b[39m  \u001b[38;5;66;03m# Only consider originally rated items\u001b[39;00m\n\u001b[1;32m----> 3\u001b[0m rmse \u001b[38;5;241m=\u001b[39m np\u001b[38;5;241m.\u001b[39msqrt(mean_squared_error(rating_matrix_scaled[original_mask], reconstructed_ratings\u001b[38;5;241m.\u001b[39mT[original_mask]))\n\u001b[0;32m      4\u001b[0m \u001b[38;5;28mprint\u001b[39m(\u001b[38;5;124mf\u001b[39m\u001b[38;5;124m\"\u001b[39m\u001b[38;5;124mRMSE of the hybrid model: \u001b[39m\u001b[38;5;132;01m{\u001b[39;00mrmse\u001b[38;5;132;01m}\u001b[39;00m\u001b[38;5;124m\"\u001b[39m)\n",
      "\u001b[1;31mIndexError\u001b[0m: boolean index did not match indexed array along dimension 0; dimension is 8931 but corresponding boolean dimension is 610"
     ]
    }
   ],
   "source": [
    "reconstructed_ratings = np.dot(W, H)\n",
    "original_mask = rating_matrix > 0  # Only consider originally rated items\n",
    "rmse = np.sqrt(mean_squared_error(rating_matrix_scaled[original_mask], reconstructed_ratings.T[original_mask]))\n",
    "print(f\"RMSE of the hybrid model: {rmse}\")"
   ]
  },
  {
   "cell_type": "code",
   "execution_count": 31,
   "metadata": {},
   "outputs": [
    {
     "ename": "IndexError",
     "evalue": "boolean index did not match indexed array along dimension 0; dimension is 8931 but corresponding boolean dimension is 610",
     "output_type": "error",
     "traceback": [
      "\u001b[1;31m---------------------------------------------------------------------------\u001b[0m",
      "\u001b[1;31mIndexError\u001b[0m                                Traceback (most recent call last)",
      "Cell \u001b[1;32mIn[31], line 2\u001b[0m\n\u001b[0;32m      1\u001b[0m plt\u001b[38;5;241m.\u001b[39mfigure(figsize\u001b[38;5;241m=\u001b[39m(\u001b[38;5;241m10\u001b[39m, \u001b[38;5;241m6\u001b[39m))\n\u001b[1;32m----> 2\u001b[0m plt\u001b[38;5;241m.\u001b[39mhist(reconstructed_ratings\u001b[38;5;241m.\u001b[39mT[original_mask], bins\u001b[38;5;241m=\u001b[39m\u001b[38;5;241m50\u001b[39m, alpha\u001b[38;5;241m=\u001b[39m\u001b[38;5;241m0.75\u001b[39m, label\u001b[38;5;241m=\u001b[39m\u001b[38;5;124m'\u001b[39m\u001b[38;5;124mPredicted Ratings\u001b[39m\u001b[38;5;124m'\u001b[39m)\n\u001b[0;32m      3\u001b[0m plt\u001b[38;5;241m.\u001b[39mtitle(\u001b[38;5;124m'\u001b[39m\u001b[38;5;124mHistogram of Predicted Ratings\u001b[39m\u001b[38;5;124m'\u001b[39m)\n\u001b[0;32m      4\u001b[0m plt\u001b[38;5;241m.\u001b[39mxlabel(\u001b[38;5;124m'\u001b[39m\u001b[38;5;124mRating\u001b[39m\u001b[38;5;124m'\u001b[39m)\n",
      "\u001b[1;31mIndexError\u001b[0m: boolean index did not match indexed array along dimension 0; dimension is 8931 but corresponding boolean dimension is 610"
     ]
    },
    {
     "data": {
      "text/plain": [
       "<Figure size 1000x600 with 0 Axes>"
      ]
     },
     "metadata": {},
     "output_type": "display_data"
    }
   ],
   "source": [
    "plt.figure(figsize=(10, 6))\n",
    "plt.hist(reconstructed_ratings.T[original_mask], bins=50, alpha=0.75, label='Predicted Ratings')\n",
    "plt.title('Histogram of Predicted Ratings')\n",
    "plt.xlabel('Rating')\n",
    "plt.ylabel('Frequency')\n",
    "plt.legend()\n",
    "plt.show()"
   ]
  },
  {
   "cell_type": "code",
   "execution_count": null,
   "metadata": {},
   "outputs": [],
   "source": []
  }
 ],
 "metadata": {
  "kernelspec": {
   "display_name": "base",
   "language": "python",
   "name": "python3"
  },
  "language_info": {
   "codemirror_mode": {
    "name": "ipython",
    "version": 3
   },
   "file_extension": ".py",
   "mimetype": "text/x-python",
   "name": "python",
   "nbconvert_exporter": "python",
   "pygments_lexer": "ipython3",
   "version": "3.11.7"
  }
 },
 "nbformat": 4,
 "nbformat_minor": 2
}
