{
 "cells": [
  {
   "cell_type": "code",
   "execution_count": null,
   "metadata": {},
   "outputs": [],
   "source": [
    "#Import necessary libraries\n",
    "\n",
    "import pandas as pd\n",
    "import numpy as np\n",
    "from math import sqrt\n",
    "import matplotlib.pyplot as plt\n",
    "\n",
    "from sklearn.decomposition import NMF\n",
    "from sklearn.preprocessing import MinMaxScaler, normalize\n",
    "from sklearn.feature_extraction.text import TfidfVectorizer\n",
    "from sklearn.metrics import mean_squared_error"
   ]
  },
  {
   "cell_type": "code",
   "execution_count": null,
   "metadata": {},
   "outputs": [],
   "source": [
    "# Function to load data from CSV files\n",
    "\n",
    "def load_data(ratings_file_path, features_file_path):\n",
    "    # Specify data types for efficient memory usage\n",
    "    dtype_ratings = {\n",
    "        'userId': 'int32',\n",
    "        'movieId': 'int32',\n",
    "        'rating': 'float32'\n",
    "    }\n",
    "    dtype_features = {\n",
    "        'movieId': 'int32'  # Same type as in ratings for consistency\n",
    "    }\n",
    "\n",
    "    # Load data with specified types\n",
    "    df_ratings = pd.read_csv(ratings_file_path, dtype=dtype_ratings)\n",
    "    df_features = pd.read_csv(features_file_path, dtype=dtype_features)\n",
    "    \n",
    "    return df_ratings, df_features"
   ]
  },
  {
   "cell_type": "code",
   "execution_count": null,
   "metadata": {},
   "outputs": [],
   "source": [
    "# Load training data and movie features\n",
    "\n",
    "traindf, df_movies = load_data('./datasets/training_data.csv', './datasets/movies.csv')"
   ]
  },
  {
   "cell_type": "code",
   "execution_count": null,
   "metadata": {},
   "outputs": [],
   "source": [
    "# Convert userId and movieId to categorical data types\n",
    "\n",
    "user_categories = pd.Categorical(traindf['userId'])\n",
    "item_categories = pd.Categorical(traindf['movieId'])"
   ]
  },
  {
   "cell_type": "code",
   "execution_count": null,
   "metadata": {},
   "outputs": [],
   "source": [
    "# Get numeric codes for users and items from categorical types\n",
    "\n",
    "user_ids = user_categories.codes\n",
    "item_ids = item_categories.codes"
   ]
  },
  {
   "cell_type": "code",
   "execution_count": null,
   "metadata": {},
   "outputs": [],
   "source": [
    "# Initialize the user-item rating matrix\n",
    "\n",
    "rating_matrix = np.zeros((user_categories.categories.size, item_categories.categories.size))\n",
    "rating_matrix[user_ids, item_ids] = traindf['rating']"
   ]
  },
  {
   "cell_type": "code",
   "execution_count": null,
   "metadata": {},
   "outputs": [],
   "source": [
    "# Scale ratings to be between 0.5 and 5 using MinMaxScaler\n",
    "\n",
    "scaler = MinMaxScaler(feature_range=(0.5, 5))\n",
    "rating_matrix_scaled = scaler.fit_transform(rating_matrix)"
   ]
  },
  {
   "cell_type": "code",
   "execution_count": null,
   "metadata": {},
   "outputs": [],
   "source": [
    "# Align movie data to only include movies in the training dataset\n",
    "\n",
    "df_movies['movieId'] = pd.Categorical(df_movies['movieId'], categories=traindf['movieId'].unique())\n",
    "df_movies_aligned = df_movies.dropna(subset=['genres'])\n",
    "df_movies_aligned = df_movies_aligned[df_movies_aligned['movieId'].isin(traindf['movieId'].unique())]"
   ]
  },
  {
   "cell_type": "code",
   "execution_count": null,
   "metadata": {},
   "outputs": [],
   "source": [
    "# Convert movie genres to a TF-IDF matrix\n",
    "\n",
    "vectorizer = TfidfVectorizer(max_features=100)\n",
    "tags_features = vectorizer.fit_transform(df_movies_aligned['genres'].fillna(''))"
   ]
  },
  {
   "cell_type": "code",
   "execution_count": null,
   "metadata": {},
   "outputs": [],
   "source": [
    "# Adjust user ratings based on user activity\n",
    "\n",
    "user_counts = traindf['userId'].value_counts()\n",
    "user_weights = user_counts / user_counts.max()\n",
    "\n",
    "for idx, row in traindf.iterrows():\n",
    "    user_idx = user_categories.categories.get_loc(row['userId'])\n",
    "    item_idx = item_categories.categories.get_loc(row['movieId'])\n",
    "    user_id = row['userId']\n",
    "    rating_matrix_scaled[user_idx, item_idx] *= user_weights.loc[user_id]"
   ]
  },
  {
   "cell_type": "code",
   "execution_count": null,
   "metadata": {},
   "outputs": [],
   "source": [
    "# Combine user-item interactions with content features and weight them\n",
    "\n",
    "importance_of_genre = 0.5\n",
    "content_weighted_features = tags_features.multiply(importance_of_genre).toarray()\n",
    "\n",
    "full_features_matrix = np.hstack([rating_matrix_scaled.T, content_weighted_features]).T"
   ]
  },
  {
   "cell_type": "code",
   "execution_count": null,
   "metadata": {},
   "outputs": [],
   "source": [
    "# Set up and train the NMF model\n",
    "\n",
    "model = NMF(n_components=15, init='nndsvd', max_iter=100, random_state=42)\n",
    "W = model.fit_transform(full_features_matrix)\n",
    "H = model.components_"
   ]
  },
  {
   "cell_type": "code",
   "execution_count": null,
   "metadata": {},
   "outputs": [],
   "source": [
    "# Function to get top N movie recommendations for a user\n",
    "\n",
    "def get_top_n_recommendations(user_id, n):\n",
    "    if user_id not in user_categories.categories:\n",
    "        return pd.DataFrame()\n",
    "    \n",
    "    user_idx = user_categories.categories.get_loc(user_id)\n",
    "    predicted_ratings = np.dot(W[user_idx, :], H)\n",
    "    top_n_indices = np.argsort(predicted_ratings)[-n:]\n",
    "    top_n_movie_ids = item_categories.categories[top_n_indices]\n",
    "    \n",
    "    return df_movies[df_movies['movieId'].isin(top_n_movie_ids)][['movieId', 'title', 'genres']]"
   ]
  },
  {
   "cell_type": "code",
   "execution_count": null,
   "metadata": {
    "scrolled": false
   },
   "outputs": [],
   "source": [
    "# Example usage of the recommendation function\n",
    "\n",
    "recommended_movies = get_top_n_recommendations(1, 20)\n",
    "recommended_movies"
   ]
  },
  {
   "cell_type": "code",
   "execution_count": null,
   "metadata": {},
   "outputs": [],
   "source": [
    "# Function to load and prepare test data\n",
    "\n",
    "def load_test_data(test_file_path):\n",
    "    df_test = pd.read_csv(test_file_path)\n",
    "    \n",
    "    df_test['userId'] = pd.Categorical(df_test['userId'], categories=user_categories.categories)\n",
    "    df_test['movieId'] = pd.Categorical(df_test['movieId'], categories=item_categories.categories)\n",
    "    \n",
    "    return df_test"
   ]
  },
  {
   "cell_type": "code",
   "execution_count": null,
   "metadata": {},
   "outputs": [],
   "source": [
    "# Load and predict test dataset ratings\n",
    "\n",
    "testdf = load_test_data('./datasets/testing_data.csv')\n",
    "test_rating_matrix = np.zeros((user_categories.categories.size, item_categories.categories.size))\n",
    "\n",
    "test_user_ids = testdf['userId'].cat.codes\n",
    "test_item_ids = testdf['movieId'].cat.codes\n",
    "\n",
    "test_rating_matrix[test_user_ids, test_item_ids] = testdf['rating']\n",
    "\n",
    "predicted_test_ratings = np.dot(W, H)\n",
    "test_predicted_ratings = predicted_test_ratings[test_user_ids, test_item_ids]"
   ]
  },
  {
   "cell_type": "code",
   "execution_count": null,
   "metadata": {},
   "outputs": [],
   "source": [
    "# Calculate and print the test RMSE\n",
    "\n",
    "mse_test = mean_squared_error(testdf['rating'], test_predicted_ratings)\n",
    "rmse_test = sqrt(mse_test)\n",
    "print(\"Test RMSE:\", rmse_test)"
   ]
  },
  {
   "cell_type": "code",
   "execution_count": null,
   "metadata": {},
   "outputs": [],
   "source": []
  }
 ],
 "metadata": {
  "kernelspec": {
   "display_name": "Python 3 (ipykernel)",
   "language": "python",
   "name": "python3"
  },
  "language_info": {
   "codemirror_mode": {
    "name": "ipython",
    "version": 3
   },
   "file_extension": ".py",
   "mimetype": "text/x-python",
   "name": "python",
   "nbconvert_exporter": "python",
   "pygments_lexer": "ipython3",
   "version": "3.11.5"
  }
 },
 "nbformat": 4,
 "nbformat_minor": 2
}
