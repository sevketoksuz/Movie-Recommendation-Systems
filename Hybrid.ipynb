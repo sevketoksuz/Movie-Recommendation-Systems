{
 "cells": [
  {
   "cell_type": "code",
   "execution_count": 1,
   "metadata": {},
   "outputs": [],
   "source": [
    "#Import necessary libraries\n",
    "\n",
    "import pandas as pd\n",
    "import numpy as np\n",
    "from math import sqrt\n",
    "import matplotlib.pyplot as plt\n",
    "\n",
    "from sklearn.decomposition import NMF\n",
    "from sklearn.preprocessing import MinMaxScaler, normalize\n",
    "from sklearn.feature_extraction.text import TfidfVectorizer\n",
    "from sklearn.metrics import mean_squared_error"
   ]
  },
  {
   "cell_type": "code",
   "execution_count": 2,
   "metadata": {},
   "outputs": [],
   "source": [
    "# Function to load data from CSV files\n",
    "\n",
    "def load_data(ratings_file_path, features_file_path):\n",
    "    # Specify data types for efficient memory usage\n",
    "    dtype_ratings = {\n",
    "        'userId': 'int32',  # Adjust according to the maximum value observed\n",
    "        'movieId': 'int32',  # Adjust according to the maximum value observed\n",
    "        'rating': 'float32'  # If higher precision is not necessary\n",
    "    }\n",
    "    dtype_features = {\n",
    "        'movieId': 'int32'  # Same type as in ratings for consistency\n",
    "    }\n",
    "\n",
    "    # Load data with specified types\n",
    "    df_ratings = pd.read_csv(ratings_file_path, dtype=dtype_ratings)\n",
    "    df_features = pd.read_csv(features_file_path, dtype=dtype_features)\n",
    "    \n",
    "    return df_ratings, df_features"
   ]
  },
  {
   "cell_type": "code",
   "execution_count": 3,
   "metadata": {},
   "outputs": [],
   "source": [
    "# Load training data and movie features\n",
    "\n",
    "traindf, df_movies = load_data('./datasets/training_data.csv', './datasets/movies.csv')"
   ]
  },
  {
   "cell_type": "code",
   "execution_count": 4,
   "metadata": {},
   "outputs": [],
   "source": [
    "# Convert userId and movieId to categorical data types\n",
    "\n",
    "user_categories = pd.Categorical(traindf['userId'])\n",
    "item_categories = pd.Categorical(traindf['movieId'])"
   ]
  },
  {
   "cell_type": "code",
   "execution_count": 5,
   "metadata": {},
   "outputs": [],
   "source": [
    "# Get numeric codes for users and items from categorical types\n",
    "\n",
    "user_ids = user_categories.codes\n",
    "item_ids = item_categories.codes"
   ]
  },
  {
   "cell_type": "code",
   "execution_count": 6,
   "metadata": {},
   "outputs": [],
   "source": [
    "# Initialize the user-item rating matrix\n",
    "\n",
    "rating_matrix = np.zeros((user_categories.categories.size, item_categories.categories.size))\n",
    "rating_matrix[user_ids, item_ids] = traindf['rating']"
   ]
  },
  {
   "cell_type": "code",
   "execution_count": 7,
   "metadata": {},
   "outputs": [],
   "source": [
    "# Scale ratings to be between 0.5 and 5 using MinMaxScaler\n",
    "\n",
    "scaler = MinMaxScaler(feature_range=(0.5, 5))\n",
    "rating_matrix_scaled = scaler.fit_transform(rating_matrix)"
   ]
  },
  {
   "cell_type": "code",
   "execution_count": 8,
   "metadata": {},
   "outputs": [],
   "source": [
    "# Align movie data to only include movies in the training dataset\n",
    "\n",
    "df_movies['movieId'] = pd.Categorical(df_movies['movieId'], categories=traindf['movieId'].unique())\n",
    "df_movies_aligned = df_movies.dropna(subset=['genres'])\n",
    "df_movies_aligned = df_movies_aligned[df_movies_aligned['movieId'].isin(traindf['movieId'].unique())]"
   ]
  },
  {
   "cell_type": "code",
   "execution_count": 9,
   "metadata": {},
   "outputs": [],
   "source": [
    "# Convert movie genres to a TF-IDF matrix\n",
    "\n",
    "vectorizer = TfidfVectorizer(max_features=100)\n",
    "tags_features = vectorizer.fit_transform(df_movies_aligned['genres'].fillna(''))"
   ]
  },
  {
   "cell_type": "code",
   "execution_count": 10,
   "metadata": {},
   "outputs": [],
   "source": [
    "# Adjust user ratings based on user activity\n",
    "\n",
    "user_counts = traindf['userId'].value_counts()\n",
    "user_weights = user_counts / user_counts.max()\n",
    "\n",
    "for idx, row in traindf.iterrows():\n",
    "    user_idx = user_categories.categories.get_loc(row['userId'])\n",
    "    item_idx = item_categories.categories.get_loc(row['movieId'])\n",
    "    user_id = row['userId']\n",
    "    rating_matrix_scaled[user_idx, item_idx] *= user_weights.loc[user_id]"
   ]
  },
  {
   "cell_type": "code",
   "execution_count": 11,
   "metadata": {},
   "outputs": [],
   "source": [
    "# Combine user-item interactions with content features and weight them\n",
    "\n",
    "importance_of_genre = 0.2\n",
    "content_weighted_features = tags_features.multiply(importance_of_genre).toarray()\n",
    "\n",
    "full_features_matrix = np.hstack([rating_matrix_scaled.T, content_weighted_features]).T"
   ]
  },
  {
   "cell_type": "code",
   "execution_count": 12,
   "metadata": {},
   "outputs": [
    {
     "name": "stderr",
     "output_type": "stream",
     "text": [
      "C:\\Users\\DTSOKSUZ\\AppData\\Local\\anaconda3\\Lib\\site-packages\\sklearn\\decomposition\\_nmf.py:1710: ConvergenceWarning: Maximum number of iterations 200 reached. Increase it to improve convergence.\n",
      "  warnings.warn(\n"
     ]
    }
   ],
   "source": [
    "# Set up and train the NMF model\n",
    "\n",
    "model = NMF(n_components=15, init='nndsvd', random_state=0, max_iter=200)\n",
    "W = model.fit_transform(full_features_matrix)\n",
    "H = model.components_"
   ]
  },
  {
   "cell_type": "code",
   "execution_count": 13,
   "metadata": {},
   "outputs": [],
   "source": [
    "# Function to get top N movie recommendations for a user\n",
    "\n",
    "def get_top_n_recommendations(user_id, n):\n",
    "    if user_id not in user_categories.categories:\n",
    "        return pd.DataFrame()\n",
    "    \n",
    "    user_idx = user_categories.categories.get_loc(user_id)\n",
    "    predicted_ratings = np.dot(W[user_idx, :], H)\n",
    "    top_n_indices = np.argsort(predicted_ratings)[-n:]\n",
    "    top_n_movie_ids = item_categories.categories[top_n_indices]\n",
    "    \n",
    "    return df_movies[df_movies['movieId'].isin(top_n_movie_ids)][['movieId', 'title', 'genres']]"
   ]
  },
  {
   "cell_type": "code",
   "execution_count": 14,
   "metadata": {
    "scrolled": false
   },
   "outputs": [
    {
     "data": {
      "text/html": [
       "<div>\n",
       "<style scoped>\n",
       "    .dataframe tbody tr th:only-of-type {\n",
       "        vertical-align: middle;\n",
       "    }\n",
       "\n",
       "    .dataframe tbody tr th {\n",
       "        vertical-align: top;\n",
       "    }\n",
       "\n",
       "    .dataframe thead th {\n",
       "        text-align: right;\n",
       "    }\n",
       "</style>\n",
       "<table border=\"1\" class=\"dataframe\">\n",
       "  <thead>\n",
       "    <tr style=\"text-align: right;\">\n",
       "      <th></th>\n",
       "      <th>movieId</th>\n",
       "      <th>title</th>\n",
       "      <th>genres</th>\n",
       "    </tr>\n",
       "  </thead>\n",
       "  <tbody>\n",
       "    <tr>\n",
       "      <th>4480</th>\n",
       "      <td>6618</td>\n",
       "      <td>Shaolin Soccer (Siu lam juk kau) (2001)</td>\n",
       "      <td>['Action', 'Comedy']</td>\n",
       "    </tr>\n",
       "    <tr>\n",
       "      <th>4950</th>\n",
       "      <td>7460</td>\n",
       "      <td>Coffee and Cigarettes (2003)</td>\n",
       "      <td>['Comedy', 'Drama']</td>\n",
       "    </tr>\n",
       "    <tr>\n",
       "      <th>5684</th>\n",
       "      <td>27722</td>\n",
       "      <td>Last Life in the Universe (Ruang rak noi nid m...</td>\n",
       "      <td>['Drama', 'Romance']</td>\n",
       "    </tr>\n",
       "    <tr>\n",
       "      <th>5706</th>\n",
       "      <td>27815</td>\n",
       "      <td>Chorus, The (Choristes, Les) (2004)</td>\n",
       "      <td>['Drama']</td>\n",
       "    </tr>\n",
       "    <tr>\n",
       "      <th>6089</th>\n",
       "      <td>42004</td>\n",
       "      <td>Transamerica (2005)</td>\n",
       "      <td>['Adventure', 'Comedy', 'Drama']</td>\n",
       "    </tr>\n",
       "    <tr>\n",
       "      <th>6153</th>\n",
       "      <td>44195</td>\n",
       "      <td>Thank You for Smoking (2006)</td>\n",
       "      <td>['Comedy', 'Drama']</td>\n",
       "    </tr>\n",
       "    <tr>\n",
       "      <th>6878</th>\n",
       "      <td>62849</td>\n",
       "      <td>RocknRolla (2008)</td>\n",
       "      <td>['Action', 'Crime']</td>\n",
       "    </tr>\n",
       "    <tr>\n",
       "      <th>6918</th>\n",
       "      <td>64497</td>\n",
       "      <td>Day the Earth Stood Still, The (2008)</td>\n",
       "      <td>['Drama', 'Sci-Fi', 'Thriller', 'IMAX']</td>\n",
       "    </tr>\n",
       "    <tr>\n",
       "      <th>6991</th>\n",
       "      <td>67197</td>\n",
       "      <td>Knowing (2009)</td>\n",
       "      <td>['Action', 'Drama', 'Mystery', 'Sci-Fi', 'Thri...</td>\n",
       "    </tr>\n",
       "    <tr>\n",
       "      <th>7124</th>\n",
       "      <td>71135</td>\n",
       "      <td>Pandorum (2009)</td>\n",
       "      <td>['Horror', 'Sci-Fi', 'Thriller']</td>\n",
       "    </tr>\n",
       "    <tr>\n",
       "      <th>7132</th>\n",
       "      <td>71254</td>\n",
       "      <td>Gamer (2009)</td>\n",
       "      <td>['Action', 'Sci-Fi', 'Thriller']</td>\n",
       "    </tr>\n",
       "    <tr>\n",
       "      <th>7300</th>\n",
       "      <td>76077</td>\n",
       "      <td>Hot Tub Time Machine (2010)</td>\n",
       "      <td>['Comedy', 'Sci-Fi']</td>\n",
       "    </tr>\n",
       "    <tr>\n",
       "      <th>7503</th>\n",
       "      <td>83349</td>\n",
       "      <td>Green Hornet, The (2011)</td>\n",
       "      <td>['Action', 'Comedy', 'Crime', 'Fantasy', 'Thri...</td>\n",
       "    </tr>\n",
       "    <tr>\n",
       "      <th>7898</th>\n",
       "      <td>95088</td>\n",
       "      <td>Safety Not Guaranteed (2012)</td>\n",
       "      <td>['Comedy', 'Drama']</td>\n",
       "    </tr>\n",
       "    <tr>\n",
       "      <th>7947</th>\n",
       "      <td>95873</td>\n",
       "      <td>Ruby Sparks (2012)</td>\n",
       "      <td>['Comedy', 'Fantasy', 'Romance']</td>\n",
       "    </tr>\n",
       "    <tr>\n",
       "      <th>8205</th>\n",
       "      <td>103384</td>\n",
       "      <td>Lone Ranger, The (2013)</td>\n",
       "      <td>['Action', 'Adventure', 'Western', 'IMAX']</td>\n",
       "    </tr>\n",
       "    <tr>\n",
       "      <th>8312</th>\n",
       "      <td>106918</td>\n",
       "      <td>Secret Life of Walter Mitty, The (2013)</td>\n",
       "      <td>['Adventure', 'Comedy', 'Drama']</td>\n",
       "    </tr>\n",
       "    <tr>\n",
       "      <th>8354</th>\n",
       "      <td>108729</td>\n",
       "      <td>Enemy (2013)</td>\n",
       "      <td>['Mystery', 'Thriller']</td>\n",
       "    </tr>\n",
       "    <tr>\n",
       "      <th>9434</th>\n",
       "      <td>166534</td>\n",
       "      <td>Split (2017)</td>\n",
       "      <td>['Drama', 'Horror', 'Thriller']</td>\n",
       "    </tr>\n",
       "    <tr>\n",
       "      <th>9503</th>\n",
       "      <td>170875</td>\n",
       "      <td>The Fate of the Furious (2017)</td>\n",
       "      <td>['Action', 'Crime', 'Drama', 'Thriller']</td>\n",
       "    </tr>\n",
       "  </tbody>\n",
       "</table>\n",
       "</div>"
      ],
      "text/plain": [
       "     movieId                                              title  \\\n",
       "4480    6618            Shaolin Soccer (Siu lam juk kau) (2001)   \n",
       "4950    7460                       Coffee and Cigarettes (2003)   \n",
       "5684   27722  Last Life in the Universe (Ruang rak noi nid m...   \n",
       "5706   27815                Chorus, The (Choristes, Les) (2004)   \n",
       "6089   42004                                Transamerica (2005)   \n",
       "6153   44195                       Thank You for Smoking (2006)   \n",
       "6878   62849                                  RocknRolla (2008)   \n",
       "6918   64497              Day the Earth Stood Still, The (2008)   \n",
       "6991   67197                                     Knowing (2009)   \n",
       "7124   71135                                    Pandorum (2009)   \n",
       "7132   71254                                       Gamer (2009)   \n",
       "7300   76077                        Hot Tub Time Machine (2010)   \n",
       "7503   83349                           Green Hornet, The (2011)   \n",
       "7898   95088                       Safety Not Guaranteed (2012)   \n",
       "7947   95873                                 Ruby Sparks (2012)   \n",
       "8205  103384                            Lone Ranger, The (2013)   \n",
       "8312  106918            Secret Life of Walter Mitty, The (2013)   \n",
       "8354  108729                                       Enemy (2013)   \n",
       "9434  166534                                       Split (2017)   \n",
       "9503  170875                     The Fate of the Furious (2017)   \n",
       "\n",
       "                                                 genres  \n",
       "4480                               ['Action', 'Comedy']  \n",
       "4950                                ['Comedy', 'Drama']  \n",
       "5684                               ['Drama', 'Romance']  \n",
       "5706                                          ['Drama']  \n",
       "6089                   ['Adventure', 'Comedy', 'Drama']  \n",
       "6153                                ['Comedy', 'Drama']  \n",
       "6878                                ['Action', 'Crime']  \n",
       "6918            ['Drama', 'Sci-Fi', 'Thriller', 'IMAX']  \n",
       "6991  ['Action', 'Drama', 'Mystery', 'Sci-Fi', 'Thri...  \n",
       "7124                   ['Horror', 'Sci-Fi', 'Thriller']  \n",
       "7132                   ['Action', 'Sci-Fi', 'Thriller']  \n",
       "7300                               ['Comedy', 'Sci-Fi']  \n",
       "7503  ['Action', 'Comedy', 'Crime', 'Fantasy', 'Thri...  \n",
       "7898                                ['Comedy', 'Drama']  \n",
       "7947                   ['Comedy', 'Fantasy', 'Romance']  \n",
       "8205         ['Action', 'Adventure', 'Western', 'IMAX']  \n",
       "8312                   ['Adventure', 'Comedy', 'Drama']  \n",
       "8354                            ['Mystery', 'Thriller']  \n",
       "9434                    ['Drama', 'Horror', 'Thriller']  \n",
       "9503           ['Action', 'Crime', 'Drama', 'Thriller']  "
      ]
     },
     "execution_count": 14,
     "metadata": {},
     "output_type": "execute_result"
    }
   ],
   "source": [
    "# Example usage of the recommendation function\n",
    "\n",
    "recommended_movies = get_top_n_recommendations(1, 20)\n",
    "recommended_movies"
   ]
  },
  {
   "cell_type": "code",
   "execution_count": 15,
   "metadata": {},
   "outputs": [],
   "source": [
    "# Function to load and prepare test data\n",
    "\n",
    "def load_test_data(test_file_path):\n",
    "    df_test = pd.read_csv(test_file_path)\n",
    "    \n",
    "    df_test['userId'] = pd.Categorical(df_test['userId'], categories=user_categories.categories)\n",
    "    df_test['movieId'] = pd.Categorical(df_test['movieId'], categories=item_categories.categories)\n",
    "    \n",
    "    return df_test"
   ]
  },
  {
   "cell_type": "code",
   "execution_count": 16,
   "metadata": {},
   "outputs": [],
   "source": [
    "# Load and predict test dataset ratings\n",
    "\n",
    "testdf = load_test_data('./datasets/testing_data.csv')\n",
    "test_rating_matrix = np.zeros((user_categories.categories.size, item_categories.categories.size))\n",
    "\n",
    "test_user_ids = testdf['userId'].cat.codes\n",
    "test_item_ids = testdf['movieId'].cat.codes\n",
    "\n",
    "test_rating_matrix[test_user_ids, test_item_ids] = testdf['rating']\n",
    "\n",
    "predicted_test_ratings = np.dot(W, H)\n",
    "test_predicted_ratings = predicted_test_ratings[test_user_ids, test_item_ids]"
   ]
  },
  {
   "cell_type": "code",
   "execution_count": 17,
   "metadata": {},
   "outputs": [
    {
     "name": "stdout",
     "output_type": "stream",
     "text": [
      "Test RMSE: 3.159861399608862\n"
     ]
    }
   ],
   "source": [
    "# Calculate and print the test RMSE\n",
    "\n",
    "mse_test = mean_squared_error(testdf['rating'], test_predicted_ratings)\n",
    "rmse_test = sqrt(mse_test)\n",
    "print(\"Test RMSE:\", rmse_test)"
   ]
  }
 ],
 "metadata": {
  "kernelspec": {
   "display_name": "Python 3 (ipykernel)",
   "language": "python",
   "name": "python3"
  },
  "language_info": {
   "codemirror_mode": {
    "name": "ipython",
    "version": 3
   },
   "file_extension": ".py",
   "mimetype": "text/x-python",
   "name": "python",
   "nbconvert_exporter": "python",
   "pygments_lexer": "ipython3",
   "version": "3.11.5"
  }
 },
 "nbformat": 4,
 "nbformat_minor": 2
}
